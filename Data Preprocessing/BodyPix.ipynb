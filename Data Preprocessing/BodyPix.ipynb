{
 "cells": [
  {
   "cell_type": "raw",
   "id": "reserved-spelling",
   "metadata": {},
   "source": [
    "python -m tf_bodypix replace-background --source \"C:\\Wasif\\PD Motor Feature Extraction\\Facebook Body Segmentation\\dino-main\\input\\video2.mp4\" --background \"C:\\Wasif\\PD Motor Feature Extraction\\Facebook Body Segmentation\\dino-main\\input\\pure-black-background.jpg\" --output \"C:\\Wasif\\PD Motor Feature Extraction\\Facebook Body Segmentation\\dino-main\\output\\video2.jpg\" --threshold=0.35 --mask-blur=5"
   ]
  },
  {
   "cell_type": "code",
   "execution_count": 7,
   "id": "temporal-timeline",
   "metadata": {},
   "outputs": [
    {
     "data": {
      "text/plain": [
       "'C:\\\\Users\\\\Rochester\\\\Anaconda3\\\\envs\\\\park_motor\\\\lib\\\\site-packages\\\\tf_bodypix\\\\__init__.py'"
      ]
     },
     "execution_count": 7,
     "metadata": {},
     "output_type": "execute_result"
    }
   ],
   "source": [
    "tf_bodypix.__file__"
   ]
  },
  {
   "cell_type": "code",
   "execution_count": 8,
   "id": "backed-programming",
   "metadata": {},
   "outputs": [
    {
     "name": "stdout",
     "output_type": "stream",
     "text": [
      "0\n"
     ]
    }
   ],
   "source": [
    "import os\n",
    "\n",
    "input_folder = \"C:/Wasif/PDMotorFeatureExtraction/TemporalSegmentOutput/\"\n",
    "output_folder = \"C:/Wasif/PDMotorFeatureExtraction/BodyPixOutput/\"\n",
    "background_file = \"C:/Wasif/PDMotorFeatureExtraction/pure-black-background.jpg\"\n",
    "\n",
    "assert(os.path.exists(input_folder))\n",
    "if not os.path.exists(output_folder):\n",
    "    os.mkdir(output_folder)\n",
    "\n",
    "files = os.listdir(input_folder)\n",
    "\n",
    "error_files = []\n",
    "\n",
    "for f in files:\n",
    "    if \".mp4\" not in f:\n",
    "        continue\n",
    "    input_file = input_folder+f\n",
    "    \n",
    "    output_file = output_folder+\"temp.jpg\"\n",
    "    \n",
    "    if os.path.exists(os.path.join(output_folder,f)):\n",
    "        continue\n",
    "        \n",
    "    #error_files.append(input_file)\n",
    "    command = \"python -m tf_bodypix replace-background --source \\\"%s\\\" --background \\\"%s\\\" --output \\\"%s\\\" --threshold=0.35 --mask-blur=5\"%(input_file, background_file, output_file)\n",
    "    out = os.system(command)\n",
    "    if not out==0:\n",
    "        error_files.append(input_file)\n",
    "    print(out)\n",
    "#print(error_files)\n",
    "\n",
    "with open(os.path.join(output_folder,'errors.txt'), 'w') as f:\n",
    "    for item in error_files:\n",
    "        f.write(\"%s\\n\" % item)"
   ]
  },
  {
   "cell_type": "code",
   "execution_count": null,
   "id": "apart-craft",
   "metadata": {},
   "outputs": [],
   "source": []
  }
 ],
 "metadata": {
  "kernelspec": {
   "display_name": "Python 3",
   "language": "python",
   "name": "python3"
  },
  "language_info": {
   "codemirror_mode": {
    "name": "ipython",
    "version": 3
   },
   "file_extension": ".py",
   "mimetype": "text/x-python",
   "name": "python",
   "nbconvert_exporter": "python",
   "pygments_lexer": "ipython3",
   "version": "3.8.8"
  }
 },
 "nbformat": 4,
 "nbformat_minor": 5
}
