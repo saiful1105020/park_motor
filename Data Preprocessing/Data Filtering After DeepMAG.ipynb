{
 "cells": [
  {
   "cell_type": "code",
   "execution_count": 12,
   "id": "seventh-labor",
   "metadata": {},
   "outputs": [],
   "source": [
    "import os\n",
    "import sys\n",
    "import cv2\n",
    "import numpy as np\n",
    "import matplotlib.pyplot as plt\n",
    "\n",
    "INPUT_DIR = \"E:\\Wasif\\PDMotorFeatureExtraction\\DeepMAGOutput\"\n"
   ]
  },
  {
   "cell_type": "code",
   "execution_count": 13,
   "id": "competent-reduction",
   "metadata": {},
   "outputs": [],
   "source": [
    "import subprocess\n",
    "\n",
    "def get_length(filename):\n",
    "    result = subprocess.run([\"ffprobe\", \"-v\", \"error\", \"-show_entries\",\n",
    "                             \"format=duration\", \"-of\",\n",
    "                             \"default=noprint_wrappers=1:nokey=1\", filename],\n",
    "        stdout=subprocess.PIPE,\n",
    "        stderr=subprocess.STDOUT)\n",
    "    return float(result.stdout)"
   ]
  },
  {
   "cell_type": "code",
   "execution_count": 28,
   "id": "protective-firewall",
   "metadata": {},
   "outputs": [
    {
     "name": "stdout",
     "output_type": "stream",
     "text": [
      "31.066667\n",
      "2017-10-15T17-50-11-510Z32-task2-tempMag.avi\n",
      "81.066667\n",
      "2017-11-08T16-06-46-121Z23-task2-tempMag.avi\n",
      "34.066667\n",
      "2018-06-13T17-00-32-607Z78-task2-tempMag.avi\n",
      "42.066667\n",
      "2018-09-08T22-32-43-451Z27-task2-tempMag.avi\n",
      "52.066667\n",
      "2018-09-11T22-46-54-367Z34-task2-tempMag.avi\n",
      "32.066667\n",
      "2018-09-11T23-49-14-119Z44-task2-tempMag.avi\n",
      "48.066667\n",
      "2018-09-17T17-59-48-255Z2-task2-tempMag.avi\n",
      "30.066667\n",
      "2018-09-17T20-10-41-249Z82-task2-tempMag.avi\n",
      "46.066667\n",
      "2018-09-18T15-12-53-916Z71-task2-tempMag.avi\n",
      "36.066667\n",
      "2018-09-18T17-54-53-978Z39-task2-tempMag.avi\n",
      "38.066667\n",
      "2018-09-19T21-52-45-365Z76-task2-tempMag.avi\n",
      "31.066667\n",
      "2018-09-22T13-41-29-933Z95-task2-tempMag.avi\n",
      "36.066667\n",
      "2018-10-24T14-39-47-783Z89-task2-tempMag.avi\n",
      "30.066667\n",
      "2018-10-27T11-52-22-103Z8-task2-tempMag.avi\n",
      "32.066667\n",
      "2018-10-30T07-09-10-963Z46-task2-tempMag.avi\n",
      "34.066667\n",
      "2018-10-30T20-09-29-976Z87-task2-tempMag.avi\n",
      "34.066667\n",
      "2018-11-05T22-24-18-413Z71-task2-tempMag.avi\n",
      "32.066667\n",
      "2018-11-24T03-35-57-605Z8-task2-tempMag.avi\n",
      "32.066667\n",
      "2018-12-18T21-25-20-637Z46-task2-tempMag.avi\n",
      "51.066667\n",
      "2019-09-25T18-52-46-849Z28-task2-tempMag.avi\n",
      "33.066667\n",
      "2019-10-21T22-16-00-772Z35-task2-tempMag.avi\n",
      "54.066667\n",
      "2019-10-22T19-11-09-056Z21-task2-tempMag.avi\n",
      "63.066667\n",
      "2019-10-23T14-20-13-842Z37-task2-tempMag.avi\n",
      "44.066667\n",
      "2019-10-23T16-56-58-249Z86-task2-tempMag.avi\n",
      "33.0\n",
      "2020-01-22T15-03-30-601Z38-task2-tempMag.avi\n",
      "39.066667\n",
      "2020-01-23T19-50-43-657Z36-task2-tempMag.avi\n",
      "35.066667\n",
      "2020-01-30T04-26-32-004Z19-task2-tempMag.avi\n",
      "35.0\n",
      "2020-01-30T17-10-41-177Z90-task2-tempMag.avi\n",
      "32.066667\n",
      "2020-01-30T17-23-05-754Z58-task2-tempMag.avi\n",
      "31.0\n",
      "2020-01-31T15-20-38-944Z27-task2-tempMag.avi\n",
      "35.066667\n",
      "2020-02-08T02-25-40-569Z47-task2-tempMag.avi\n",
      "39.066667\n",
      "2020-02-09T21-05-04-767Z79-task2-tempMag.avi\n",
      "40.066667\n",
      "2020-02-18T08-04-00-840Z72-task2-tempMag.avi\n",
      "60.066667\n",
      "2020-02-21T15-50-44-481Z25-task2-tempMag.avi\n",
      "30.066667\n",
      "2020-02-26T15-17-21-263Z56-task2-tempMag.avi\n",
      "35.066667\n",
      "2020-02-28T18-38-54-409Z72-task2-tempMag.avi\n",
      "40.066667\n",
      "2020-02-28T19-12-39-701Z10-task2-tempMag.avi\n",
      "400.0\n",
      "2020-02-28T21-30-54-472Z47-task2-tempMag.avi\n",
      "30.066667\n",
      "2020-02-29T01-23-50-811Z81-task2-tempMag.avi\n",
      "43.066667\n",
      "2020-03-03T13-53-30-127Z45-task2-tempMag.avi\n",
      "65.066667\n",
      "2020-03-03T16-47-56-969Z100-task2-tempMag.avi\n",
      "31.066667\n",
      "2020-03-04T11-18-55-240Z68-task2-tempMag.avi\n",
      "30.066667\n",
      "2020-03-07T19-32-37-734Z79-task2-tempMag.avi\n",
      "47.066667\n",
      "2020-03-09T17-56-19-141Z99-task2-tempMag.avi\n",
      "33.066667\n",
      "2020-03-16T17-53-41-445Z14-task2-tempMag.avi\n",
      "31.066667\n",
      "2020-03-21T04-26-25-329Z58-task2-tempMag.avi\n",
      "42.066667\n",
      "2020-03-27T16-23-11-842Z52-task2-tempMag.avi\n",
      "34.066667\n",
      "2020-04-14T17-39-56-636Z58-task2-tempMag.avi\n",
      "42.066667\n",
      "2020-04-16T15-18-34-451Z77-task2-tempMag.avi\n",
      "34.066667\n",
      "2020-05-08T09-46-56-764Z90-task2-tempMag.avi\n",
      "30.066667\n",
      "2020-05-16T17-56-47-667Z46-task2-tempMag.avi\n",
      "33.066667\n",
      "2020-08-21T15-03-08-514Z67-task2-tempMag.avi\n",
      "39.066667\n",
      "NIHCM088YZYYM-task2-2019-10-07T13-38-34-628Z--tempMag.avi\n",
      "37.0\n",
      "NIHKH638RXUVN-task2-2020-02-03T14-56-40-382Z--tempMag.avi\n",
      "36.0\n",
      "NIHNJ141FAUKO-task2-2019-11-01T18-04-31-429Z--tempMag.avi\n",
      "33.066667\n",
      "NIHWE285XUFA2-task2-2019-10-14T14-37-36-142Z--tempMag.avi\n"
     ]
    }
   ],
   "source": [
    "durations= []\n",
    "for file in os.listdir(INPUT_DIR):\n",
    "    duration = get_length(os.path.join(INPUT_DIR,file))\n",
    "    durations.append(duration)\n",
    "    \n",
    "    if duration>=30.0:\n",
    "        print(duration)\n",
    "        print(file)"
   ]
  },
  {
   "cell_type": "code",
   "execution_count": 32,
   "id": "listed-african",
   "metadata": {},
   "outputs": [
    {
     "data": {
      "image/png": "[encoded data removed]",
      "text/plain": [
       "<Figure size 432x288 with 1 Axes>"
      ]
     },
     "metadata": {
      "needs_background": "light"
     },
     "output_type": "display_data"
    }
   ],
   "source": [
    "N_points = len(durations)\n",
    "n_bins = 20\n",
    "\n",
    "# Generate a normal distribution, center at x=0 and y=5\n",
    "#x = np.arange(1,N_points+1)\n",
    "\n",
    "#fig, axs = plt.subplots(1, 2, sharey=True, tight_layout=True)\n",
    "\n",
    "# We can set the number of bins with the `bins` kwarg\n",
    "#axs[0].hist(x, bins=n_bins)\n",
    "#plt.hist(durations, bins=n_bins, range=[240, 480])\n",
    "plt.hist(durations, bins=n_bins)\n",
    "plt.show()"
   ]
  },
  {
   "cell_type": "code",
   "execution_count": null,
   "id": "union-survival",
   "metadata": {},
   "outputs": [],
   "source": []
  }
 ],
 "metadata": {
  "kernelspec": {
   "display_name": "Python 3",
   "language": "python",
   "name": "python3"
  },
  "language_info": {
   "codemirror_mode": {
    "name": "ipython",
    "version": 3
   },
   "file_extension": ".py",
   "mimetype": "text/x-python",
   "name": "python",
   "nbconvert_exporter": "python",
   "pygments_lexer": "ipython3",
   "version": "3.8.8"
  }
 },
 "nbformat": 4,
 "nbformat_minor": 5
}
