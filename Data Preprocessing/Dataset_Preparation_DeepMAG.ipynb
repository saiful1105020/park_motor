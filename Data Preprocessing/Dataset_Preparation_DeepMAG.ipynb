{
 "cells": [
  {
   "cell_type": "code",
   "execution_count": 1,
   "id": "played-duncan",
   "metadata": {},
   "outputs": [],
   "source": [
    "import os\n",
    "import csv\n",
    "import pandas as pd\n",
    "import numpy as np\n",
    "import pickle\n",
    "\n",
    "INPUT_DIR = \"E:/Wasif/PDMotorFeatureExtraction/\"\n",
    "OUTPUT_DIR = \"E:/Wasif/PDMotorFeatureExtraction/Task2_features_deepMAG/\"\n",
    "\n",
    "assert(os.path.exists(INPUT_DIR))\n",
    "\n",
    "if not os.path.exists(OUTPUT_DIR):\n",
    "    os.mkdir(OUTPUT_DIR)\n",
    "    \n",
    "survey_file = \"survey_april 9th 2021.csv\"\n",
    "feature_file = \"DeepMAGFeatures/deepMAG_features.pickle\""
   ]
  },
  {
   "cell_type": "code",
   "execution_count": 2,
   "id": "mature-possibility",
   "metadata": {},
   "outputs": [],
   "source": [
    "def read_survey(list_columns):\n",
    "    survey_full_path = os.path.join(INPUT_DIR,survey_file)\n",
    "    data = pd.read_csv(survey_full_path)\n",
    "    #print(data.columns)\n",
    "    data = data[list_columns]\n",
    "    return data"
   ]
  },
  {
   "cell_type": "code",
   "execution_count": 3,
   "id": "british-narrative",
   "metadata": {},
   "outputs": [],
   "source": [
    "def read_features():\n",
    "    pickle_filename = os.path.join(INPUT_DIR,feature_file)\n",
    "    with open(pickle_filename, 'rb') as handle:\n",
    "        features = pickle.load(handle)\n",
    "    return features"
   ]
  },
  {
   "cell_type": "code",
   "execution_count": 4,
   "id": "light-performer",
   "metadata": {},
   "outputs": [],
   "source": [
    "survey_data = read_survey(['id','diagnosed','repeat'])\n",
    "features = read_features()"
   ]
  },
  {
   "cell_type": "code",
   "execution_count": 5,
   "id": "herbal-sunset",
   "metadata": {},
   "outputs": [
    {
     "name": "stdout",
     "output_type": "stream",
     "text": [
      "(762, 242192)\n",
      "(762,)\n"
     ]
    }
   ],
   "source": [
    "X = []\n",
    "Y = []\n",
    "X_ids = []\n",
    "\n",
    "for index, row in survey_data.iterrows():\n",
    "    if(row['repeat']!='yes'):\n",
    "        uid = row['id']\n",
    "        label = (row['diagnosed']=='yes')*1\n",
    "        \n",
    "        fid = uid+'-task2'\n",
    "        #link to dictionary\n",
    "        if fid in features.keys() and \"pixel_movements\" in features[fid].keys() and \"frequency_components\" in features[fid].keys():\n",
    "            x = np.concatenate((features[fid][\"pixel_movements\"].reshape((1,-1)),features[fid][\"frequency_components\"].reshape((1,-1))), axis=None)\n",
    "            y = label\n",
    "            \n",
    "            X.append(x)\n",
    "            Y.append(y)\n",
    "            X_ids.append(fid)\n",
    "\n",
    "X = np.asarray(X)\n",
    "Y = np.asarray(Y)\n",
    "\n",
    "print(X.shape)\n",
    "print(Y.shape)\n",
    "\n",
    "np.save(os.path.join(OUTPUT_DIR, 'x_repeat_removed_deepmag'),X)\n",
    "np.save(os.path.join(OUTPUT_DIR, 'y_repeat_removed_deepmag'),Y)\n",
    "\n",
    "with open(os.path.join(OUTPUT_DIR, 'index_repeat_removed.pickle'), 'wb') as filehandle:\n",
    "    pickle.dump(X_ids, filehandle)\n",
    "            \n",
    "#no_values = np.sum(data['repeat'] != 'yes')\n",
    "#print(no_values)\n",
    "\n",
    "#print(data.repeat.unique())\n",
    "#print(data.diagnosed.unique())\n",
    "#print(data.shape)\n",
    "#print(data.head())"
   ]
  },
  {
   "cell_type": "code",
   "execution_count": null,
   "id": "plastic-printer",
   "metadata": {},
   "outputs": [],
   "source": []
  }
 ],
 "metadata": {
  "kernelspec": {
   "display_name": "Python 3",
   "language": "python",
   "name": "python3"
  },
  "language_info": {
   "codemirror_mode": {
    "name": "ipython",
    "version": 3
   },
   "file_extension": ".py",
   "mimetype": "text/x-python",
   "name": "python",
   "nbconvert_exporter": "python",
   "pygments_lexer": "ipython3",
   "version": "3.8.8"
  }
 },
 "nbformat": 4,
 "nbformat_minor": 5
}
