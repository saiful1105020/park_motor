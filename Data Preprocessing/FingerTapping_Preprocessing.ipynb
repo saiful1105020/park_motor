{
 "cells": [
  {
   "cell_type": "code",
   "execution_count": 7,
   "metadata": {},
   "outputs": [],
   "source": [
    "import os\n",
    "\n",
    "input_folder = \"E:/Wasif/PD Motor Feature Extraction/Task2_All/\"\n",
    "output_folder = \"E:/Wasif/PD Motor Feature Extraction/Task2_15_resized/\""
   ]
  },
  {
   "cell_type": "code",
   "execution_count": 8,
   "metadata": {},
   "outputs": [],
   "source": [
    "if not os.path.exists(output_folder):\n",
    "    os.mkdir(output_folder)"
   ]
  },
  {
   "cell_type": "markdown",
   "metadata": {},
   "source": [
    "## Convert to 15 FPS"
   ]
  },
  {
   "cell_type": "code",
   "execution_count": null,
   "metadata": {},
   "outputs": [],
   "source": [
    "files = os.listdir(input_folder)\n",
    "for f in files:\n",
    "    if \".webm\" not in f:\n",
    "        continue\n",
    "    input_file = input_folder+f\n",
    "    output_file = output_folder+f[0:-5]+\"-temp.webm\"\n",
    "    \n",
    "    command = \"ffmpeg -y -r 15 -i \\\"%s\\\" \\\"%s\\\"\"%(input_file, output_file)\n",
    "    out = os.system(command)\n",
    "    print(out)"
   ]
  },
  {
   "cell_type": "markdown",
   "metadata": {},
   "source": [
    "## Convert webm to (256x256) and mp4"
   ]
  },
  {
   "cell_type": "code",
   "execution_count": null,
   "metadata": {},
   "outputs": [],
   "source": [
    "import os\n",
    "\n",
    "input_folder = \"E:/Wasif/PD Motor Feature Extraction/Task2_15_resized/\"\n",
    "output_folder = \"E:/Wasif/PD Motor Feature Extraction/Task2_15_resized_mp4/\"\n",
    "\n",
    "files = os.listdir(input_folder)\n",
    "for f in files:\n",
    "    if \".webm\" not in f:\n",
    "        continue\n",
    "    input_file = input_folder+f\n",
    "    output_file = output_folder+f[0:-5]+\".mp4\"\n",
    "    #output_file = output_folder+f\n",
    "    print(input_file)\n",
    "    print(output_file)\n",
    "    \n",
    "    #command: ffmpeg -i video.webm -c:v copy video.mp4\n",
    "        \n",
    "    command = \"ffmpeg -i \\\"%s\\\" -vf scale=256:256 \\\"%s\\\"\"%(input_file, output_file)\n",
    "    out = os.system(command)\n",
    "    print(out)\n",
    "    "
   ]
  },
  {
   "cell_type": "raw",
   "metadata": {},
   "source": [
    "##Get size and fps\n",
    "import cv2\n",
    "vcap = cv2.VideoCapture('E:/Wasif/PD Motor Feature Extraction/Task2_15_resized_mp4/2017-08-18T14-59-52-530Z49-task2-temp.webm')\n",
    "width = vcap.get(cv2.CAP_PROP_FRAME_WIDTH )\n",
    "height = vcap.get(cv2.CAP_PROP_FRAME_HEIGHT )\n",
    "fps =  vcap.get(cv2.CAP_PROP_FPS)"
   ]
  },
  {
   "cell_type": "code",
   "execution_count": 1,
   "metadata": {
    "collapsed": true
   },
   "outputs": [
    {
     "ename": "ImportError",
     "evalue": "Keras requires TensorFlow 2.2 or higher. Install TensorFlow via `pip install tensorflow`",
     "output_type": "error",
     "traceback": [
      "\u001b[1;31m---------------------------------------------------------------------------\u001b[0m",
      "\u001b[1;31mModuleNotFoundError\u001b[0m                       Traceback (most recent call last)",
      "\u001b[1;32m~\\Anaconda3\\envs\\park_motor\\lib\\site-packages\\keras\\__init__.py\u001b[0m in \u001b[0;36m<module>\u001b[1;34m\u001b[0m\n\u001b[0;32m      2\u001b[0m \u001b[1;32mtry\u001b[0m\u001b[1;33m:\u001b[0m\u001b[1;33m\u001b[0m\u001b[1;33m\u001b[0m\u001b[0m\n\u001b[1;32m----> 3\u001b[1;33m     \u001b[1;32mfrom\u001b[0m \u001b[0mtensorflow\u001b[0m\u001b[1;33m.\u001b[0m\u001b[0mkeras\u001b[0m\u001b[1;33m.\u001b[0m\u001b[0mlayers\u001b[0m\u001b[1;33m.\u001b[0m\u001b[0mexperimental\u001b[0m\u001b[1;33m.\u001b[0m\u001b[0mpreprocessing\u001b[0m \u001b[1;32mimport\u001b[0m \u001b[0mRandomRotation\u001b[0m\u001b[1;33m\u001b[0m\u001b[1;33m\u001b[0m\u001b[0m\n\u001b[0m\u001b[0;32m      4\u001b[0m \u001b[1;32mexcept\u001b[0m \u001b[0mImportError\u001b[0m\u001b[1;33m:\u001b[0m\u001b[1;33m\u001b[0m\u001b[1;33m\u001b[0m\u001b[0m\n",
      "\u001b[1;31mModuleNotFoundError\u001b[0m: No module named 'tensorflow'",
      "\nDuring handling of the above exception, another exception occurred:\n",
      "\u001b[1;31mImportError\u001b[0m                               Traceback (most recent call last)",
      "\u001b[1;32m<ipython-input-1-88d96843a926>\u001b[0m in \u001b[0;36m<module>\u001b[1;34m\u001b[0m\n\u001b[1;32m----> 1\u001b[1;33m \u001b[1;32mimport\u001b[0m \u001b[0mkeras\u001b[0m\u001b[1;33m\u001b[0m\u001b[1;33m\u001b[0m\u001b[0m\n\u001b[0m",
      "\u001b[1;32m~\\Anaconda3\\envs\\park_motor\\lib\\site-packages\\keras\\__init__.py\u001b[0m in \u001b[0;36m<module>\u001b[1;34m\u001b[0m\n\u001b[0;32m      3\u001b[0m     \u001b[1;32mfrom\u001b[0m \u001b[0mtensorflow\u001b[0m\u001b[1;33m.\u001b[0m\u001b[0mkeras\u001b[0m\u001b[1;33m.\u001b[0m\u001b[0mlayers\u001b[0m\u001b[1;33m.\u001b[0m\u001b[0mexperimental\u001b[0m\u001b[1;33m.\u001b[0m\u001b[0mpreprocessing\u001b[0m \u001b[1;32mimport\u001b[0m \u001b[0mRandomRotation\u001b[0m\u001b[1;33m\u001b[0m\u001b[1;33m\u001b[0m\u001b[0m\n\u001b[0;32m      4\u001b[0m \u001b[1;32mexcept\u001b[0m \u001b[0mImportError\u001b[0m\u001b[1;33m:\u001b[0m\u001b[1;33m\u001b[0m\u001b[1;33m\u001b[0m\u001b[0m\n\u001b[1;32m----> 5\u001b[1;33m     raise ImportError(\n\u001b[0m\u001b[0;32m      6\u001b[0m         \u001b[1;34m'Keras requires TensorFlow 2.2 or higher. '\u001b[0m\u001b[1;33m\u001b[0m\u001b[1;33m\u001b[0m\u001b[0m\n\u001b[0;32m      7\u001b[0m         'Install TensorFlow via `pip install tensorflow`')\n",
      "\u001b[1;31mImportError\u001b[0m: Keras requires TensorFlow 2.2 or higher. Install TensorFlow via `pip install tensorflow`"
     ]
    }
   ],
   "source": [
    "import keras"
   ]
  },
  {
   "cell_type": "markdown",
   "metadata": {},
   "source": [
    "# Background removal\n",
    "Did not work, we used Google's bodypix later"
   ]
  },
  {
   "cell_type": "raw",
   "metadata": {},
   "source": [
    "import pixellib\n",
    "from pixellib.tune_bg import alter_bg\n",
    "import os\n",
    "\n",
    "change_bg = alter_bg(model_type = \"pb\")\n",
    "change_bg.load_pascalvoc_model(\"xception_pascalvoc.pb\")\n",
    "\n",
    "input_folder = \"./Task2_15_resized_mp4/\"\n",
    "output_folder = \"./Background_removed_output/\"\n",
    "\n",
    "\n",
    "files = os.listdir(input_folder)\n",
    "for f in files:\n",
    "   \n",
    "    input_file = input_folder+f\n",
    "    output_file = output_folder+f\n",
    "    \n",
    "    if os.path.exists(output_file):\n",
    "        continue\n",
    "    #output_file = output_folder+f\n",
    "    print(input_file)\n",
    "    print(output_file)\n",
    "    change_bg.color_video(input_file, colors = (255,255,255), frames_per_second=15, output_video_name=output_file, \n",
    " detect = \"person\")"
   ]
  },
  {
   "cell_type": "code",
   "execution_count": null,
   "metadata": {},
   "outputs": [],
   "source": []
  }
 ],
 "metadata": {
  "kernelspec": {
   "display_name": "Python 3",
   "language": "python",
   "name": "python3"
  },
  "language_info": {
   "codemirror_mode": {
    "name": "ipython",
    "version": 3
   },
   "file_extension": ".py",
   "mimetype": "text/x-python",
   "name": "python",
   "nbconvert_exporter": "python",
   "pygments_lexer": "ipython3",
   "version": "3.8.8"
  }
 },
 "nbformat": 4,
 "nbformat_minor": 2
}
