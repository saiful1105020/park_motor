{
 "cells": [
  {
   "cell_type": "code",
   "execution_count": 1,
   "id": "following-drunk",
   "metadata": {},
   "outputs": [],
   "source": [
    "import pandas as pd\n",
    "import os\n",
    "import math\n",
    "import time\n",
    "from moviepy.video.io.ffmpeg_tools import ffmpeg_extract_subclip\n",
    "import traceback\n",
    "import cv2\n",
    "import subprocess\n",
    "#from moviepy.editor import VideoFileClip\n",
    "import shutil\n",
    "from moviepy.video.io.VideoFileClip import VideoFileClip"
   ]
  },
  {
   "cell_type": "markdown",
   "id": "special-conducting",
   "metadata": {},
   "source": [
    "## Step 1: Separate Left and Right Hand Video Segments"
   ]
  },
  {
   "cell_type": "raw",
   "id": "congressional-motor",
   "metadata": {},
   "source": [
    "For the finger tapping task, we manually annotated which part belongs to left hand and which one belongs to right. \n",
    "The annotation is in an excel/csv file. In this step, we will split the videos into left and right using the excel sheet."
   ]
  },
  {
   "cell_type": "code",
   "execution_count": 2,
   "id": "acknowledged-shanghai",
   "metadata": {},
   "outputs": [],
   "source": [
    "def create_directory(file_path):\n",
    "    '''\n",
    "    Create a directory if it does not exist.\n",
    "    Create parent directories as well if necessary.\n",
    "    '''\n",
    "    if os.path.exists(file_path):\n",
    "        return\n",
    "    \n",
    "    parent = os.path.dirname(file_path)\n",
    "    \n",
    "    if os.path.exists(parent):\n",
    "        os.mkdir(file_path)\n",
    "        return\n",
    "    \n",
    "    create_directory(parent)\n",
    "    os.mkdir(file_path)\n",
    "    return\n",
    "\n",
    "def remove_and_clear_directory(file_path):\n",
    "    shutil.rmtree(file_path)\n",
    "\n",
    "def number_to_time(time_in_fraction):\n",
    "    '''\n",
    "    input: 0.45 = 45 seconds\n",
    "    output: 00:00:45 (hh:mm:ss)\n",
    "    '''\n",
    "    seconds = round(time_in_fraction*100,2)\n",
    "    assert(seconds<60)\n",
    "    if seconds<10:\n",
    "        time = \"00:00:0\"+str(seconds)\n",
    "    else:\n",
    "        time = \"00:00:\"+str(seconds)\n",
    "    return time"
   ]
  },
  {
   "cell_type": "code",
   "execution_count": 3,
   "id": "decreased-stockholm",
   "metadata": {},
   "outputs": [],
   "source": [
    "def video_properties(file_path):\n",
    "    '''\n",
    "    Given a file path, returns the following:\n",
    "    duration (in seconds)\n",
    "    '''\n",
    "    vidcapture = cv2.VideoCapture(file_path)\n",
    "    fps = vidcapture.get(cv2.CAP_PROP_FPS)\n",
    "    totalNoFrames = vidcapture.get(cv2.CAP_PROP_FRAME_COUNT);\n",
    "    durationInSeconds = float(totalNoFrames) / float(fps)\n",
    "    return durationInSeconds"
   ]
  },
  {
   "cell_type": "code",
   "execution_count": 4,
   "id": "right-contact",
   "metadata": {},
   "outputs": [],
   "source": [
    "#Read Excel Sheet\n",
    "INPUT_LR_SPLIT_FILE = \"E:/Saiful/park_motor/LeftRight/data/right_left_label.csv\"\n",
    "#Original Task2 Videos\n",
    "INPUT_TASK2_VIDEOS = \"E:/Saiful/park_motor/Task2_All\"\n",
    "\n",
    "remove_and_clear_directory(\"E:/Saiful/park_motor/LeftRight/Task2_Videos/\")\n",
    "\n",
    "#This is where separated videos will go\n",
    "OUTPUT_LEFT_VIDEOS = \"E:/Saiful/park_motor/LeftRight/Task2_Videos/Left\"\n",
    "OUTPUT_RIGHT_VIDEOS = \"E:/Saiful/park_motor/LeftRight/Task2_Videos/Right\"\n",
    "\n",
    "#Create directories (full path if needed) if not present\n",
    "create_directory(OUTPUT_LEFT_VIDEOS)\n",
    "create_directory(OUTPUT_RIGHT_VIDEOS)\n",
    "\n",
    "error_files = []\n",
    "\n",
    "temp_dir = os.path.join(OUTPUT_LEFT_VIDEOS, \"temp\")\n",
    "create_directory(temp_dir)"
   ]
  },
  {
   "cell_type": "code",
   "execution_count": null,
   "id": "neutral-bearing",
   "metadata": {},
   "outputs": [
    {
     "name": "stdout",
     "output_type": "stream",
     "text": [
      "Left 0.020000 to 0.080000, Right 0.080000 to 0.160000\n",
      "0\n"
     ]
    },
    {
     "name": "stderr",
     "output_type": "stream",
     "text": [
      "\r",
      "t:   0%|                                                                            | 0/7000 [00:00<?, ?it/s, now=None]"
     ]
    },
    {
     "name": "stdout",
     "output_type": "stream",
     "text": [
      "Moviepy - Building video E:/Saiful/park_motor/LeftRight/Task2_Videos/Left\\2017-08-18T14-59-52-530Z49-task2-left.mp4.\n",
      "Moviepy - Writing video E:/Saiful/park_motor/LeftRight/Task2_Videos/Left\\2017-08-18T14-59-52-530Z49-task2-left.mp4\n",
      "\n"
     ]
    },
    {
     "name": "stderr",
     "output_type": "stream",
     "text": [
      "                                                                                                                       \r"
     ]
    },
    {
     "name": "stdout",
     "output_type": "stream",
     "text": [
      "Moviepy - Done !\n",
      "Moviepy - video ready E:/Saiful/park_motor/LeftRight/Task2_Videos/Left\\2017-08-18T14-59-52-530Z49-task2-left.mp4\n"
     ]
    },
    {
     "name": "stderr",
     "output_type": "stream",
     "text": [
      "\r",
      "t:   0%|                                                                            | 0/9000 [00:00<?, ?it/s, now=None]"
     ]
    },
    {
     "name": "stdout",
     "output_type": "stream",
     "text": [
      "Moviepy - Building video E:/Saiful/park_motor/LeftRight/Task2_Videos/Right\\2017-08-18T14-59-52-530Z49-task2-right.mp4.\n",
      "Moviepy - Writing video E:/Saiful/park_motor/LeftRight/Task2_Videos/Right\\2017-08-18T14-59-52-530Z49-task2-right.mp4\n",
      "\n"
     ]
    },
    {
     "name": "stderr",
     "output_type": "stream",
     "text": [
      "                                                                                                                       \r"
     ]
    },
    {
     "name": "stdout",
     "output_type": "stream",
     "text": [
      "Moviepy - Done !\n",
      "Moviepy - video ready E:/Saiful/park_motor/LeftRight/Task2_Videos/Right\\2017-08-18T14-59-52-530Z49-task2-right.mp4\n",
      "Attempted 2, success 2, failed 0 \n",
      "\n",
      "Left 0.110000 to 0.280000, Right 0.000000 to 0.110000\n",
      "0\n"
     ]
    },
    {
     "name": "stderr",
     "output_type": "stream",
     "text": [
      "\r",
      "t:   0%|                                                                             | 0/274 [00:00<?, ?it/s, now=None]"
     ]
    },
    {
     "name": "stdout",
     "output_type": "stream",
     "text": [
      "Moviepy - Building video E:/Saiful/park_motor/LeftRight/Task2_Videos/Left\\2017-08-18T15-24-14-004Z53-task2-left.mp4.\n",
      "Moviepy - Writing video E:/Saiful/park_motor/LeftRight/Task2_Videos/Left\\2017-08-18T15-24-14-004Z53-task2-left.mp4\n",
      "\n"
     ]
    },
    {
     "name": "stderr",
     "output_type": "stream",
     "text": [
      "                                                                                                                       \r"
     ]
    },
    {
     "name": "stdout",
     "output_type": "stream",
     "text": [
      "Moviepy - Done !\n",
      "Moviepy - video ready E:/Saiful/park_motor/LeftRight/Task2_Videos/Left\\2017-08-18T15-24-14-004Z53-task2-left.mp4\n"
     ]
    },
    {
     "name": "stderr",
     "output_type": "stream",
     "text": [
      "\r",
      "t:   0%|                                                                             | 0/183 [00:00<?, ?it/s, now=None]"
     ]
    },
    {
     "name": "stdout",
     "output_type": "stream",
     "text": [
      "Moviepy - Building video E:/Saiful/park_motor/LeftRight/Task2_Videos/Right\\2017-08-18T15-24-14-004Z53-task2-right.mp4.\n",
      "Moviepy - Writing video E:/Saiful/park_motor/LeftRight/Task2_Videos/Right\\2017-08-18T15-24-14-004Z53-task2-right.mp4\n",
      "\n"
     ]
    },
    {
     "name": "stderr",
     "output_type": "stream",
     "text": [
      "                                                                                                                       \r"
     ]
    },
    {
     "name": "stdout",
     "output_type": "stream",
     "text": [
      "Moviepy - Done !\n",
      "Moviepy - video ready E:/Saiful/park_motor/LeftRight/Task2_Videos/Right\\2017-08-18T15-24-14-004Z53-task2-right.mp4\n",
      "Attempted 4, success 4, failed 0 \n",
      "\n",
      "Left 0.000000 to 0.050000, Right 0.050000 to 0.110000\n",
      "0\n"
     ]
    },
    {
     "name": "stderr",
     "output_type": "stream",
     "text": [
      "\r",
      "t:   0%|                                                                             | 0/180 [00:00<?, ?it/s, now=None]"
     ]
    },
    {
     "name": "stdout",
     "output_type": "stream",
     "text": [
      "Moviepy - Building video E:/Saiful/park_motor/LeftRight/Task2_Videos/Left\\2017-08-22T02-01-21-948Z87-task2-left.mp4.\n",
      "Moviepy - Writing video E:/Saiful/park_motor/LeftRight/Task2_Videos/Left\\2017-08-22T02-01-21-948Z87-task2-left.mp4\n",
      "\n"
     ]
    },
    {
     "name": "stderr",
     "output_type": "stream",
     "text": [
      "                                                                                                                       \r"
     ]
    },
    {
     "name": "stdout",
     "output_type": "stream",
     "text": [
      "Moviepy - Done !\n",
      "Moviepy - video ready E:/Saiful/park_motor/LeftRight/Task2_Videos/Left\\2017-08-22T02-01-21-948Z87-task2-left.mp4\n"
     ]
    },
    {
     "name": "stderr",
     "output_type": "stream",
     "text": [
      "\r",
      "t:   0%|                                                                             | 0/210 [00:00<?, ?it/s, now=None]"
     ]
    },
    {
     "name": "stdout",
     "output_type": "stream",
     "text": [
      "Moviepy - Building video E:/Saiful/park_motor/LeftRight/Task2_Videos/Right\\2017-08-22T02-01-21-948Z87-task2-right.mp4.\n",
      "Moviepy - Writing video E:/Saiful/park_motor/LeftRight/Task2_Videos/Right\\2017-08-22T02-01-21-948Z87-task2-right.mp4\n",
      "\n"
     ]
    },
    {
     "name": "stderr",
     "output_type": "stream",
     "text": [
      "                                                                                                                       \r"
     ]
    },
    {
     "name": "stdout",
     "output_type": "stream",
     "text": [
      "Moviepy - Done !\n",
      "Moviepy - video ready E:/Saiful/park_motor/LeftRight/Task2_Videos/Right\\2017-08-22T02-01-21-948Z87-task2-right.mp4\n",
      "Attempted 6, success 6, failed 0 \n",
      "\n",
      "Left 0.040000 to 0.080000, Right 0.000000 to 0.040000\n",
      "0\n"
     ]
    },
    {
     "name": "stderr",
     "output_type": "stream",
     "text": [
      "\r",
      "t:   0%|                                                                             | 0/150 [00:00<?, ?it/s, now=None]"
     ]
    },
    {
     "name": "stdout",
     "output_type": "stream",
     "text": [
      "Moviepy - Building video E:/Saiful/park_motor/LeftRight/Task2_Videos/Left\\2017-09-22T18-38-44-872Z33-task2-left.mp4.\n",
      "Moviepy - Writing video E:/Saiful/park_motor/LeftRight/Task2_Videos/Left\\2017-09-22T18-38-44-872Z33-task2-left.mp4\n",
      "\n"
     ]
    },
    {
     "name": "stderr",
     "output_type": "stream",
     "text": [
      "                                                                                                                       \r"
     ]
    },
    {
     "name": "stdout",
     "output_type": "stream",
     "text": [
      "Moviepy - Done !\n",
      "Moviepy - video ready E:/Saiful/park_motor/LeftRight/Task2_Videos/Left\\2017-09-22T18-38-44-872Z33-task2-left.mp4\n"
     ]
    },
    {
     "name": "stderr",
     "output_type": "stream",
     "text": [
      "\r",
      "t:   0%|                                                                             | 0/150 [00:00<?, ?it/s, now=None]"
     ]
    },
    {
     "name": "stdout",
     "output_type": "stream",
     "text": [
      "Moviepy - Building video E:/Saiful/park_motor/LeftRight/Task2_Videos/Right\\2017-09-22T18-38-44-872Z33-task2-right.mp4.\n",
      "Moviepy - Writing video E:/Saiful/park_motor/LeftRight/Task2_Videos/Right\\2017-09-22T18-38-44-872Z33-task2-right.mp4\n",
      "\n"
     ]
    },
    {
     "name": "stderr",
     "output_type": "stream",
     "text": [
      "                                                                                                                       \r"
     ]
    },
    {
     "name": "stdout",
     "output_type": "stream",
     "text": [
      "Moviepy - Done !\n",
      "Moviepy - video ready E:/Saiful/park_motor/LeftRight/Task2_Videos/Right\\2017-09-22T18-38-44-872Z33-task2-right.mp4\n",
      "Attempted 8, success 8, failed 0 \n",
      "\n",
      "Left 0.030000 to 0.090000, Right 0.000000 to 0.030000\n",
      "0\n"
     ]
    },
    {
     "name": "stderr",
     "output_type": "stream",
     "text": [
      "\r",
      "t:   0%|                                                                            | 0/7000 [00:00<?, ?it/s, now=None]"
     ]
    },
    {
     "name": "stdout",
     "output_type": "stream",
     "text": [
      "Moviepy - Building video E:/Saiful/park_motor/LeftRight/Task2_Videos/Left\\2017-09-28T14-17-07-280Z18-task2-left.mp4.\n",
      "Moviepy - Writing video E:/Saiful/park_motor/LeftRight/Task2_Videos/Left\\2017-09-28T14-17-07-280Z18-task2-left.mp4\n",
      "\n"
     ]
    },
    {
     "name": "stderr",
     "output_type": "stream",
     "text": [
      "                                                                                                                       \r"
     ]
    },
    {
     "name": "stdout",
     "output_type": "stream",
     "text": [
      "Moviepy - Done !\n",
      "Moviepy - video ready E:/Saiful/park_motor/LeftRight/Task2_Videos/Left\\2017-09-28T14-17-07-280Z18-task2-left.mp4\n"
     ]
    },
    {
     "name": "stderr",
     "output_type": "stream",
     "text": [
      "\r",
      "t:   0%|                                                                            | 0/4000 [00:00<?, ?it/s, now=None]"
     ]
    },
    {
     "name": "stdout",
     "output_type": "stream",
     "text": [
      "Moviepy - Building video E:/Saiful/park_motor/LeftRight/Task2_Videos/Right\\2017-09-28T14-17-07-280Z18-task2-right.mp4.\n",
      "Moviepy - Writing video E:/Saiful/park_motor/LeftRight/Task2_Videos/Right\\2017-09-28T14-17-07-280Z18-task2-right.mp4\n",
      "\n"
     ]
    },
    {
     "name": "stderr",
     "output_type": "stream",
     "text": [
      "                                                                                                                       \r"
     ]
    },
    {
     "name": "stdout",
     "output_type": "stream",
     "text": [
      "Moviepy - Done !\n",
      "Moviepy - video ready E:/Saiful/park_motor/LeftRight/Task2_Videos/Right\\2017-09-28T14-17-07-280Z18-task2-right.mp4\n",
      "Attempted 10, success 10, failed 0 \n",
      "\n",
      "Left 0.040000 to 0.110000, Right 0.000000 to 0.040000\n",
      "0\n"
     ]
    },
    {
     "name": "stderr",
     "output_type": "stream",
     "text": [
      "\r",
      "t:   0%|                                                                            | 0/8000 [00:00<?, ?it/s, now=None]"
     ]
    },
    {
     "name": "stdout",
     "output_type": "stream",
     "text": [
      "Moviepy - Building video E:/Saiful/park_motor/LeftRight/Task2_Videos/Left\\2017-10-04T14-04-32-851Z2-task2-left.mp4.\n",
      "Moviepy - Writing video E:/Saiful/park_motor/LeftRight/Task2_Videos/Left\\2017-10-04T14-04-32-851Z2-task2-left.mp4\n",
      "\n"
     ]
    },
    {
     "name": "stderr",
     "output_type": "stream",
     "text": [
      "                                                                                                                       \r"
     ]
    },
    {
     "name": "stdout",
     "output_type": "stream",
     "text": [
      "Moviepy - Done !\n",
      "Moviepy - video ready E:/Saiful/park_motor/LeftRight/Task2_Videos/Left\\2017-10-04T14-04-32-851Z2-task2-left.mp4\n"
     ]
    },
    {
     "name": "stderr",
     "output_type": "stream",
     "text": [
      "\r",
      "t:   0%|                                                                            | 0/5000 [00:00<?, ?it/s, now=None]"
     ]
    },
    {
     "name": "stdout",
     "output_type": "stream",
     "text": [
      "Moviepy - Building video E:/Saiful/park_motor/LeftRight/Task2_Videos/Right\\2017-10-04T14-04-32-851Z2-task2-right.mp4.\n",
      "Moviepy - Writing video E:/Saiful/park_motor/LeftRight/Task2_Videos/Right\\2017-10-04T14-04-32-851Z2-task2-right.mp4\n",
      "\n"
     ]
    },
    {
     "name": "stderr",
     "output_type": "stream",
     "text": [
      "                                                                                                                       \r"
     ]
    },
    {
     "name": "stdout",
     "output_type": "stream",
     "text": [
      "Moviepy - Done !\n",
      "Moviepy - video ready E:/Saiful/park_motor/LeftRight/Task2_Videos/Right\\2017-10-04T14-04-32-851Z2-task2-right.mp4\n",
      "Attempted 12, success 12, failed 0 \n",
      "\n",
      "Left 0.000000 to 0.050000, Right 0.050000 to 0.110000\n",
      "0\n"
     ]
    },
    {
     "name": "stderr",
     "output_type": "stream",
     "text": [
      "\r",
      "t:   0%|                                                                            | 0/6000 [00:00<?, ?it/s, now=None]"
     ]
    },
    {
     "name": "stdout",
     "output_type": "stream",
     "text": [
      "Moviepy - Building video E:/Saiful/park_motor/LeftRight/Task2_Videos/Left\\2017-10-10T21-15-21-095Z89-task2-left.mp4.\n",
      "Moviepy - Writing video E:/Saiful/park_motor/LeftRight/Task2_Videos/Left\\2017-10-10T21-15-21-095Z89-task2-left.mp4\n",
      "\n"
     ]
    },
    {
     "name": "stderr",
     "output_type": "stream",
     "text": [
      "                                                                                                                       \r"
     ]
    },
    {
     "name": "stdout",
     "output_type": "stream",
     "text": [
      "Moviepy - Done !\n",
      "Moviepy - video ready E:/Saiful/park_motor/LeftRight/Task2_Videos/Left\\2017-10-10T21-15-21-095Z89-task2-left.mp4\n"
     ]
    },
    {
     "name": "stderr",
     "output_type": "stream",
     "text": [
      "\r",
      "t:   0%|                                                                            | 0/7000 [00:00<?, ?it/s, now=None]"
     ]
    },
    {
     "name": "stdout",
     "output_type": "stream",
     "text": [
      "Moviepy - Building video E:/Saiful/park_motor/LeftRight/Task2_Videos/Right\\2017-10-10T21-15-21-095Z89-task2-right.mp4.\n",
      "Moviepy - Writing video E:/Saiful/park_motor/LeftRight/Task2_Videos/Right\\2017-10-10T21-15-21-095Z89-task2-right.mp4\n",
      "\n"
     ]
    },
    {
     "name": "stderr",
     "output_type": "stream",
     "text": [
      "                                                                                                                       \r"
     ]
    },
    {
     "name": "stdout",
     "output_type": "stream",
     "text": [
      "Moviepy - Done !\n",
      "Moviepy - video ready E:/Saiful/park_motor/LeftRight/Task2_Videos/Right\\2017-10-10T21-15-21-095Z89-task2-right.mp4\n",
      "Attempted 14, success 14, failed 0 \n",
      "\n",
      "Left 0.030000 to 0.090000, Right 0.000000 to 0.030000\n",
      "0\n"
     ]
    }
   ],
   "source": [
    "success = 0\n",
    "failed = 0\n",
    "\n",
    "test_count = 0\n",
    "\n",
    "df = pd.read_csv(INPUT_LR_SPLIT_FILE)\n",
    "for index, row in df.iterrows():\n",
    "    \n",
    "    filename = row[\"File_name\"]\n",
    "    left_start = row[\"left_begin\"]\n",
    "    left_end = row[\"left_end\"]\n",
    "    right_start = row[\" right_begin\"]\n",
    "    right_end = row[\"right_end\"]\n",
    "    \n",
    "    print(\"Left %f to %f, Right %f to %f\"%(left_start, left_end, right_start, right_end))\n",
    "    \n",
    "    input_file_path = os.path.join(INPUT_TASK2_VIDEOS, filename)\n",
    "    #Make sure it exists\n",
    "    assert(os.path.exists(input_file_path))\n",
    "    \n",
    "    #Read duration of the video\n",
    "    #duration = video_properties(input_file_path)\n",
    "    #print(\"Duration of webm %f\"%(duration))\n",
    "    \n",
    "    output_left_filename = filename[:-5]+\"-left\"+\".mp4\"\n",
    "    output_right_filename = filename[:-5]+\"-right\"+\".mp4\"\n",
    "    \n",
    "    output_left_path = os.path.join(OUTPUT_LEFT_VIDEOS, output_left_filename)\n",
    "    output_right_path = os.path.join(OUTPUT_RIGHT_VIDEOS, output_right_filename)\n",
    "    \n",
    "    \n",
    "    temp_output_file = filename[:-5]+\"-temp\"+\".mp4\"\n",
    "    temp_path = os.path.join(temp_dir, temp_output_file)\n",
    "    \n",
    "    #Resize to 256x256, convert to mp4\n",
    "    command = \"ffmpeg -i \\\"%s\\\" -vf scale=256:256 \\\"%s\\\"\"%(input_file_path, temp_path)\n",
    "    out1 = os.system(command)\n",
    "    print(out1)\n",
    "    \n",
    "    #Read duration of the converted video\n",
    "    #duration_converted = video_properties(temp_path)\n",
    "    #print(\"Duration of resized mp4 %f\"%(duration))\n",
    "    #assert duration==duration_converted\n",
    "    \n",
    "    if out1!=0:\n",
    "        print(\"MP3 conversion error\")\n",
    "        print(command)\n",
    "        error_files.append(output_left_path)\n",
    "        error_files.append(output_right_path)\n",
    "        failed +=2\n",
    "    else:\n",
    "        time.sleep(2)\n",
    "    #Sample command to cut video by time\n",
    "    #ffmpeg -i \"E:/Saiful/park_motor/Task2_All/2017-08-18T14-59-52-530Z49-task2.webm\" -ss 00:00:03 -t 00:00:08 -async 1 -c copy \"E:/Saiful/park_motor/LeftRight/Task2_Videos/Test/test.webm\"\n",
    "    \n",
    "    if out1==0 and (left_start!=(-1.0)) and (left_end!=(-1.0)):\n",
    "        #Clip left part\n",
    "        if not os.path.exists(output_left_path):\n",
    "            #left_start_time = number_to_time(left_start)\n",
    "            #left_end_time = number_to_time(left_end)\n",
    "            left_start_time = left_start*100\n",
    "            left_end_time = (left_end*100)+1\n",
    "            try:\n",
    "                with VideoFileClip(temp_path) as video:\n",
    "                    new = video.subclip(left_start_time, left_end_time)\n",
    "                    new.write_videofile(output_left_path, audio_codec='aac')\n",
    "                    \n",
    "                #ffmpeg_extract_subclip(temp_path, left_start_time, left_end_time, targetname=output_left_path)\n",
    "                time.sleep(2)\n",
    "                success +=1\n",
    "                \n",
    "            except Exception:\n",
    "                failed +=1\n",
    "                error_files.append(output_left_path)\n",
    "                traceback.print_exc()\n",
    "            \n",
    "        \n",
    "    if out1==0 and (right_start!=(-1.0)) and (right_end!=(-1.0)):\n",
    "        #Clip right part\n",
    "        if not os.path.exists(output_right_path):\n",
    "            #right_start_time = number_to_time(right_start)\n",
    "            #right_end_time = number_to_time(right_end)\n",
    "            right_start_time = right_start*100\n",
    "            right_end_time = (right_end*100)+1\n",
    "            \n",
    "            try:\n",
    "                with VideoFileClip(temp_path) as video:\n",
    "                    new = video.subclip(right_start_time, right_end_time)\n",
    "                    new.write_videofile(output_right_path, audio_codec='aac')\n",
    "                \n",
    "                #ffmpeg_extract_subclip(temp_path, right_start_time, right_end_time, targetname=output_right_path)\n",
    "                time.sleep(2)\n",
    "                success +=1\n",
    "            except Exception:\n",
    "                failed +=1\n",
    "                error_files.append(output_right_path)\n",
    "                traceback.print_exc()\n",
    "                \n",
    "    print(\"Attempted %d, success %d, failed %d \\n\"%((failed+success), success, failed))\n",
    "    \n",
    "    '''Test code'''\n",
    "    #test_count +=1\n",
    "    #if test_count==10:\n",
    "    #    break"
   ]
  },
  {
   "cell_type": "code",
   "execution_count": null,
   "id": "metallic-warrior",
   "metadata": {},
   "outputs": [],
   "source": [
    "with open('E:/Saiful/park_motor/LeftRight/errors.txt', 'w') as f:\n",
    "    for item in error_files:\n",
    "        f.write(\"%s\\n\" % item)"
   ]
  },
  {
   "cell_type": "code",
   "execution_count": null,
   "id": "sufficient-grammar",
   "metadata": {},
   "outputs": [],
   "source": []
  }
 ],
 "metadata": {
  "kernelspec": {
   "display_name": "Python 3",
   "language": "python",
   "name": "python3"
  },
  "language_info": {
   "codemirror_mode": {
    "name": "ipython",
    "version": 3
   },
   "file_extension": ".py",
   "mimetype": "text/x-python",
   "name": "python",
   "nbconvert_exporter": "python",
   "pygments_lexer": "ipython3",
   "version": "3.8.8"
  }
 },
 "nbformat": 4,
 "nbformat_minor": 5
}
