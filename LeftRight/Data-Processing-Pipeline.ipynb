{
 "cells": [
  {
   "cell_type": "code",
   "execution_count": 1,
   "id": "following-drunk",
   "metadata": {},
   "outputs": [],
   "source": [
    "import pandas as pd\n",
    "import os\n",
    "import math\n",
    "import time\n",
    "from moviepy.video.io.ffmpeg_tools import ffmpeg_extract_subclip\n",
    "import traceback\n",
    "import cv2\n",
    "import subprocess\n",
    "#from moviepy.editor import VideoFileClip\n",
    "import shutil\n",
    "from moviepy.video.io.VideoFileClip import VideoFileClip"
   ]
  },
  {
   "cell_type": "markdown",
   "id": "special-conducting",
   "metadata": {},
   "source": [
    "## Step 1: Separate Left and Right Hand Video Segments"
   ]
  },
  {
   "cell_type": "raw",
   "id": "congressional-motor",
   "metadata": {},
   "source": [
    "For the finger tapping task, we manually annotated which part belongs to left hand and which one belongs to right. \n",
    "The annotation is in an excel/csv file. In this step, we will split the videos into left and right using the excel sheet."
   ]
  },
  {
   "cell_type": "code",
   "execution_count": 2,
   "id": "acknowledged-shanghai",
   "metadata": {},
   "outputs": [],
   "source": [
    "def create_directory(file_path):\n",
    "    '''\n",
    "    Create a directory if it does not exist.\n",
    "    Create parent directories as well if necessary.\n",
    "    '''\n",
    "    if os.path.exists(file_path):\n",
    "        return\n",
    "    \n",
    "    parent = os.path.dirname(file_path)\n",
    "    \n",
    "    if os.path.exists(parent):\n",
    "        os.mkdir(file_path)\n",
    "        return\n",
    "    \n",
    "    create_directory(parent)\n",
    "    os.mkdir(file_path)\n",
    "    return\n",
    "\n",
    "def remove_and_clear_directory(file_path):\n",
    "    shutil.rmtree(file_path)\n",
    "\n",
    "def number_to_time(time_in_fraction):\n",
    "    '''\n",
    "    input: 0.45 = 45 seconds\n",
    "    output: 00:00:45 (hh:mm:ss)\n",
    "    '''\n",
    "    seconds = round(time_in_fraction*100,2)\n",
    "    assert(seconds<60)\n",
    "    if seconds<10:\n",
    "        time = \"00:00:0\"+str(seconds)\n",
    "    else:\n",
    "        time = \"00:00:\"+str(seconds)\n",
    "    return time"
   ]
  },
  {
   "cell_type": "code",
   "execution_count": 3,
   "id": "decreased-stockholm",
   "metadata": {},
   "outputs": [],
   "source": [
    "def video_properties(file_path):\n",
    "    '''\n",
    "    Given a file path, returns the following:\n",
    "    duration (in seconds)\n",
    "    '''\n",
    "    vidcapture = cv2.VideoCapture(file_path)\n",
    "    fps = vidcapture.get(cv2.CAP_PROP_FPS)\n",
    "    totalNoFrames = vidcapture.get(cv2.CAP_PROP_FRAME_COUNT);\n",
    "    durationInSeconds = float(totalNoFrames) / float(fps)\n",
    "    return durationInSeconds"
   ]
  },
  {
   "cell_type": "code",
   "execution_count": 4,
   "id": "right-contact",
   "metadata": {},
   "outputs": [],
   "source": [
    "#Read Excel Sheet\n",
    "INPUT_LR_SPLIT_FILE = \"E:/Saiful/park_motor/LeftRight/data/right_left_label.csv\"\n",
    "#Original Task2 Videos\n",
    "INPUT_TASK2_VIDEOS = \"E:/Saiful/park_motor/Task2_All\"\n",
    "\n",
    "#remove_and_clear_directory(\"E:/Saiful/park_motor/LeftRight/Task2_Videos/\")\n",
    "\n",
    "#This is where separated videos will go\n",
    "OUTPUT_LEFT_VIDEOS = \"E:/Saiful/park_motor/LeftRight/Task2_Videos/Left\"\n",
    "OUTPUT_RIGHT_VIDEOS = \"E:/Saiful/park_motor/LeftRight/Task2_Videos/Right\"\n",
    "\n",
    "#Create directories (full path if needed) if not present\n",
    "create_directory(OUTPUT_LEFT_VIDEOS)\n",
    "create_directory(OUTPUT_RIGHT_VIDEOS)\n",
    "\n",
    "error_files = []\n",
    "\n",
    "temp_dir = os.path.join(OUTPUT_LEFT_VIDEOS, \"temp\")\n",
    "create_directory(temp_dir)"
   ]
  },
  {
   "cell_type": "code",
   "execution_count": null,
   "id": "neutral-bearing",
   "metadata": {},
   "outputs": [
    {
     "name": "stdout",
     "output_type": "stream",
     "text": [
      "Left 0.020000 to 0.080000, Right 0.080000 to 0.160000\n",
      "Attempted 0, success 0, failed 0 \n",
      "\n",
      "Left 0.110000 to 0.280000, Right 0.000000 to 0.110000\n",
      "Attempted 0, success 0, failed 0 \n",
      "\n",
      "Left 0.000000 to 0.050000, Right 0.050000 to 0.110000\n",
      "Attempted 0, success 0, failed 0 \n",
      "\n",
      "Left 0.040000 to 0.080000, Right 0.000000 to 0.040000\n",
      "Attempted 0, success 0, failed 0 \n",
      "\n",
      "Left 0.030000 to 0.090000, Right 0.000000 to 0.030000\n",
      "Attempted 0, success 0, failed 0 \n",
      "\n",
      "Left 0.040000 to 0.110000, Right 0.000000 to 0.040000\n",
      "Attempted 0, success 0, failed 0 \n",
      "\n",
      "Left 0.000000 to 0.050000, Right 0.050000 to 0.110000\n",
      "Attempted 0, success 0, failed 0 \n",
      "\n",
      "Left 0.030000 to 0.090000, Right 0.000000 to 0.030000\n",
      "Attempted 0, success 0, failed 0 \n",
      "\n",
      "Left -1.000000 to -1.000000, Right 0.000000 to 0.120000\n",
      "Attempted 0, success 0, failed 0 \n",
      "\n",
      "Left 0.000000 to 0.040000, Right 0.040000 to 0.090000\n",
      "Attempted 0, success 0, failed 0 \n",
      "\n",
      "Left 0.040000 to 0.110000, Right 0.000000 to 0.040000\n",
      "Attempted 0, success 0, failed 0 \n",
      "\n",
      "Left 0.030000 to 0.110000, Right 0.000000 to 0.030000\n",
      "Attempted 0, success 0, failed 0 \n",
      "\n",
      "Left 0.040000 to 0.120000, Right 0.000000 to 0.040000\n",
      "Attempted 0, success 0, failed 0 \n",
      "\n",
      "Left 0.000000 to 0.120000, Right 0.120000 to 0.280000\n",
      "Attempted 0, success 0, failed 0 \n",
      "\n",
      "Left 0.100000 to 0.210000, Right 0.000000 to 0.100000\n",
      "Attempted 0, success 0, failed 0 \n",
      "\n",
      "Left 0.050000 to 0.090000, Right 0.000000 to 0.050000\n",
      "Attempted 0, success 0, failed 0 \n",
      "\n",
      "Left 0.000000 to 0.070000, Right 0.070000 to 0.170000\n",
      "Attempted 0, success 0, failed 0 \n",
      "\n",
      "Left 0.000000 to 0.040000, Right 0.040000 to 0.110000\n",
      "Attempted 0, success 0, failed 0 \n",
      "\n",
      "Left 0.000000 to 0.040000, Right 0.040000 to 0.090000\n",
      "Attempted 0, success 0, failed 0 \n",
      "\n",
      "Left 0.000000 to 0.030000, Right 0.030000 to 0.110000\n",
      "Attempted 0, success 0, failed 0 \n",
      "\n",
      "Left 0.000000 to 0.070000, Right -1.000000 to -1.000000\n",
      "Attempted 0, success 0, failed 0 \n",
      "\n",
      "Left 0.110000 to 0.220000, Right 0.000000 to 0.110000\n",
      "Attempted 0, success 0, failed 0 \n",
      "\n",
      "Left 0.040000 to 0.090000, Right 0.000000 to 0.040000\n",
      "Attempted 0, success 0, failed 0 \n",
      "\n",
      "Left 0.030000 to 0.070000, Right 0.000000 to 0.030000\n",
      "Attempted 0, success 0, failed 0 \n",
      "\n",
      "Left 0.030000 to 0.070000, Right 0.000000 to 0.030000\n",
      "Attempted 0, success 0, failed 0 \n",
      "\n",
      "Left 0.030000 to 0.090000, Right 0.000000 to 0.030000\n",
      "Attempted 0, success 0, failed 0 \n",
      "\n",
      "Left 0.030000 to 0.070000, Right 0.000000 to 0.030000\n",
      "Attempted 0, success 0, failed 0 \n",
      "\n",
      "Left 0.000000 to 0.030000, Right 0.030000 to 0.070000\n",
      "Attempted 0, success 0, failed 0 \n",
      "\n",
      "Left 0.040000 to 0.090000, Right 0.000000 to 0.040000\n",
      "Attempted 0, success 0, failed 0 \n",
      "\n",
      "Left 0.030000 to 0.070000, Right 0.000000 to 0.030000\n",
      "Attempted 0, success 0, failed 0 \n",
      "\n",
      "Left 0.040000 to 0.080000, Right 0.000000 to 0.040000\n",
      "Attempted 0, success 0, failed 0 \n",
      "\n",
      "Left 0.030000 to 0.070000, Right 0.000000 to 0.030000\n",
      "Attempted 0, success 0, failed 0 \n",
      "\n",
      "Left 0.030000 to 0.070000, Right 0.000000 to 0.030000\n",
      "Attempted 0, success 0, failed 0 \n",
      "\n",
      "Left 0.030000 to 0.080000, Right 0.000000 to 0.030000\n",
      "Attempted 0, success 0, failed 0 \n",
      "\n",
      "Left 0.030000 to 0.060000, Right 0.000000 to 0.030000\n",
      "Attempted 0, success 0, failed 0 \n",
      "\n",
      "Left 0.040000 to 0.090000, Right 0.000000 to 0.040000\n",
      "Attempted 0, success 0, failed 0 \n",
      "\n",
      "Left 0.030000 to 0.060000, Right 0.000000 to 0.030000\n",
      "Attempted 0, success 0, failed 0 \n",
      "\n",
      "Left 0.000000 to 0.030000, Right 0.030000 to 0.070000\n",
      "Attempted 0, success 0, failed 0 \n",
      "\n",
      "Left 0.000000 to 0.040000, Right 0.040000 to 0.080000\n",
      "Attempted 0, success 0, failed 0 \n",
      "\n",
      "Left 0.000000 to 0.030000, Right 0.030000 to 0.060000\n",
      "Attempted 0, success 0, failed 0 \n",
      "\n",
      "Left 0.040000 to 0.090000, Right 0.000000 to 0.040000\n",
      "Attempted 0, success 0, failed 0 \n",
      "\n",
      "Left 0.030000 to 0.080000, Right 0.000000 to 0.030000\n",
      "Attempted 0, success 0, failed 0 \n",
      "\n",
      "Left 0.050000 to 0.110000, Right 0.000000 to 0.050000\n",
      "Attempted 0, success 0, failed 0 \n",
      "\n",
      "Left 0.040000 to 0.080000, Right 0.000000 to 0.040000\n",
      "Attempted 0, success 0, failed 0 \n",
      "\n",
      "Left 0.060000 to 0.110000, Right 0.000000 to 0.060000\n",
      "Attempted 0, success 0, failed 0 \n",
      "\n",
      "Left 0.050000 to 0.130000, Right 0.000000 to 0.050000\n",
      "Attempted 0, success 0, failed 0 \n",
      "\n",
      "Left 0.035000 to 0.090000, Right 0.000000 to 0.035000\n",
      "Attempted 0, success 0, failed 0 \n",
      "\n",
      "Left 0.030000 to 0.060000, Right 0.000000 to 0.030000\n",
      "Attempted 0, success 0, failed 0 \n",
      "\n",
      "Left 0.040000 to 0.090000, Right 0.000000 to 0.040000\n",
      "Attempted 0, success 0, failed 0 \n",
      "\n",
      "Left 0.000000 to 0.040000, Right 0.040000 to 0.090000\n",
      "Attempted 0, success 0, failed 0 \n",
      "\n",
      "Left 0.050000 to 0.120000, Right 0.000000 to 0.050000\n",
      "Attempted 0, success 0, failed 0 \n",
      "\n",
      "Left 0.030000 to 0.070000, Right 0.000000 to 0.030000\n",
      "Attempted 0, success 0, failed 0 \n",
      "\n",
      "Left 0.050000 to 0.110000, Right 0.000000 to 0.050000\n",
      "Attempted 0, success 0, failed 0 \n",
      "\n",
      "Left 0.040000 to 0.080000, Right 0.000000 to 0.040000\n",
      "Attempted 0, success 0, failed 0 \n",
      "\n",
      "Left 0.030000 to 0.070000, Right 0.000000 to 0.030000\n",
      "Attempted 0, success 0, failed 0 \n",
      "\n",
      "Left 0.040000 to 0.070000, Right 0.000000 to 0.040000\n",
      "Attempted 0, success 0, failed 0 \n",
      "\n",
      "Left 0.040000 to 0.080000, Right 0.000000 to 0.040000\n",
      "Attempted 0, success 0, failed 0 \n",
      "\n",
      "Left 0.025000 to 0.060000, Right 0.000000 to 0.025000\n",
      "Attempted 0, success 0, failed 0 \n",
      "\n",
      "Left 0.030000 to 0.060000, Right 0.000000 to 0.030000\n",
      "Attempted 0, success 0, failed 0 \n",
      "\n",
      "Left 0.000000 to 0.030000, Right 0.030000 to 0.080000\n",
      "Attempted 0, success 0, failed 0 \n",
      "\n",
      "Left 0.040000 to 0.080000, Right 0.000000 to 0.040000\n",
      "Attempted 0, success 0, failed 0 \n",
      "\n",
      "Left 0.020000 to 0.060000, Right 0.000000 to 0.020000\n",
      "Attempted 0, success 0, failed 0 \n",
      "\n",
      "Left 0.030000 to 0.080000, Right 0.000000 to 0.030000\n",
      "Attempted 0, success 0, failed 0 \n",
      "\n",
      "Left 0.040000 to 0.120000, Right 0.000000 to 0.040000\n",
      "Attempted 0, success 0, failed 0 \n",
      "\n",
      "Left 0.000000 to 0.030000, Right 0.030000 to 0.070000\n",
      "Attempted 0, success 0, failed 0 \n",
      "\n",
      "Left 0.000000 to 0.040000, Right 0.040000 to 0.080000\n",
      "Attempted 0, success 0, failed 0 \n",
      "\n",
      "Left 0.050000 to 0.100000, Right 0.000000 to 0.050000\n",
      "Attempted 0, success 0, failed 0 \n",
      "\n",
      "Left 0.060000 to 0.110000, Right 0.000000 to 0.060000\n",
      "Attempted 0, success 0, failed 0 \n",
      "\n",
      "Left 0.070000 to 0.140000, Right 0.000000 to 0.080000\n",
      "Attempted 0, success 0, failed 0 \n",
      "\n",
      "Left 0.000000 to 0.050000, Right 0.050000 to 0.140000\n",
      "Attempted 0, success 0, failed 0 \n",
      "\n",
      "Left 0.030000 to 0.080000, Right 0.000000 to 0.030000\n",
      "Attempted 0, success 0, failed 0 \n",
      "\n",
      "Left 0.050000 to 0.140000, Right 0.000000 to 0.050000\n",
      "Attempted 0, success 0, failed 0 \n",
      "\n",
      "Left 0.070000 to 0.130000, Right 0.000000 to 0.070000\n",
      "Attempted 0, success 0, failed 0 \n",
      "\n",
      "Left 0.000000 to 0.045000, Right 0.045000 to 0.090000\n",
      "Attempted 0, success 0, failed 0 \n",
      "\n",
      "Left 0.000000 to 0.030000, Right 0.030000 to 0.090000\n",
      "Attempted 0, success 0, failed 0 \n",
      "\n",
      "Left 0.030000 to 0.070000, Right 0.000000 to 0.030000\n",
      "Attempted 0, success 0, failed 0 \n",
      "\n",
      "Left 0.040000 to 0.100000, Right 0.000000 to 0.040000\n",
      "Attempted 0, success 0, failed 0 \n",
      "\n",
      "Left 0.050000 to 0.110000, Right 0.000000 to 0.050000\n",
      "Attempted 0, success 0, failed 0 \n",
      "\n",
      "Left 0.040000 to 0.080000, Right 0.000000 to 0.040000\n",
      "Attempted 0, success 0, failed 0 \n",
      "\n",
      "Left 0.000000 to 0.030000, Right 0.030000 to 0.080000\n",
      "Attempted 0, success 0, failed 0 \n",
      "\n",
      "Left 0.000000 to 0.030000, Right 0.030000 to 0.070000\n",
      "Attempted 0, success 0, failed 0 \n",
      "\n",
      "Left 0.030000 to 0.060000, Right 0.000000 to 0.030000\n",
      "Attempted 0, success 0, failed 0 \n",
      "\n",
      "Left 0.050000 to 0.120000, Right 0.000000 to 0.050000\n",
      "Attempted 0, success 0, failed 0 \n",
      "\n",
      "Left 0.030000 to 0.070000, Right 0.000000 to 0.030000\n",
      "Attempted 0, success 0, failed 0 \n",
      "\n",
      "Left 0.030000 to 0.070000, Right 0.000000 to 0.030000\n",
      "Attempted 0, success 0, failed 0 \n",
      "\n",
      "Left 0.025000 to 0.070000, Right 0.000000 to 0.025000\n",
      "Attempted 0, success 0, failed 0 \n",
      "\n",
      "Left 0.060000 to 0.130000, Right 0.000000 to 0.060000\n",
      "Attempted 0, success 0, failed 0 \n",
      "\n",
      "Left 0.050000 to 0.110000, Right 0.000000 to 0.050000\n",
      "Attempted 0, success 0, failed 0 \n",
      "\n",
      "Left 0.040000 to 0.100000, Right 0.000000 to 0.040000\n",
      "Attempted 0, success 0, failed 0 \n",
      "\n",
      "Left 0.000000 to 0.050000, Right 0.050000 to 0.140000\n",
      "Attempted 0, success 0, failed 0 \n",
      "\n",
      "Left 0.030000 to 0.080000, Right 0.000000 to 0.030000\n",
      "Attempted 0, success 0, failed 0 \n",
      "\n",
      "Left 0.000000 to 0.080000, Right 0.080000 to 0.180000\n",
      "Attempted 0, success 0, failed 0 \n",
      "\n",
      "Left -1.000000 to -1.000000, Right -1.000000 to -1.000000\n",
      "Attempted 0, success 0, failed 0 \n",
      "\n",
      "Left 0.000000 to 0.050000, Right 0.050000 to 0.100000\n",
      "Attempted 0, success 0, failed 0 \n",
      "\n",
      "Left 0.035000 to 0.080000, Right 0.000000 to 0.035000\n",
      "Attempted 0, success 0, failed 0 \n",
      "\n",
      "Left 0.050000 to 0.110000, Right 0.000000 to 0.050000\n",
      "Attempted 0, success 0, failed 0 \n",
      "\n",
      "Left 0.000000 to 0.040000, Right 0.040000 to 0.110000\n",
      "Attempted 0, success 0, failed 0 \n",
      "\n",
      "Left 0.040000 to 0.090000, Right 0.000000 to 0.040000\n",
      "Attempted 0, success 0, failed 0 \n",
      "\n",
      "Left 0.050000 to 0.100000, Right 0.000000 to 0.050000\n",
      "Attempted 0, success 0, failed 0 \n",
      "\n",
      "Left 0.030000 to 0.090000, Right 0.000000 to 0.030000\n",
      "Attempted 0, success 0, failed 0 \n",
      "\n",
      "Left 0.070000 to 0.160000, Right 0.000000 to 0.070000\n",
      "Attempted 0, success 0, failed 0 \n",
      "\n",
      "Left 0.045000 to 0.090000, Right 0.000000 to 0.045000\n",
      "Attempted 0, success 0, failed 0 \n",
      "\n",
      "Left 0.000000 to 0.040000, Right 0.040000 to 0.070000\n",
      "Attempted 0, success 0, failed 0 \n",
      "\n",
      "Left 0.040000 to 0.090000, Right 0.000000 to 0.040000\n",
      "Attempted 0, success 0, failed 0 \n",
      "\n",
      "Left 0.030000 to 0.060000, Right 0.000000 to 0.030000\n",
      "Attempted 0, success 0, failed 0 \n",
      "\n",
      "Left 0.040000 to 0.080000, Right 0.000000 to 0.040000\n",
      "Attempted 0, success 0, failed 0 \n",
      "\n",
      "Left 0.050000 to 0.120000, Right 0.000000 to 0.050000\n",
      "Attempted 0, success 0, failed 0 \n",
      "\n",
      "Left 0.030000 to 0.070000, Right 0.000000 to 0.030000\n",
      "Attempted 0, success 0, failed 0 \n",
      "\n",
      "Left 0.040000 to 0.080000, Right 0.000000 to 0.040000\n",
      "Attempted 0, success 0, failed 0 \n",
      "\n",
      "Left 0.030000 to 0.060000, Right 0.000000 to 0.030000\n",
      "Attempted 0, success 0, failed 0 \n",
      "\n",
      "Left 0.000000 to 0.060000, Right 0.060000 to 0.150000\n",
      "Attempted 0, success 0, failed 0 \n",
      "\n",
      "Left 0.000000 to 0.020000, Right 0.020000 to 0.050000\n",
      "Attempted 0, success 0, failed 0 \n",
      "\n",
      "Left 0.000000 to 0.060000, Right 0.060000 to 0.150000\n",
      "Attempted 0, success 0, failed 0 \n",
      "\n",
      "Left 0.050000 to 0.120000, Right 0.000000 to 0.050000\n",
      "Attempted 0, success 0, failed 0 \n",
      "\n",
      "Left 0.035000 to 0.090000, Right 0.000000 to 0.035000\n",
      "Attempted 0, success 0, failed 0 \n",
      "\n",
      "Left 0.000000 to 0.060000, Right 0.060000 to 0.140000\n",
      "Attempted 0, success 0, failed 0 \n",
      "\n",
      "Left 0.030000 to 0.070000, Right 0.000000 to 0.030000\n",
      "Attempted 0, success 0, failed 0 \n",
      "\n",
      "Left 0.030000 to 0.110000, Right 0.000000 to 0.030000\n",
      "Attempted 0, success 0, failed 0 \n",
      "\n",
      "Left 0.000000 to 0.030000, Right 0.030000 to 0.090000\n",
      "Attempted 0, success 0, failed 0 \n",
      "\n",
      "Left 0.050000 to 0.100000, Right 0.000000 to 0.050000\n",
      "Attempted 0, success 0, failed 0 \n",
      "\n",
      "Left 0.050000 to 0.100000, Right 0.000000 to 0.050000\n",
      "Attempted 0, success 0, failed 0 \n",
      "\n",
      "Left 0.040000 to 0.100000, Right 0.000000 to 0.040000\n",
      "Attempted 0, success 0, failed 0 \n",
      "\n",
      "Left 0.050000 to 0.000000, Right 0.050000 to 0.100000\n",
      "Attempted 0, success 0, failed 0 \n",
      "\n",
      "Left 0.000000 to 0.040000, Right 0.040000 to 0.100000\n",
      "Attempted 0, success 0, failed 0 \n",
      "\n",
      "Left 0.030000 to 0.090000, Right 0.000000 to 0.030000\n",
      "Attempted 0, success 0, failed 0 \n",
      "\n",
      "Left 0.000000 to 0.040000, Right 0.040000 to 0.140000\n",
      "Attempted 0, success 0, failed 0 \n",
      "\n",
      "Left 0.030000 to 0.080000, Right 0.000000 to 0.030000\n",
      "Attempted 0, success 0, failed 0 \n",
      "\n",
      "Left 0.050000 to 0.110000, Right 0.000000 to 0.050000\n",
      "Attempted 0, success 0, failed 0 \n",
      "\n",
      "Left 0.020000 to 0.080000, Right 0.000000 to 0.025000\n",
      "Attempted 0, success 0, failed 0 \n",
      "\n",
      "Left 0.030000 to 0.080000, Right 0.000000 to 0.030000\n",
      "Attempted 0, success 0, failed 0 \n",
      "\n",
      "Left 0.040000 to 0.110000, Right 0.000000 to 0.040000\n",
      "Attempted 0, success 0, failed 0 \n",
      "\n",
      "Left 0.040000 to 0.100000, Right 0.000000 to 0.040000\n",
      "Attempted 0, success 0, failed 0 \n",
      "\n",
      "Left 0.000000 to 0.040000, Right 0.040000 to 0.090000\n",
      "Attempted 0, success 0, failed 0 \n",
      "\n",
      "Left 0.000000 to 0.040000, Right 0.040000 to 0.090000\n",
      "Attempted 0, success 0, failed 0 \n",
      "\n",
      "Left -1.000000 to -1.000000, Right -1.000000 to -1.000000\n",
      "Attempted 0, success 0, failed 0 \n",
      "\n",
      "Left 0.050000 to 0.100000, Right 0.000000 to 0.050000\n",
      "Attempted 0, success 0, failed 0 \n",
      "\n",
      "Left 0.060000 to 0.130000, Right 0.000000 to 0.060000\n",
      "Attempted 0, success 0, failed 0 \n",
      "\n",
      "Left 0.030000 to 0.070000, Right 0.000000 to 0.030000\n",
      "Attempted 0, success 0, failed 0 \n",
      "\n",
      "Left 0.000000 to 0.040000, Right 0.040000 to 0.120000\n",
      "Attempted 0, success 0, failed 0 \n",
      "\n",
      "Left 0.000000 to 0.030000, Right 0.030000 to 0.110000\n",
      "Attempted 0, success 0, failed 0 \n",
      "\n",
      "Left 0.070000 to 0.140000, Right 0.000000 to 0.070000\n",
      "Attempted 0, success 0, failed 0 \n",
      "\n",
      "Left 0.040000 to 0.110000, Right 0.000000 to 0.040000\n",
      "Attempted 0, success 0, failed 0 \n",
      "\n",
      "Left 0.040000 to 0.100000, Right 0.000000 to 0.040000\n",
      "Attempted 0, success 0, failed 0 \n",
      "\n",
      "Left 0.040000 to 0.100000, Right 0.000000 to 0.040000\n",
      "Attempted 0, success 0, failed 0 \n",
      "\n",
      "Left 0.030000 to 0.090000, Right 0.000000 to 0.035000\n",
      "Attempted 0, success 0, failed 0 \n",
      "\n",
      "Left 0.040000 to 0.100000, Right 0.000000 to 0.040000\n",
      "Attempted 0, success 0, failed 0 \n",
      "\n",
      "Left 0.040000 to 0.100000, Right 0.000000 to 0.040000\n",
      "Attempted 0, success 0, failed 0 \n",
      "\n",
      "Left 0.050000 to 0.110000, Right 0.000000 to 0.050000\n",
      "Attempted 0, success 0, failed 0 \n",
      "\n",
      "Left 0.000000 to 0.030000, Right 0.030000 to 0.090000\n",
      "Attempted 0, success 0, failed 0 \n",
      "\n",
      "Left 0.030000 to 0.060000, Right 0.000000 to 0.030000\n",
      "Attempted 0, success 0, failed 0 \n",
      "\n",
      "Left 0.040000 to 0.090000, Right 0.000000 to 0.050000\n",
      "Attempted 0, success 0, failed 0 \n",
      "\n",
      "Left 0.000000 to 0.040000, Right 0.040000 to 0.130000\n",
      "Attempted 0, success 0, failed 0 \n",
      "\n",
      "Left 0.000000 to 0.060000, Right 0.060000 to 0.140000\n",
      "Attempted 0, success 0, failed 0 \n",
      "\n",
      "Left 0.030000 to 0.080000, Right 0.000000 to 0.030000\n",
      "Attempted 0, success 0, failed 0 \n",
      "\n",
      "Left -1.000000 to -1.000000, Right -1.000000 to -1.000000\n",
      "Attempted 0, success 0, failed 0 \n",
      "\n",
      "Left 0.040000 to 0.090000, Right 0.000000 to 0.040000\n",
      "Attempted 0, success 0, failed 0 \n",
      "\n",
      "Left 0.050000 to 0.110000, Right 0.000000 to 0.060000\n",
      "Attempted 0, success 0, failed 0 \n",
      "\n",
      "Left 0.040000 to 0.100000, Right 0.000000 to 0.040000\n",
      "Attempted 0, success 0, failed 0 \n",
      "\n",
      "Left 0.030000 to 0.090000, Right 0.000000 to 0.030000\n",
      "Attempted 0, success 0, failed 0 \n",
      "\n",
      "Left 0.030000 to 0.050000, Right 0.000000 to 0.030000\n",
      "Attempted 0, success 0, failed 0 \n",
      "\n",
      "Left 0.040000 to 0.130000, Right 0.000000 to 0.050000\n",
      "Attempted 0, success 0, failed 0 \n",
      "\n",
      "Left 0.090000 to 0.240000, Right 0.000000 to 0.090000\n",
      "Attempted 0, success 0, failed 0 \n",
      "\n",
      "Left 0.050000 to 0.140000, Right 0.000000 to 0.060000\n",
      "Attempted 0, success 0, failed 0 \n",
      "\n",
      "Left 0.030000 to 0.090000, Right 0.000000 to 0.035000\n",
      "Attempted 0, success 0, failed 0 \n",
      "\n",
      "Left 0.000000 to 0.030000, Right 0.030000 to 0.080000\n",
      "Attempted 0, success 0, failed 0 \n",
      "\n",
      "Left 0.040000 to 0.120000, Right 0.000000 to 0.040000\n",
      "Attempted 0, success 0, failed 0 \n",
      "\n",
      "Left 0.000000 to 0.050000, Right 0.050000 to 0.110000\n",
      "Attempted 0, success 0, failed 0 \n",
      "\n",
      "Left 0.030000 to 0.080000, Right 0.000000 to 0.030000\n",
      "Attempted 0, success 0, failed 0 \n",
      "\n",
      "Left 0.040000 to 0.100000, Right 0.000000 to 0.040000\n",
      "Attempted 0, success 0, failed 0 \n",
      "\n",
      "Left 0.040000 to 0.080000, Right 0.000000 to 0.040000\n",
      "Attempted 0, success 0, failed 0 \n",
      "\n",
      "Left 0.000000 to 0.140000, Right 0.000000 to 0.140000\n",
      "Attempted 0, success 0, failed 0 \n",
      "\n",
      "Left 0.100000 to 0.240000, Right 0.000000 to 0.100000\n",
      "Attempted 0, success 0, failed 0 \n",
      "\n",
      "Left 0.000000 to 0.050000, Right 0.040000 to 0.100000\n",
      "Attempted 0, success 0, failed 0 \n",
      "\n",
      "Left 0.000000 to 0.030000, Right 0.030000 to 0.060000\n",
      "Attempted 0, success 0, failed 0 \n",
      "\n",
      "Left 0.030000 to 0.080000, Right 0.000000 to 0.030000\n",
      "Attempted 0, success 0, failed 0 \n",
      "\n",
      "Left 0.040000 to 0.100000, Right 0.000000 to 0.040000\n",
      "Attempted 0, success 0, failed 0 \n",
      "\n",
      "Left 0.050000 to 0.140000, Right -1.000000 to -1.000000\n",
      "Attempted 0, success 0, failed 0 \n",
      "\n",
      "Left 0.060000 to 0.140000, Right 0.000000 to 0.060000\n",
      "Attempted 0, success 0, failed 0 \n",
      "\n",
      "Left 0.000000 to 0.020000, Right 0.020000 to 0.100000\n",
      "Attempted 0, success 0, failed 0 \n",
      "\n",
      "Left -1.000000 to -1.000000, Right -1.000000 to -1.000000\n",
      "Attempted 0, success 0, failed 0 \n",
      "\n",
      "Left 0.040000 to 0.100000, Right 0.000000 to 0.040000\n",
      "Attempted 0, success 0, failed 0 \n",
      "\n",
      "Left 0.000000 to 0.020000, Right 0.020000 to 0.070000\n",
      "Attempted 0, success 0, failed 0 \n",
      "\n",
      "Left 0.040000 to 0.080000, Right 0.000000 to 0.040000\n",
      "Attempted 0, success 0, failed 0 \n",
      "\n",
      "Left 0.060000 to 0.120000, Right 0.000000 to 0.070000\n",
      "Attempted 0, success 0, failed 0 \n",
      "\n",
      "Left 0.040000 to 0.100000, Right 0.000000 to 0.040000\n",
      "Attempted 0, success 0, failed 0 \n",
      "\n",
      "Left 0.080000 to 0.100000, Right 0.000000 to 0.080000\n",
      "Attempted 0, success 0, failed 0 \n",
      "\n",
      "Left 0.040000 to 0.090000, Right 0.000000 to 0.040000\n",
      "Attempted 0, success 0, failed 0 \n",
      "\n",
      "Left -1.000000 to -1.000000, Right -1.000000 to -1.000000\n",
      "Attempted 0, success 0, failed 0 \n",
      "\n",
      "Left 0.000000 to 0.040000, Right 0.040000 to 0.090000\n",
      "Attempted 0, success 0, failed 0 \n",
      "\n",
      "Left 0.050000 to 0.140000, Right 0.000000 to 0.060000\n",
      "Attempted 0, success 0, failed 0 \n",
      "\n",
      "Left 0.040000 to 0.100000, Right 0.000000 to 0.040000\n",
      "Attempted 0, success 0, failed 0 \n",
      "\n",
      "Left 0.030000 to 0.080000, Right 0.000000 to 0.030000\n",
      "Attempted 0, success 0, failed 0 \n",
      "\n",
      "Left 0.000000 to 0.035000, Right 0.030000 to 0.080000\n",
      "Attempted 0, success 0, failed 0 \n",
      "\n",
      "Left 0.050000 to 0.110000, Right 0.000000 to 0.050000\n",
      "Attempted 0, success 0, failed 0 \n",
      "\n",
      "Left 0.000000 to 0.040000, Right 0.040000 to 0.120000\n",
      "Attempted 0, success 0, failed 0 \n",
      "\n",
      "Left 0.050000 to 0.120000, Right 0.000000 to 0.050000\n",
      "Attempted 0, success 0, failed 0 \n",
      "\n",
      "Left 0.200000 to 0.220000, Right 0.000000 to 0.200000\n",
      "Attempted 0, success 0, failed 0 \n",
      "\n",
      "Left 0.040000 to 0.110000, Right 0.000000 to 0.040000\n",
      "Attempted 0, success 0, failed 0 \n",
      "\n",
      "Left 0.000000 to 0.090000, Right 0.090000 to 0.180000\n",
      "Attempted 0, success 0, failed 0 \n",
      "\n",
      "Left 0.000000 to 0.040000, Right 0.040000 to 0.100000\n",
      "Attempted 0, success 0, failed 0 \n",
      "\n",
      "Left 0.040000 to 0.100000, Right 0.000000 to 0.040000\n",
      "Attempted 0, success 0, failed 0 \n",
      "\n",
      "Left 0.035000 to 0.080000, Right 0.000000 to 0.035000\n",
      "Attempted 0, success 0, failed 0 \n",
      "\n",
      "Left 0.040000 to 0.110000, Right 0.000000 to 0.040000\n",
      "Attempted 0, success 0, failed 0 \n",
      "\n",
      "Left 0.055000 to 0.100000, Right 0.000000 to 0.055000\n",
      "Attempted 0, success 0, failed 0 \n",
      "\n",
      "Left 0.000000 to 0.080000, Right 0.080000 to 0.170000\n",
      "Attempted 0, success 0, failed 0 \n",
      "\n",
      "Left 0.020000 to 0.070000, Right 0.000000 to 0.020000\n",
      "Attempted 0, success 0, failed 0 \n",
      "\n",
      "Left 0.030000 to 0.090000, Right 0.000000 to 0.030000\n",
      "Attempted 0, success 0, failed 0 \n",
      "\n",
      "Left 0.040000 to 0.100000, Right 0.000000 to 0.040000\n",
      "Attempted 0, success 0, failed 0 \n",
      "\n",
      "Left 0.030000 to 0.080000, Right 0.000000 to 0.030000\n",
      "Attempted 0, success 0, failed 0 \n",
      "\n",
      "Left 0.030000 to 0.070000, Right 0.000000 to 0.030000\n",
      "Attempted 0, success 0, failed 0 \n",
      "\n",
      "Left 0.000000 to 0.030000, Right 0.030000 to 0.070000\n",
      "Attempted 0, success 0, failed 0 \n",
      "\n",
      "Left 0.000000 to 0.030000, Right 0.030000 to 0.100000\n",
      "Attempted 0, success 0, failed 0 \n",
      "\n",
      "Left 0.000000 to 0.040000, Right 0.040000 to 0.100000\n",
      "Attempted 0, success 0, failed 0 \n",
      "\n",
      "Left 0.035000 to 0.080000, Right 0.000000 to 0.035000\n",
      "Attempted 0, success 0, failed 0 \n",
      "\n",
      "Left 0.050000 to 0.110000, Right 0.000000 to 0.050000\n",
      "Attempted 0, success 0, failed 0 \n",
      "\n",
      "Left 0.000000 to 0.040000, Right 0.040000 to 0.110000\n",
      "Attempted 0, success 0, failed 0 \n",
      "\n",
      "Left 0.000000 to 0.070000, Right 0.070000 to 0.140000\n",
      "Attempted 0, success 0, failed 0 \n",
      "\n",
      "Left 0.050000 to 0.110000, Right 0.000000 to 0.050000\n",
      "Attempted 0, success 0, failed 0 \n",
      "\n",
      "Left 0.030000 to 0.080000, Right 0.000000 to 0.030000\n",
      "Attempted 0, success 0, failed 0 \n",
      "\n",
      "Left 0.080000 to 0.150000, Right 0.000000 to 0.080000\n",
      "Attempted 0, success 0, failed 0 \n",
      "\n",
      "Left 0.050000 to 0.110000, Right 0.000000 to 0.050000\n",
      "Attempted 0, success 0, failed 0 \n",
      "\n",
      "Left 0.040000 to 0.110000, Right 0.000000 to 0.040000\n",
      "Attempted 0, success 0, failed 0 \n",
      "\n",
      "Left 0.060000 to 0.140000, Right 0.000000 to 0.060000\n",
      "Attempted 0, success 0, failed 0 \n",
      "\n",
      "Left 0.070000 to 0.140000, Right 0.000000 to 0.070000\n",
      "Attempted 0, success 0, failed 0 \n",
      "\n",
      "Left 0.070000 to 0.150000, Right 0.000000 to 0.070000\n",
      "Attempted 0, success 0, failed 0 \n",
      "\n",
      "Left 0.040000 to 0.100000, Right 0.000000 to 0.040000\n",
      "Attempted 0, success 0, failed 0 \n",
      "\n",
      "Left 0.000000 to 0.040000, Right 0.040000 to 0.080000\n",
      "Attempted 0, success 0, failed 0 \n",
      "\n",
      "Left 0.030000 to 0.080000, Right 0.000000 to 0.035000\n",
      "Attempted 0, success 0, failed 0 \n",
      "\n",
      "Left 0.035000 to 0.080000, Right 0.000000 to 0.035000\n",
      "Attempted 0, success 0, failed 0 \n",
      "\n",
      "Left 0.120000 to 0.200000, Right 0.000000 to 0.120000\n",
      "Attempted 0, success 0, failed 0 \n",
      "\n",
      "Left 0.000000 to 0.040000, Right -1.000000 to -1.000000\n",
      "Attempted 0, success 0, failed 0 \n",
      "\n",
      "Left 0.060000 to 0.110000, Right 0.000000 to 0.060000\n",
      "Attempted 0, success 0, failed 0 \n",
      "\n",
      "Left 0.030000 to 0.070000, Right 0.000000 to 0.030000\n",
      "Attempted 0, success 0, failed 0 \n",
      "\n",
      "Left 0.060000 to 0.140000, Right 0.000000 to 0.060000\n",
      "Attempted 0, success 0, failed 0 \n",
      "\n",
      "Left 0.030000 to 0.070000, Right 0.000000 to 0.030000\n",
      "Attempted 0, success 0, failed 0 \n",
      "\n",
      "Left 0.035000 to 0.080000, Right 0.000000 to 0.040000\n",
      "Attempted 0, success 0, failed 0 \n",
      "\n",
      "Left 0.000000 to 0.030000, Right 0.030000 to 0.080000\n",
      "Attempted 0, success 0, failed 0 \n",
      "\n",
      "Left 0.000000 to 0.030000, Right 0.030000 to 0.080000\n",
      "Attempted 0, success 0, failed 0 \n",
      "\n",
      "Left 0.045000 to 0.080000, Right 0.000000 to 0.050000\n",
      "Attempted 0, success 0, failed 0 \n",
      "\n",
      "Left 0.020000 to 0.070000, Right 0.000000 to 0.025000\n",
      "Attempted 0, success 0, failed 0 \n",
      "\n",
      "Left 0.060000 to 0.110000, Right 0.000000 to 0.060000\n",
      "Attempted 0, success 0, failed 0 \n",
      "\n",
      "Left 0.110000 to 0.220000, Right 0.000000 to 0.110000\n",
      "Attempted 0, success 0, failed 0 \n",
      "\n",
      "Left -1.000000 to -1.000000, Right -1.000000 to -1.000000\n",
      "Attempted 0, success 0, failed 0 \n",
      "\n",
      "Left 0.040000 to 0.090000, Right 0.000000 to 0.040000\n",
      "Attempted 0, success 0, failed 0 \n",
      "\n",
      "Left 0.030000 to 0.080000, Right 0.000000 to 0.030000\n",
      "Attempted 0, success 0, failed 0 \n",
      "\n",
      "Left 0.000000 to 0.040000, Right 0.040000 to 0.090000\n",
      "Attempted 0, success 0, failed 0 \n",
      "\n",
      "Left 0.030000 to 0.080000, Right 0.000000 to 0.035000\n",
      "Attempted 0, success 0, failed 0 \n",
      "\n",
      "Left 0.030000 to 0.060000, Right 0.000000 to 0.030000\n",
      "Attempted 0, success 0, failed 0 \n",
      "\n",
      "Left 0.000000 to 0.030000, Right 0.030000 to 0.070000\n",
      "Attempted 0, success 0, failed 0 \n",
      "\n",
      "Left 0.040000 to 0.090000, Right 0.000000 to 0.040000\n",
      "Attempted 0, success 0, failed 0 \n",
      "\n",
      "Left 0.030000 to 0.080000, Right 0.000000 to 0.030000\n",
      "Attempted 0, success 0, failed 0 \n",
      "\n",
      "Left 0.000000 to 0.080000, Right 0.080000 to 0.160000\n",
      "Attempted 0, success 0, failed 0 \n",
      "\n",
      "Left 0.045000 to 0.100000, Right 0.000000 to 0.050000\n",
      "Attempted 0, success 0, failed 0 \n",
      "\n",
      "Left 0.000000 to 0.080000, Right 0.075000 to 0.150000\n",
      "Attempted 0, success 0, failed 0 \n",
      "\n",
      "Left 0.030000 to 0.080000, Right 0.000000 to 0.030000\n",
      "Attempted 0, success 0, failed 0 \n",
      "\n",
      "Left 0.000000 to 0.060000, Right 0.050000 to 0.140000\n",
      "Attempted 0, success 0, failed 0 \n",
      "\n",
      "Left 0.000000 to 0.035000, Right 0.035000 to 0.080000\n",
      "Attempted 0, success 0, failed 0 \n",
      "\n",
      "Left 0.000000 to 0.035000, Right 0.035000 to 0.080000\n",
      "Attempted 0, success 0, failed 0 \n",
      "\n",
      "Left 0.000000 to 0.050000, Right 0.050000 to 0.100000\n",
      "Attempted 0, success 0, failed 0 \n",
      "\n",
      "Left 0.000000 to 0.050000, Right 0.045000 to 0.100000\n",
      "Attempted 0, success 0, failed 0 \n",
      "\n",
      "Left 0.000000 to 0.050000, Right 0.050000 to 0.110000\n",
      "Attempted 0, success 0, failed 0 \n",
      "\n",
      "Left 0.035000 to 0.080000, Right 0.000000 to 0.040000\n",
      "Attempted 0, success 0, failed 0 \n",
      "\n",
      "Left 0.050000 to 0.130000, Right 0.000000 to 0.050000\n",
      "Attempted 0, success 0, failed 0 \n",
      "\n",
      "Left 0.110000 to 0.160000, Right 0.000000 to 0.110000\n",
      "Attempted 0, success 0, failed 0 \n",
      "\n",
      "Left 0.000000 to 0.040000, Right 0.040000 to 0.110000\n",
      "Attempted 0, success 0, failed 0 \n",
      "\n",
      "Left 0.040000 to 0.090000, Right 0.000000 to 0.040000\n",
      "Attempted 0, success 0, failed 0 \n",
      "\n",
      "Left 0.040000 to 0.110000, Right 0.000000 to 0.040000\n",
      "Attempted 0, success 0, failed 0 \n",
      "\n",
      "Left 0.060000 to 0.140000, Right 0.000000 to 0.060000\n",
      "Attempted 0, success 0, failed 0 \n",
      "\n",
      "Left 0.035000 to 0.090000, Right 0.000000 to 0.035000\n",
      "Attempted 0, success 0, failed 0 \n",
      "\n",
      "Left 0.050000 to 0.110000, Right 0.000000 to 0.050000\n",
      "Attempted 0, success 0, failed 0 \n",
      "\n",
      "Left 0.030000 to 0.060000, Right 0.000000 to 0.030000\n",
      "Attempted 0, success 0, failed 0 \n",
      "\n",
      "Left 0.030000 to 0.090000, Right 0.000000 to 0.030000\n",
      "Attempted 0, success 0, failed 0 \n",
      "\n",
      "Left 0.040000 to 0.090000, Right 0.000000 to 0.040000\n",
      "Attempted 0, success 0, failed 0 \n",
      "\n",
      "Left 0.030000 to 0.080000, Right 0.000000 to 0.030000\n",
      "Attempted 0, success 0, failed 0 \n",
      "\n",
      "Left 0.000000 to 0.050000, Right 0.050000 to 0.100000\n",
      "Attempted 0, success 0, failed 0 \n",
      "\n",
      "Left 0.045000 to 0.100000, Right 0.000000 to 0.045000\n",
      "Attempted 0, success 0, failed 0 \n",
      "\n",
      "Left 0.050000 to 0.100000, Right 0.000000 to 0.050000\n",
      "Attempted 0, success 0, failed 0 \n",
      "\n",
      "Left 0.000000 to 0.040000, Right 0.040000 to 0.090000\n",
      "Attempted 0, success 0, failed 0 \n",
      "\n",
      "Left 0.040000 to 0.080000, Right 0.000000 to 0.040000\n",
      "Attempted 0, success 0, failed 0 \n",
      "\n",
      "Left 0.060000 to 0.140000, Right 0.000000 to 0.060000\n",
      "Attempted 0, success 0, failed 0 \n",
      "\n",
      "Left 0.030000 to 0.080000, Right 0.000000 to 0.030000\n",
      "Attempted 0, success 0, failed 0 \n",
      "\n",
      "Left 0.000000 to 0.090000, Right 0.090000 to 0.210000\n",
      "Attempted 0, success 0, failed 0 \n",
      "\n",
      "Left 0.000000 to 0.050000, Right 0.050000 to 0.110000\n",
      "Attempted 0, success 0, failed 0 \n",
      "\n",
      "Left 0.050000 to 0.110000, Right 0.000000 to 0.050000\n",
      "Attempted 0, success 0, failed 0 \n",
      "\n",
      "Left 0.000000 to 0.040000, Right 0.040000 to 0.090000\n",
      "Attempted 0, success 0, failed 0 \n",
      "\n",
      "Left 0.050000 to 0.090000, Right 0.000000 to 0.050000\n",
      "Attempted 0, success 0, failed 0 \n",
      "\n",
      "Left 0.000000 to 0.040000, Right 0.040000 to 0.100000\n",
      "Attempted 0, success 0, failed 0 \n",
      "\n",
      "Left 0.030000 to 0.080000, Right 0.000000 to 0.030000\n",
      "Attempted 0, success 0, failed 0 \n",
      "\n",
      "Left 0.045000 to 0.100000, Right 0.000000 to 0.045000\n",
      "Attempted 0, success 0, failed 0 \n",
      "\n",
      "Left 0.040000 to 0.080000, Right 0.000000 to 0.040000\n",
      "Attempted 0, success 0, failed 0 \n",
      "\n",
      "Left 0.030000 to 0.080000, Right 0.000000 to 0.040000\n",
      "Attempted 0, success 0, failed 0 \n",
      "\n",
      "Left 0.040000 to 0.080000, Right 0.000000 to 0.040000\n",
      "Attempted 0, success 0, failed 0 \n",
      "\n",
      "Left 0.000000 to 0.050000, Right 0.045000 to 0.110000\n",
      "Attempted 0, success 0, failed 0 \n",
      "\n",
      "Left 0.000000 to 0.040000, Right 0.035000 to 0.080000\n",
      "Attempted 0, success 0, failed 0 \n",
      "\n",
      "Left 0.100000 to 0.190000, Right 0.000000 to 0.100000\n",
      "Attempted 0, success 0, failed 0 \n",
      "\n",
      "Left 0.035000 to 0.080000, Right 0.000000 to 0.040000\n",
      "Attempted 0, success 0, failed 0 \n",
      "\n",
      "Left 0.000000 to 0.040000, Right 0.040000 to 0.080000\n",
      "Attempted 0, success 0, failed 0 \n",
      "\n",
      "Left 0.100000 to 0.190000, Right 0.000000 to 0.100000\n",
      "Attempted 0, success 0, failed 0 \n",
      "\n",
      "Left 0.000000 to 0.035000, Right 0.035000 to 0.080000\n",
      "Attempted 0, success 0, failed 0 \n",
      "\n",
      "Left 0.000000 to 0.045000, Right 0.040000 to 0.090000\n",
      "Attempted 0, success 0, failed 0 \n",
      "\n",
      "Left 0.040000 to 0.090000, Right 0.000000 to 0.050000\n",
      "Attempted 0, success 0, failed 0 \n",
      "\n",
      "Left -1.000000 to -1.000000, Right 0.000000 to 0.070000\n",
      "Attempted 0, success 0, failed 0 \n",
      "\n",
      "Left 0.035000 to 0.080000, Right 0.000000 to 0.035000\n",
      "Attempted 0, success 0, failed 0 \n",
      "\n",
      "Left 0.000000 to 0.050000, Right 0.040000 to 0.090000\n",
      "Attempted 0, success 0, failed 0 \n",
      "\n",
      "Left 0.000000 to 0.050000, Right 0.045000 to 0.090000\n",
      "Attempted 0, success 0, failed 0 \n",
      "\n",
      "Left 0.070000 to 0.140000, Right 0.000000 to 0.070000\n",
      "Attempted 0, success 0, failed 0 \n",
      "\n",
      "Left 0.000000 to 0.080000, Right 0.070000 to 0.150000\n",
      "Attempted 0, success 0, failed 0 \n",
      "\n",
      "Left 0.000000 to 0.050000, Right 0.045000 to 0.100000\n",
      "Attempted 0, success 0, failed 0 \n",
      "\n",
      "Left 0.050000 to 0.110000, Right 0.000000 to 0.050000\n",
      "Attempted 0, success 0, failed 0 \n",
      "\n",
      "Left 0.045000 to 0.090000, Right 0.000000 to 0.050000\n",
      "Attempted 0, success 0, failed 0 \n",
      "\n",
      "Left 0.000000 to 0.050000, Right 0.050000 to 0.100000\n",
      "Attempted 0, success 0, failed 0 \n",
      "\n",
      "Left 0.000000 to 0.045000, Right 0.040000 to 0.100000\n",
      "Attempted 0, success 0, failed 0 \n",
      "\n",
      "Left 0.035000 to 0.080000, Right 0.000000 to 0.040000\n",
      "Attempted 0, success 0, failed 0 \n",
      "\n",
      "Left 0.000000 to 0.070000, Right 0.065000 to 0.100000\n",
      "Attempted 0, success 0, failed 0 \n",
      "\n",
      "Left 0.000000 to 0.030000, Right 0.030000 to 0.070000\n",
      "Attempted 0, success 0, failed 0 \n",
      "\n",
      "Left 0.090000 to 0.140000, Right 0.000000 to 0.090000\n",
      "Attempted 0, success 0, failed 0 \n",
      "\n",
      "Left 0.040000 to 0.100000, Right 0.000000 to 0.040000\n",
      "Attempted 0, success 0, failed 0 \n",
      "\n",
      "Left 0.045000 to 0.090000, Right 0.000000 to 0.050000\n",
      "Attempted 0, success 0, failed 0 \n",
      "\n",
      "Left 0.055000 to 0.110000, Right 0.000000 to 0.060000\n",
      "Attempted 0, success 0, failed 0 \n",
      "\n",
      "Left 0.050000 to 0.110000, Right 0.000000 to 0.050000\n",
      "Attempted 0, success 0, failed 0 \n",
      "\n",
      "Left 0.020000 to 0.060000, Right 0.000000 to 0.025000\n",
      "Attempted 0, success 0, failed 0 \n",
      "\n",
      "Left 0.040000 to 0.110000, Right 0.000000 to 0.040000\n",
      "Attempted 0, success 0, failed 0 \n",
      "\n",
      "Left 0.040000 to 0.110000, Right 0.000000 to 0.045000\n",
      "Attempted 0, success 0, failed 0 \n",
      "\n",
      "Left 0.020000 to 0.050000, Right 0.000000 to 0.020000\n",
      "Attempted 0, success 0, failed 0 \n",
      "\n",
      "Left 0.000000 to 0.040000, Right 0.040000 to 0.090000\n",
      "Attempted 0, success 0, failed 0 \n",
      "\n",
      "Left 0.000000 to 0.050000, Right 0.050000 to 0.110000\n",
      "Attempted 0, success 0, failed 0 \n",
      "\n",
      "Left 0.030000 to 0.060000, Right 0.000000 to 0.030000\n",
      "Attempted 0, success 0, failed 0 \n",
      "\n",
      "Left 0.000000 to 0.035000, Right 0.030000 to 0.080000\n",
      "Attempted 0, success 0, failed 0 \n",
      "\n",
      "Left 0.030000 to 0.120000, Right 0.000000 to 0.030000\n",
      "Attempted 0, success 0, failed 0 \n",
      "\n",
      "Left 0.050000 to 0.110000, Right 0.000000 to 0.050000\n",
      "Attempted 0, success 0, failed 0 \n",
      "\n",
      "Left 0.025000 to 0.070000, Right 0.000000 to 0.030000\n",
      "Attempted 0, success 0, failed 0 \n",
      "\n",
      "Left 0.100000 to 0.250000, Right 0.000000 to 0.110000\n",
      "Attempted 0, success 0, failed 0 \n",
      "\n",
      "Left 0.000000 to 0.030000, Right 0.030000 to 0.090000\n",
      "Attempted 0, success 0, failed 0 \n",
      "\n",
      "Left 0.000000 to 0.050000, Right 0.050000 to 0.120000\n",
      "Attempted 0, success 0, failed 0 \n",
      "\n",
      "Left 0.050000 to 0.120000, Right 0.000000 to 0.055000\n",
      "Attempted 0, success 0, failed 0 \n",
      "\n",
      "Left 0.060000 to 0.150000, Right 0.000000 to 0.060000\n",
      "Attempted 0, success 0, failed 0 \n",
      "\n",
      "Left 0.045000 to 0.100000, Right 0.000000 to 0.050000\n",
      "Attempted 0, success 0, failed 0 \n",
      "\n",
      "Left 0.040000 to 0.100000, Right 0.000000 to 0.040000\n",
      "Attempted 0, success 0, failed 0 \n",
      "\n",
      "Left 0.000000 to 0.030000, Right 0.030000 to 0.080000\n",
      "Attempted 0, success 0, failed 0 \n",
      "\n",
      "Left 0.000000 to 0.080000, Right 0.080000 to 0.140000\n",
      "Attempted 0, success 0, failed 0 \n",
      "\n",
      "Left 0.030000 to 0.080000, Right 0.000000 to 0.030000\n",
      "Attempted 0, success 0, failed 0 \n",
      "\n",
      "Left 0.000000 to 0.050000, Right 0.050000 to 0.100000\n",
      "Attempted 0, success 0, failed 0 \n",
      "\n",
      "Left 0.050000 to 0.110000, Right 0.000000 to 0.050000\n",
      "Attempted 0, success 0, failed 0 \n",
      "\n",
      "Left 0.060000 to 0.150000, Right 0.000000 to 0.060000\n",
      "Attempted 0, success 0, failed 0 \n",
      "\n",
      "Left 0.080000 to 0.170000, Right 0.000000 to 0.090000\n",
      "Attempted 0, success 0, failed 0 \n",
      "\n",
      "Left 0.060000 to 0.130000, Right 0.000000 to 0.060000\n",
      "Attempted 0, success 0, failed 0 \n",
      "\n",
      "Left 0.000000 to 0.020000, Right 0.020000 to 0.050000\n",
      "Attempted 0, success 0, failed 0 \n",
      "\n",
      "Left 0.025000 to 0.070000, Right 0.000000 to 0.030000\n",
      "Attempted 0, success 0, failed 0 \n",
      "\n",
      "Left -1.000000 to -1.000000, Right 0.000000 to 0.090000\n",
      "Attempted 0, success 0, failed 0 \n",
      "\n",
      "Left 0.030000 to 0.100000, Right 0.000000 to 0.030000\n",
      "Attempted 0, success 0, failed 0 \n",
      "\n",
      "Left 0.000000 to 0.040000, Right 0.040000 to 0.100000\n"
     ]
    },
    {
     "name": "stdout",
     "output_type": "stream",
     "text": [
      "Attempted 0, success 0, failed 0 \n",
      "\n",
      "Left 0.000000 to 0.060000, Right 0.060000 to 0.130000\n",
      "Attempted 0, success 0, failed 0 \n",
      "\n",
      "Left 0.000000 to 0.050000, Right 0.050000 to 0.120000\n",
      "Attempted 0, success 0, failed 0 \n",
      "\n",
      "Left 0.000000 to 0.050000, Right 0.050000 to 0.120000\n",
      "Attempted 0, success 0, failed 0 \n",
      "\n",
      "Left 0.050000 to 0.120000, Right 0.000000 to 0.050000\n",
      "Attempted 0, success 0, failed 0 \n",
      "\n",
      "Left 0.045000 to 0.100000, Right 0.000000 to 0.045000\n",
      "Attempted 0, success 0, failed 0 \n",
      "\n",
      "Left 0.050000 to 0.110000, Right 0.000000 to 0.050000\n",
      "Attempted 0, success 0, failed 0 \n",
      "\n",
      "Left 0.040000 to 0.180000, Right 0.000000 to 0.040000\n",
      "Attempted 0, success 0, failed 0 \n",
      "\n",
      "Left 0.040000 to 0.120000, Right 0.000000 to 0.040000\n",
      "Attempted 0, success 0, failed 0 \n",
      "\n",
      "Left 0.000000 to 0.040000, Right 0.040000 to 0.090000\n",
      "Attempted 0, success 0, failed 0 \n",
      "\n",
      "Left 0.090000 to 0.180000, Right 0.000000 to 0.090000\n",
      "Attempted 0, success 0, failed 0 \n",
      "\n",
      "Left -1.000000 to -1.000000, Right -1.000000 to -1.000000\n",
      "Attempted 0, success 0, failed 0 \n",
      "\n",
      "Left 0.000000 to 0.040000, Right 0.040000 to 0.090000\n",
      "Attempted 0, success 0, failed 0 \n",
      "\n",
      "Left 0.015000 to 0.050000, Right 0.000000 to 0.015000\n",
      "Attempted 0, success 0, failed 0 \n",
      "\n",
      "Left 0.040000 to 0.100000, Right 0.000000 to 0.040000\n",
      "Attempted 0, success 0, failed 0 \n",
      "\n",
      "Left 0.040000 to 0.160000, Right 0.000000 to 0.040000\n",
      "Attempted 0, success 0, failed 0 \n",
      "\n",
      "Left 0.035000 to 0.080000, Right 0.000000 to 0.035000\n",
      "Attempted 0, success 0, failed 0 \n",
      "\n",
      "Left 0.045000 to 0.100000, Right 0.000000 to 0.045000\n",
      "Attempted 0, success 0, failed 0 \n",
      "\n",
      "Left 0.040000 to 0.100000, Right 0.000000 to 0.040000\n",
      "Attempted 0, success 0, failed 0 \n",
      "\n",
      "Left 0.030000 to 0.080000, Right 0.000000 to 0.030000\n",
      "Attempted 0, success 0, failed 0 \n",
      "\n",
      "Left 0.030000 to 0.080000, Right 0.000000 to 0.035000\n",
      "Attempted 0, success 0, failed 0 \n",
      "\n",
      "Left 0.000000 to 0.040000, Right 0.040000 to 0.100000\n",
      "Attempted 0, success 0, failed 0 \n",
      "\n",
      "Left 0.060000 to 0.120000, Right 0.000000 to 0.060000\n",
      "Attempted 0, success 0, failed 0 \n",
      "\n",
      "Left 0.000000 to 0.060000, Right 0.060000 to 0.140000\n",
      "Attempted 0, success 0, failed 0 \n",
      "\n",
      "Left 0.030000 to 0.070000, Right 0.000000 to 0.030000\n",
      "Attempted 0, success 0, failed 0 \n",
      "\n",
      "Left 0.025000 to 0.050000, Right 0.000000 to 0.030000\n",
      "Attempted 0, success 0, failed 0 \n",
      "\n",
      "Left 0.000000 to 0.040000, Right 0.040000 to 0.100000\n",
      "Attempted 0, success 0, failed 0 \n",
      "\n",
      "Left 0.000000 to 0.070000, Right -1.000000 to -1.000000\n",
      "Attempted 0, success 0, failed 0 \n",
      "\n",
      "Left 0.045000 to 0.080000, Right 0.000000 to 0.045000\n",
      "Attempted 0, success 0, failed 0 \n",
      "\n",
      "Left 0.060000 to 0.170000, Right 0.000000 to 0.060000\n",
      "Attempted 0, success 0, failed 0 \n",
      "\n",
      "Left 0.045000 to 0.100000, Right 0.000000 to 0.050000\n",
      "Attempted 0, success 0, failed 0 \n",
      "\n",
      "Left 0.040000 to 0.090000, Right 0.000000 to 0.040000\n",
      "Attempted 0, success 0, failed 0 \n",
      "\n",
      "Left 0.020000 to 0.060000, Right 0.000000 to 0.025000\n",
      "Attempted 0, success 0, failed 0 \n",
      "\n",
      "Left 0.040000 to 0.080000, Right 0.000000 to 0.040000\n",
      "Attempted 0, success 0, failed 0 \n",
      "\n",
      "Left 0.040000 to 0.080000, Right 0.000000 to 0.040000\n",
      "Attempted 0, success 0, failed 0 \n",
      "\n",
      "Left 0.060000 to 0.170000, Right 0.000000 to 0.060000\n",
      "Attempted 0, success 0, failed 0 \n",
      "\n",
      "Left 0.050000 to 0.100000, Right 0.000000 to 0.050000\n",
      "Attempted 0, success 0, failed 0 \n",
      "\n",
      "Left 0.045000 to 0.090000, Right 0.000000 to 0.050000\n",
      "Attempted 0, success 0, failed 0 \n",
      "\n",
      "Left 0.070000 to 0.140000, Right 0.000000 to 0.070000\n",
      "Attempted 0, success 0, failed 0 \n",
      "\n",
      "Left 0.020000 to 0.050000, Right 0.000000 to 0.020000\n",
      "Attempted 0, success 0, failed 0 \n",
      "\n",
      "Left 0.040000 to 0.090000, Right 0.000000 to 0.050000\n",
      "Attempted 0, success 0, failed 0 \n",
      "\n",
      "Left 0.000000 to 0.040000, Right 0.040000 to 0.130000\n",
      "Attempted 0, success 0, failed 0 \n",
      "\n",
      "Left 0.000000 to 0.060000, Right 0.050000 to 0.130000\n",
      "Attempted 0, success 0, failed 0 \n",
      "\n",
      "Left 0.030000 to 0.080000, Right 0.000000 to 0.040000\n",
      "Attempted 0, success 0, failed 0 \n",
      "\n",
      "Left 0.030000 to 0.080000, Right 0.000000 to 0.030000\n",
      "Attempted 0, success 0, failed 0 \n",
      "\n",
      "Left 0.030000 to 0.060000, Right 0.000000 to 0.030000\n",
      "Attempted 0, success 0, failed 0 \n",
      "\n",
      "Left 0.000000 to 0.050000, Right 0.050000 to 0.100000\n",
      "Attempted 0, success 0, failed 0 \n",
      "\n",
      "Left 0.000000 to 0.050000, Right 0.045000 to 0.130000\n",
      "Attempted 0, success 0, failed 0 \n",
      "\n",
      "Left 0.000000 to 0.030000, Right 0.030000 to 0.080000\n",
      "Attempted 0, success 0, failed 0 \n",
      "\n",
      "Left 0.000000 to 0.030000, Right 0.030000 to 0.080000\n",
      "Attempted 0, success 0, failed 0 \n",
      "\n",
      "Left 0.030000 to 0.070000, Right 0.000000 to 0.030000\n",
      "Attempted 0, success 0, failed 0 \n",
      "\n",
      "Left 0.000000 to 0.040000, Right 0.040000 to 0.110000\n",
      "Attempted 0, success 0, failed 0 \n",
      "\n",
      "Left 0.000000 to 0.040000, Right 0.040000 to 0.090000\n",
      "Attempted 0, success 0, failed 0 \n",
      "\n",
      "Left 0.000000 to 0.080000, Right -1.000000 to -1.000000\n",
      "Attempted 0, success 0, failed 0 \n",
      "\n",
      "Left 0.020000 to 0.070000, Right 0.000000 to 0.025000\n",
      "Attempted 0, success 0, failed 0 \n",
      "\n",
      "Left -1.000000 to -1.000000, Right -1.000000 to -1.000000\n",
      "Attempted 0, success 0, failed 0 \n",
      "\n",
      "Left 0.000000 to 0.040000, Right 0.040000 to 0.090000\n",
      "Attempted 0, success 0, failed 0 \n",
      "\n",
      "Left 0.030000 to 0.060000, Right 0.000000 to 0.030000\n",
      "Attempted 0, success 0, failed 0 \n",
      "\n",
      "Left 0.000000 to 0.050000, Right 0.050000 to 0.120000\n",
      "Attempted 0, success 0, failed 0 \n",
      "\n",
      "Left 0.000000 to 0.090000, Right 0.080000 to 0.150000\n",
      "Attempted 0, success 0, failed 0 \n",
      "\n",
      "Left 0.035000 to 0.080000, Right 0.000000 to 0.040000\n",
      "Attempted 0, success 0, failed 0 \n",
      "\n",
      "Left 0.050000 to 0.120000, Right 0.000000 to 0.060000\n",
      "Attempted 0, success 0, failed 0 \n",
      "\n",
      "Left 0.025000 to 0.070000, Right 0.000000 to 0.030000\n",
      "Attempted 0, success 0, failed 0 \n",
      "\n",
      "Left 0.070000 to 0.130000, Right 0.000000 to 0.070000\n",
      "Attempted 0, success 0, failed 0 \n",
      "\n",
      "Left 0.040000 to 0.120000, Right 0.000000 to 0.040000\n",
      "Attempted 0, success 0, failed 0 \n",
      "\n",
      "Left 0.040000 to 0.070000, Right 0.000000 to 0.040000\n",
      "Attempted 0, success 0, failed 0 \n",
      "\n",
      "Left 0.055000 to 0.110000, Right 0.000000 to 0.060000\n"
     ]
    },
    {
     "name": "stderr",
     "output_type": "stream",
     "text": [
      "\r",
      "chunk:   0%|                                                                         | 0/122 [00:00<?, ?it/s, now=None]"
     ]
    },
    {
     "name": "stdout",
     "output_type": "stream",
     "text": [
      "Moviepy - Building video E:/Saiful/park_motor/LeftRight/Task2_Videos/Left\\2019-09-25T18-51-06-885Z26-task2-left.mp4.\n",
      "MoviePy - Writing audio in 2019-09-25T18-51-06-885Z26-task2-leftTEMP_MPY_wvf_snd.mp4\n"
     ]
    },
    {
     "name": "stderr",
     "output_type": "stream",
     "text": [
      "t:   0%|                                                                             | 0/165 [00:00<?, ?it/s, now=None]"
     ]
    },
    {
     "name": "stdout",
     "output_type": "stream",
     "text": [
      "MoviePy - Done.\n",
      "Moviepy - Writing video E:/Saiful/park_motor/LeftRight/Task2_Videos/Left\\2019-09-25T18-51-06-885Z26-task2-left.mp4\n",
      "\n"
     ]
    },
    {
     "name": "stderr",
     "output_type": "stream",
     "text": [
      "                                                                                                                       \r"
     ]
    },
    {
     "name": "stdout",
     "output_type": "stream",
     "text": [
      "Moviepy - Done !\n",
      "Moviepy - video ready E:/Saiful/park_motor/LeftRight/Task2_Videos/Left\\2019-09-25T18-51-06-885Z26-task2-left.mp4\n",
      "Attempted 1, success 1, failed 0 \n",
      "\n",
      "Left 0.150000 to 0.250000, Right 0.000000 to 0.150000\n"
     ]
    },
    {
     "name": "stderr",
     "output_type": "stream",
     "text": [
      "\r",
      "chunk:   0%|                                                                         | 0/221 [00:00<?, ?it/s, now=None]"
     ]
    },
    {
     "name": "stdout",
     "output_type": "stream",
     "text": [
      "Moviepy - Building video E:/Saiful/park_motor/LeftRight/Task2_Videos/Left\\2019-09-25T18-52-46-849Z28-task2-left.mp4.\n",
      "MoviePy - Writing audio in 2019-09-25T18-52-46-849Z28-task2-leftTEMP_MPY_wvf_snd.mp4\n"
     ]
    },
    {
     "name": "stderr",
     "output_type": "stream",
     "text": [
      "t:   0%|                                                                             | 0/300 [00:00<?, ?it/s, now=None]"
     ]
    },
    {
     "name": "stdout",
     "output_type": "stream",
     "text": [
      "MoviePy - Done.\n",
      "Moviepy - Writing video E:/Saiful/park_motor/LeftRight/Task2_Videos/Left\\2019-09-25T18-52-46-849Z28-task2-left.mp4\n",
      "\n"
     ]
    },
    {
     "name": "stderr",
     "output_type": "stream",
     "text": [
      "                                                                                                                       \r"
     ]
    },
    {
     "name": "stdout",
     "output_type": "stream",
     "text": [
      "Moviepy - Done !\n",
      "Moviepy - video ready E:/Saiful/park_motor/LeftRight/Task2_Videos/Left\\2019-09-25T18-52-46-849Z28-task2-left.mp4\n",
      "Attempted 2, success 2, failed 0 \n",
      "\n",
      "Left 0.050000 to 0.100000, Right 0.000000 to 0.050000\n",
      "Attempted 2, success 2, failed 0 \n",
      "\n",
      "Left 0.040000 to 0.090000, Right 0.000000 to 0.040000\n"
     ]
    },
    {
     "name": "stderr",
     "output_type": "stream",
     "text": [
      "\r",
      "chunk:   0%|                                                                         | 0/111 [00:00<?, ?it/s, now=None]"
     ]
    },
    {
     "name": "stdout",
     "output_type": "stream",
     "text": [
      "Moviepy - Building video E:/Saiful/park_motor/LeftRight/Task2_Videos/Left\\2019-10-02T00-47-55-382Z3-task2-left.mp4.\n",
      "MoviePy - Writing audio in 2019-10-02T00-47-55-382Z3-task2-leftTEMP_MPY_wvf_snd.mp4\n"
     ]
    },
    {
     "name": "stderr",
     "output_type": "stream",
     "text": [
      "t:   0%|                                                                             | 0/150 [00:00<?, ?it/s, now=None]"
     ]
    },
    {
     "name": "stdout",
     "output_type": "stream",
     "text": [
      "MoviePy - Done.\n",
      "Moviepy - Writing video E:/Saiful/park_motor/LeftRight/Task2_Videos/Left\\2019-10-02T00-47-55-382Z3-task2-left.mp4\n",
      "\n"
     ]
    },
    {
     "name": "stderr",
     "output_type": "stream",
     "text": [
      "                                                                                                                       \r"
     ]
    },
    {
     "name": "stdout",
     "output_type": "stream",
     "text": [
      "Moviepy - Done !\n",
      "Moviepy - video ready E:/Saiful/park_motor/LeftRight/Task2_Videos/Left\\2019-10-02T00-47-55-382Z3-task2-left.mp4\n",
      "Attempted 3, success 3, failed 0 \n",
      "\n",
      "Left 0.050000 to 0.100000, Right 0.000000 to 0.055000\n"
     ]
    },
    {
     "name": "stderr",
     "output_type": "stream",
     "text": [
      "\r",
      "chunk:   0%|                                                                         | 0/111 [00:00<?, ?it/s, now=None]"
     ]
    },
    {
     "name": "stdout",
     "output_type": "stream",
     "text": [
      "Moviepy - Building video E:/Saiful/park_motor/LeftRight/Task2_Videos/Left\\2019-10-03T13-13-40-042Z56-task2-left.mp4.\n",
      "MoviePy - Writing audio in 2019-10-03T13-13-40-042Z56-task2-leftTEMP_MPY_wvf_snd.mp4\n"
     ]
    },
    {
     "name": "stderr",
     "output_type": "stream",
     "text": [
      "t:   0%|                                                                            | 0/1250 [00:00<?, ?it/s, now=None]"
     ]
    },
    {
     "name": "stdout",
     "output_type": "stream",
     "text": [
      "MoviePy - Done.\n",
      "Moviepy - Writing video E:/Saiful/park_motor/LeftRight/Task2_Videos/Left\\2019-10-03T13-13-40-042Z56-task2-left.mp4\n",
      "\n"
     ]
    },
    {
     "name": "stderr",
     "output_type": "stream",
     "text": [
      "                                                                                                                       \r"
     ]
    },
    {
     "name": "stdout",
     "output_type": "stream",
     "text": [
      "Moviepy - Done !\n",
      "Moviepy - video ready E:/Saiful/park_motor/LeftRight/Task2_Videos/Left\\2019-10-03T13-13-40-042Z56-task2-left.mp4\n",
      "Attempted 4, success 4, failed 0 \n",
      "\n",
      "Left 0.045000 to 0.120000, Right 0.000000 to 0.050000\n"
     ]
    },
    {
     "name": "stderr",
     "output_type": "stream",
     "text": [
      "\r",
      "chunk:   0%|                                                                         | 0/166 [00:00<?, ?it/s, now=None]"
     ]
    },
    {
     "name": "stdout",
     "output_type": "stream",
     "text": [
      "Moviepy - Building video E:/Saiful/park_motor/LeftRight/Task2_Videos/Left\\2019-10-05T02-22-14-207Z34-task2-left.mp4.\n",
      "MoviePy - Writing audio in 2019-10-05T02-22-14-207Z34-task2-leftTEMP_MPY_wvf_snd.mp4\n"
     ]
    },
    {
     "name": "stderr",
     "output_type": "stream",
     "text": [
      "t:   0%|                                                                             | 0/225 [00:00<?, ?it/s, now=None]"
     ]
    },
    {
     "name": "stdout",
     "output_type": "stream",
     "text": [
      "MoviePy - Done.\n",
      "Moviepy - Writing video E:/Saiful/park_motor/LeftRight/Task2_Videos/Left\\2019-10-05T02-22-14-207Z34-task2-left.mp4\n",
      "\n"
     ]
    },
    {
     "name": "stderr",
     "output_type": "stream",
     "text": [
      "                                                                                                                       \r"
     ]
    },
    {
     "name": "stdout",
     "output_type": "stream",
     "text": [
      "Moviepy - Done !\n",
      "Moviepy - video ready E:/Saiful/park_motor/LeftRight/Task2_Videos/Left\\2019-10-05T02-22-14-207Z34-task2-left.mp4\n",
      "Attempted 5, success 5, failed 0 \n",
      "\n",
      "Left 0.090000 to 0.170000, Right 0.000000 to 0.090000\n"
     ]
    },
    {
     "name": "stderr",
     "output_type": "stream",
     "text": [
      "\r",
      "chunk:   0%|                                                                         | 0/177 [00:00<?, ?it/s, now=None]"
     ]
    },
    {
     "name": "stdout",
     "output_type": "stream",
     "text": [
      "Moviepy - Building video E:/Saiful/park_motor/LeftRight/Task2_Videos/Left\\2019-10-12T17-55-32-753Z36-task2-left.mp4.\n",
      "MoviePy - Writing audio in 2019-10-12T17-55-32-753Z36-task2-leftTEMP_MPY_wvf_snd.mp4\n"
     ]
    },
    {
     "name": "stderr",
     "output_type": "stream",
     "text": [
      "t:   0%|                                                                             | 0/128 [00:00<?, ?it/s, now=None]"
     ]
    },
    {
     "name": "stdout",
     "output_type": "stream",
     "text": [
      "MoviePy - Done.\n",
      "Moviepy - Writing video E:/Saiful/park_motor/LeftRight/Task2_Videos/Left\\2019-10-12T17-55-32-753Z36-task2-left.mp4\n",
      "\n"
     ]
    },
    {
     "name": "stderr",
     "output_type": "stream",
     "text": [
      "                                                                                                                       \r"
     ]
    },
    {
     "name": "stdout",
     "output_type": "stream",
     "text": [
      "Moviepy - Done !\n",
      "Moviepy - video ready E:/Saiful/park_motor/LeftRight/Task2_Videos/Left\\2019-10-12T17-55-32-753Z36-task2-left.mp4\n",
      "Attempted 6, success 6, failed 0 \n",
      "\n",
      "Left 0.035000 to 0.090000, Right 0.000000 to 0.040000\n",
      "Attempted 6, success 6, failed 0 \n",
      "\n",
      "Left 0.000000 to 0.035000, Right 0.030000 to 0.080000\n"
     ]
    },
    {
     "name": "stderr",
     "output_type": "stream",
     "text": [
      "\r",
      "chunk:   0%|                                                                         | 0/111 [00:00<?, ?it/s, now=None]"
     ]
    },
    {
     "name": "stdout",
     "output_type": "stream",
     "text": [
      "Moviepy - Building video E:/Saiful/park_motor/LeftRight/Task2_Videos/Right\\2019-10-21T22-12-41-294Z29-task2-right.mp4.\n",
      "MoviePy - Writing audio in 2019-10-21T22-12-41-294Z29-task2-rightTEMP_MPY_wvf_snd.mp4\n"
     ]
    },
    {
     "name": "stderr",
     "output_type": "stream",
     "text": [
      "t:   0%|                                                                              | 0/84 [00:00<?, ?it/s, now=None]"
     ]
    },
    {
     "name": "stdout",
     "output_type": "stream",
     "text": [
      "MoviePy - Done.\n",
      "Moviepy - Writing video E:/Saiful/park_motor/LeftRight/Task2_Videos/Right\\2019-10-21T22-12-41-294Z29-task2-right.mp4\n",
      "\n"
     ]
    },
    {
     "name": "stderr",
     "output_type": "stream",
     "text": [
      "                                                                                                                       \r"
     ]
    },
    {
     "name": "stdout",
     "output_type": "stream",
     "text": [
      "Moviepy - Done !\n",
      "Moviepy - video ready E:/Saiful/park_motor/LeftRight/Task2_Videos/Right\\2019-10-21T22-12-41-294Z29-task2-right.mp4\n",
      "Attempted 7, success 7, failed 0 \n",
      "\n",
      "Left 0.090000 to 0.160000, Right 0.000000 to 0.050000\n",
      "Attempted 7, success 7, failed 0 \n",
      "\n",
      "Left 0.030000 to 0.060000, Right 0.000000 to 0.030000\n",
      "Attempted 7, success 7, failed 0 \n",
      "\n",
      "Left 0.045000 to 0.090000, Right 0.000000 to 0.050000\n"
     ]
    },
    {
     "name": "stderr",
     "output_type": "stream",
     "text": [
      "\r",
      "chunk:   0%|                                                                         | 0/100 [00:00<?, ?it/s, now=None]"
     ]
    },
    {
     "name": "stdout",
     "output_type": "stream",
     "text": [
      "Moviepy - Building video E:/Saiful/park_motor/LeftRight/Task2_Videos/Left\\2019-10-21T22-21-09-305Z59-task2-left.mp4.\n",
      "MoviePy - Writing audio in 2019-10-21T22-21-09-305Z59-task2-leftTEMP_MPY_wvf_snd.mp4\n"
     ]
    },
    {
     "name": "stderr",
     "output_type": "stream",
     "text": [
      "t:   0%|                                                                            | 0/4500 [00:00<?, ?it/s, now=None]"
     ]
    },
    {
     "name": "stdout",
     "output_type": "stream",
     "text": [
      "MoviePy - Done.\n",
      "Moviepy - Writing video E:/Saiful/park_motor/LeftRight/Task2_Videos/Left\\2019-10-21T22-21-09-305Z59-task2-left.mp4\n",
      "\n"
     ]
    },
    {
     "name": "stderr",
     "output_type": "stream",
     "text": [
      "                                                                                                                       \r"
     ]
    },
    {
     "name": "stdout",
     "output_type": "stream",
     "text": [
      "Moviepy - Done !\n",
      "Moviepy - video ready E:/Saiful/park_motor/LeftRight/Task2_Videos/Left\\2019-10-21T22-21-09-305Z59-task2-left.mp4\n",
      "Attempted 8, success 8, failed 0 \n",
      "\n",
      "Left 0.060000 to 0.120000, Right 0.000000 to 0.060000\n"
     ]
    },
    {
     "name": "stderr",
     "output_type": "stream",
     "text": [
      "\r",
      "chunk:   0%|                                                                         | 0/133 [00:00<?, ?it/s, now=None]"
     ]
    },
    {
     "name": "stdout",
     "output_type": "stream",
     "text": [
      "Moviepy - Building video E:/Saiful/park_motor/LeftRight/Task2_Videos/Left\\2019-10-21T22-25-15-376Z77-task2-left.mp4.\n",
      "MoviePy - Writing audio in 2019-10-21T22-25-15-376Z77-task2-leftTEMP_MPY_wvf_snd.mp4\n"
     ]
    },
    {
     "name": "stderr",
     "output_type": "stream",
     "text": [
      "t:   0%|                                                                             | 0/600 [00:00<?, ?it/s, now=None]"
     ]
    },
    {
     "name": "stdout",
     "output_type": "stream",
     "text": [
      "MoviePy - Done.\n",
      "Moviepy - Writing video E:/Saiful/park_motor/LeftRight/Task2_Videos/Left\\2019-10-21T22-25-15-376Z77-task2-left.mp4\n",
      "\n"
     ]
    },
    {
     "name": "stderr",
     "output_type": "stream",
     "text": [
      "                                                                                                                       \r"
     ]
    },
    {
     "name": "stdout",
     "output_type": "stream",
     "text": [
      "Moviepy - Done !\n",
      "Moviepy - video ready E:/Saiful/park_motor/LeftRight/Task2_Videos/Left\\2019-10-21T22-25-15-376Z77-task2-left.mp4\n",
      "Attempted 9, success 9, failed 0 \n",
      "\n",
      "Left 0.120000 to 0.290000, Right 0.000000 to 0.120000\n"
     ]
    },
    {
     "name": "stderr",
     "output_type": "stream",
     "text": [
      "\r",
      "chunk:   0%|                                                                         | 0/375 [00:00<?, ?it/s, now=None]"
     ]
    },
    {
     "name": "stdout",
     "output_type": "stream",
     "text": [
      "Moviepy - Building video E:/Saiful/park_motor/LeftRight/Task2_Videos/Left\\2019-10-21T22-27-31-478Z15-task2-left.mp4.\n",
      "MoviePy - Writing audio in 2019-10-21T22-27-31-478Z15-task2-leftTEMP_MPY_wvf_snd.mp4\n"
     ]
    },
    {
     "name": "stderr",
     "output_type": "stream",
     "text": [
      "t:   0%|                                                                             | 0/284 [00:00<?, ?it/s, now=None]"
     ]
    },
    {
     "name": "stdout",
     "output_type": "stream",
     "text": [
      "MoviePy - Done.\n",
      "Moviepy - Writing video E:/Saiful/park_motor/LeftRight/Task2_Videos/Left\\2019-10-21T22-27-31-478Z15-task2-left.mp4\n",
      "\n"
     ]
    },
    {
     "name": "stderr",
     "output_type": "stream",
     "text": [
      "                                                                                                                       \r"
     ]
    },
    {
     "name": "stdout",
     "output_type": "stream",
     "text": [
      "Moviepy - Done !\n",
      "Moviepy - video ready E:/Saiful/park_motor/LeftRight/Task2_Videos/Left\\2019-10-21T22-27-31-478Z15-task2-left.mp4\n",
      "Attempted 10, success 10, failed 0 \n",
      "\n",
      "Left 0.030000 to 0.090000, Right 0.000000 to 0.030000\n"
     ]
    },
    {
     "name": "stderr",
     "output_type": "stream",
     "text": [
      "\r",
      "chunk:   0%|                                                                         | 0/133 [00:00<?, ?it/s, now=None]"
     ]
    },
    {
     "name": "stdout",
     "output_type": "stream",
     "text": [
      "Moviepy - Building video E:/Saiful/park_motor/LeftRight/Task2_Videos/Left\\2019-10-21T22-32-28-178Z23-task2-left.mp4.\n",
      "MoviePy - Writing audio in 2019-10-21T22-32-28-178Z23-task2-leftTEMP_MPY_wvf_snd.mp4\n"
     ]
    },
    {
     "name": "stderr",
     "output_type": "stream",
     "text": [
      "t:   0%|                                                                             | 0/101 [00:00<?, ?it/s, now=None]"
     ]
    },
    {
     "name": "stdout",
     "output_type": "stream",
     "text": [
      "MoviePy - Done.\n",
      "Moviepy - Writing video E:/Saiful/park_motor/LeftRight/Task2_Videos/Left\\2019-10-21T22-32-28-178Z23-task2-left.mp4\n",
      "\n"
     ]
    },
    {
     "name": "stderr",
     "output_type": "stream",
     "text": [
      "                                                                                                                       \r"
     ]
    },
    {
     "name": "stdout",
     "output_type": "stream",
     "text": [
      "Moviepy - Done !\n",
      "Moviepy - video ready E:/Saiful/park_motor/LeftRight/Task2_Videos/Left\\2019-10-21T22-32-28-178Z23-task2-left.mp4\n",
      "Attempted 11, success 11, failed 0 \n",
      "\n",
      "Left 0.070000 to 0.170000, Right 0.000000 to 0.070000\n"
     ]
    },
    {
     "name": "stderr",
     "output_type": "stream",
     "text": [
      "\r",
      "chunk:   0%|                                                                         | 0/221 [00:00<?, ?it/s, now=None]"
     ]
    },
    {
     "name": "stdout",
     "output_type": "stream",
     "text": [
      "Moviepy - Building video E:/Saiful/park_motor/LeftRight/Task2_Videos/Left\\2019-10-21T22-38-56-781Z98-task2-left.mp4.\n",
      "MoviePy - Writing audio in 2019-10-21T22-38-56-781Z98-task2-leftTEMP_MPY_wvf_snd.mp4\n"
     ]
    },
    {
     "name": "stderr",
     "output_type": "stream",
     "text": [
      "t:   0%|                                                                             | 0/167 [00:00<?, ?it/s, now=None]"
     ]
    },
    {
     "name": "stdout",
     "output_type": "stream",
     "text": [
      "MoviePy - Done.\n",
      "Moviepy - Writing video E:/Saiful/park_motor/LeftRight/Task2_Videos/Left\\2019-10-21T22-38-56-781Z98-task2-left.mp4\n",
      "\n"
     ]
    },
    {
     "name": "stderr",
     "output_type": "stream",
     "text": [
      "                                                                                                                       \r"
     ]
    },
    {
     "name": "stdout",
     "output_type": "stream",
     "text": [
      "Moviepy - Done !\n",
      "Moviepy - video ready E:/Saiful/park_motor/LeftRight/Task2_Videos/Left\\2019-10-21T22-38-56-781Z98-task2-left.mp4\n",
      "Attempted 12, success 12, failed 0 \n",
      "\n",
      "Left 0.000000 to 0.070000, Right 0.070000 to 0.150000\n"
     ]
    },
    {
     "name": "stderr",
     "output_type": "stream",
     "text": [
      "\r",
      "chunk:   0%|                                                                         | 0/177 [00:00<?, ?it/s, now=None]"
     ]
    },
    {
     "name": "stdout",
     "output_type": "stream",
     "text": [
      "Moviepy - Building video E:/Saiful/park_motor/LeftRight/Task2_Videos/Right\\2019-10-21T22-39-32-783Z31-task2-right.mp4.\n",
      "MoviePy - Writing audio in 2019-10-21T22-39-32-783Z31-task2-rightTEMP_MPY_wvf_snd.mp4\n"
     ]
    },
    {
     "name": "stderr",
     "output_type": "stream",
     "text": [
      "t:   0%|                                                                             | 0/134 [00:00<?, ?it/s, now=None]"
     ]
    },
    {
     "name": "stdout",
     "output_type": "stream",
     "text": [
      "MoviePy - Done.\n",
      "Moviepy - Writing video E:/Saiful/park_motor/LeftRight/Task2_Videos/Right\\2019-10-21T22-39-32-783Z31-task2-right.mp4\n",
      "\n"
     ]
    },
    {
     "name": "stderr",
     "output_type": "stream",
     "text": [
      "                                                                                                                       \r"
     ]
    },
    {
     "name": "stdout",
     "output_type": "stream",
     "text": [
      "Moviepy - Done !\n",
      "Moviepy - video ready E:/Saiful/park_motor/LeftRight/Task2_Videos/Right\\2019-10-21T22-39-32-783Z31-task2-right.mp4\n",
      "Attempted 13, success 13, failed 0 \n",
      "\n",
      "Left 0.070000 to 0.160000, Right 0.000000 to 0.070000\n"
     ]
    },
    {
     "name": "stderr",
     "output_type": "stream",
     "text": [
      "\r",
      "chunk:   0%|                                                                         | 0/199 [00:00<?, ?it/s, now=None]"
     ]
    },
    {
     "name": "stdout",
     "output_type": "stream",
     "text": [
      "Moviepy - Building video E:/Saiful/park_motor/LeftRight/Task2_Videos/Left\\2019-10-21T23-26-05-502Z70-task2-left.mp4.\n",
      "MoviePy - Writing audio in 2019-10-21T23-26-05-502Z70-task2-leftTEMP_MPY_wvf_snd.mp4\n"
     ]
    },
    {
     "name": "stderr",
     "output_type": "stream",
     "text": [
      "t:   0%|                                                                             | 0/151 [00:00<?, ?it/s, now=None]"
     ]
    },
    {
     "name": "stdout",
     "output_type": "stream",
     "text": [
      "MoviePy - Done.\n",
      "Moviepy - Writing video E:/Saiful/park_motor/LeftRight/Task2_Videos/Left\\2019-10-21T23-26-05-502Z70-task2-left.mp4\n",
      "\n"
     ]
    },
    {
     "name": "stderr",
     "output_type": "stream",
     "text": [
      "                                                                                                                       \r"
     ]
    },
    {
     "name": "stdout",
     "output_type": "stream",
     "text": [
      "Moviepy - Done !\n",
      "Moviepy - video ready E:/Saiful/park_motor/LeftRight/Task2_Videos/Left\\2019-10-21T23-26-05-502Z70-task2-left.mp4\n",
      "Attempted 14, success 14, failed 0 \n",
      "\n",
      "Left 0.000000 to 0.075000, Right 0.070000 to 0.130000\n",
      "Attempted 14, success 14, failed 0 \n",
      "\n",
      "Left 0.000000 to 0.070000, Right 0.070000 to 0.230000\n"
     ]
    },
    {
     "name": "stderr",
     "output_type": "stream",
     "text": [
      "\r",
      "chunk:   0%|                                                                         | 0/353 [00:00<?, ?it/s, now=None]"
     ]
    },
    {
     "name": "stdout",
     "output_type": "stream",
     "text": [
      "Moviepy - Building video E:/Saiful/park_motor/LeftRight/Task2_Videos/Right\\2019-10-21T23-47-37-936Z17-task2-right.mp4.\n",
      "MoviePy - Writing audio in 2019-10-21T23-47-37-936Z17-task2-rightTEMP_MPY_wvf_snd.mp4\n"
     ]
    },
    {
     "name": "stderr",
     "output_type": "stream",
     "text": [
      "t:   0%|                                                                             | 0/480 [00:00<?, ?it/s, now=None]"
     ]
    },
    {
     "name": "stdout",
     "output_type": "stream",
     "text": [
      "MoviePy - Done.\n",
      "Moviepy - Writing video E:/Saiful/park_motor/LeftRight/Task2_Videos/Right\\2019-10-21T23-47-37-936Z17-task2-right.mp4\n",
      "\n"
     ]
    },
    {
     "name": "stderr",
     "output_type": "stream",
     "text": [
      "                                                                                                                       \r"
     ]
    },
    {
     "name": "stdout",
     "output_type": "stream",
     "text": [
      "Moviepy - Done !\n",
      "Moviepy - video ready E:/Saiful/park_motor/LeftRight/Task2_Videos/Right\\2019-10-21T23-47-37-936Z17-task2-right.mp4\n",
      "Attempted 15, success 15, failed 0 \n",
      "\n",
      "Left 0.050000 to 0.100000, Right 0.000000 to 0.050000\n"
     ]
    },
    {
     "name": "stderr",
     "output_type": "stream",
     "text": [
      "\r",
      "chunk:   0%|                                                                         | 0/111 [00:00<?, ?it/s, now=None]"
     ]
    },
    {
     "name": "stdout",
     "output_type": "stream",
     "text": [
      "Moviepy - Building video E:/Saiful/park_motor/LeftRight/Task2_Videos/Left\\2019-10-22T02-07-13-781Z42-task2-left.mp4.\n",
      "MoviePy - Writing audio in 2019-10-22T02-07-13-781Z42-task2-leftTEMP_MPY_wvf_snd.mp4\n"
     ]
    },
    {
     "name": "stderr",
     "output_type": "stream",
     "text": [
      "t:   0%|                                                                              | 0/84 [00:00<?, ?it/s, now=None]"
     ]
    },
    {
     "name": "stdout",
     "output_type": "stream",
     "text": [
      "MoviePy - Done.\n",
      "Moviepy - Writing video E:/Saiful/park_motor/LeftRight/Task2_Videos/Left\\2019-10-22T02-07-13-781Z42-task2-left.mp4\n",
      "\n"
     ]
    },
    {
     "name": "stderr",
     "output_type": "stream",
     "text": [
      "                                                                                                                       \r"
     ]
    },
    {
     "name": "stdout",
     "output_type": "stream",
     "text": [
      "Moviepy - Done !\n",
      "Moviepy - video ready E:/Saiful/park_motor/LeftRight/Task2_Videos/Left\\2019-10-22T02-07-13-781Z42-task2-left.mp4\n",
      "Attempted 16, success 16, failed 0 \n",
      "\n",
      "Left 0.065000 to 0.140000, Right 0.000000 to 0.070000\n"
     ]
    },
    {
     "name": "stderr",
     "output_type": "stream",
     "text": [
      "\r",
      "chunk:   0%|                                                                         | 0/166 [00:00<?, ?it/s, now=None]"
     ]
    },
    {
     "name": "stdout",
     "output_type": "stream",
     "text": [
      "Moviepy - Building video E:/Saiful/park_motor/LeftRight/Task2_Videos/Left\\2019-10-22T02-10-36-705Z53-task2-left.mp4.\n",
      "MoviePy - Writing audio in 2019-10-22T02-10-36-705Z53-task2-leftTEMP_MPY_wvf_snd.mp4\n"
     ]
    },
    {
     "name": "stderr",
     "output_type": "stream",
     "text": [
      "t:   0%|                                                                             | 0/226 [00:00<?, ?it/s, now=None]"
     ]
    },
    {
     "name": "stdout",
     "output_type": "stream",
     "text": [
      "MoviePy - Done.\n",
      "Moviepy - Writing video E:/Saiful/park_motor/LeftRight/Task2_Videos/Left\\2019-10-22T02-10-36-705Z53-task2-left.mp4\n",
      "\n"
     ]
    },
    {
     "name": "stderr",
     "output_type": "stream",
     "text": [
      "                                                                                                                       \r"
     ]
    },
    {
     "name": "stdout",
     "output_type": "stream",
     "text": [
      "Moviepy - Done !\n",
      "Moviepy - video ready E:/Saiful/park_motor/LeftRight/Task2_Videos/Left\\2019-10-22T02-10-36-705Z53-task2-left.mp4\n",
      "Attempted 17, success 17, failed 0 \n",
      "\n",
      "Left 0.055000 to 0.110000, Right 0.000000 to 0.060000\n"
     ]
    },
    {
     "name": "stderr",
     "output_type": "stream",
     "text": [
      "\r",
      "chunk:   0%|                                                                         | 0/122 [00:00<?, ?it/s, now=None]"
     ]
    },
    {
     "name": "stdout",
     "output_type": "stream",
     "text": [
      "Moviepy - Building video E:/Saiful/park_motor/LeftRight/Task2_Videos/Left\\2019-10-22T02-32-33-031Z17-task2-left.mp4.\n",
      "MoviePy - Writing audio in 2019-10-22T02-32-33-031Z17-task2-leftTEMP_MPY_wvf_snd.mp4\n"
     ]
    },
    {
     "name": "stderr",
     "output_type": "stream",
     "text": [
      "t:   0%|                                                                              | 0/83 [00:00<?, ?it/s, now=None]"
     ]
    },
    {
     "name": "stdout",
     "output_type": "stream",
     "text": [
      "MoviePy - Done.\n",
      "Moviepy - Writing video E:/Saiful/park_motor/LeftRight/Task2_Videos/Left\\2019-10-22T02-32-33-031Z17-task2-left.mp4\n",
      "\n"
     ]
    },
    {
     "name": "stderr",
     "output_type": "stream",
     "text": [
      "                                                                                                                       \r"
     ]
    },
    {
     "name": "stdout",
     "output_type": "stream",
     "text": [
      "Moviepy - Done !\n",
      "Moviepy - video ready E:/Saiful/park_motor/LeftRight/Task2_Videos/Left\\2019-10-22T02-32-33-031Z17-task2-left.mp4\n",
      "Attempted 18, success 18, failed 0 \n",
      "\n",
      "Left 0.000000 to 0.050000, Right 0.050000 to 0.100000\n",
      "Attempted 18, success 18, failed 0 \n",
      "\n",
      "Left 0.040000 to 0.080000, Right 0.000000 to 0.040000\n",
      "Attempted 18, success 18, failed 0 \n",
      "\n",
      "Left 0.040000 to 0.100000, Right 0.000000 to 0.045000\n"
     ]
    },
    {
     "name": "stderr",
     "output_type": "stream",
     "text": [
      "\r",
      "chunk:   0%|                                                                         | 0/133 [00:00<?, ?it/s, now=None]"
     ]
    },
    {
     "name": "stdout",
     "output_type": "stream",
     "text": [
      "Moviepy - Building video E:/Saiful/park_motor/LeftRight/Task2_Videos/Left\\2019-10-22T17-18-47-406Z28-task2-left.mp4.\n",
      "MoviePy - Writing audio in 2019-10-22T17-18-47-406Z28-task2-leftTEMP_MPY_wvf_snd.mp4\n"
     ]
    },
    {
     "name": "stderr",
     "output_type": "stream",
     "text": [
      "t:   0%|                                                                             | 0/101 [00:00<?, ?it/s, now=None]"
     ]
    },
    {
     "name": "stdout",
     "output_type": "stream",
     "text": [
      "MoviePy - Done.\n",
      "Moviepy - Writing video E:/Saiful/park_motor/LeftRight/Task2_Videos/Left\\2019-10-22T17-18-47-406Z28-task2-left.mp4\n",
      "\n"
     ]
    },
    {
     "name": "stderr",
     "output_type": "stream",
     "text": [
      "                                                                                                                       \r"
     ]
    },
    {
     "name": "stdout",
     "output_type": "stream",
     "text": [
      "Moviepy - Done !\n",
      "Moviepy - video ready E:/Saiful/park_motor/LeftRight/Task2_Videos/Left\\2019-10-22T17-18-47-406Z28-task2-left.mp4\n",
      "Attempted 19, success 19, failed 0 \n",
      "\n",
      "Left 0.120000 to 0.280000, Right 0.000000 to 0.120000\n"
     ]
    },
    {
     "name": "stderr",
     "output_type": "stream",
     "text": [
      "\r",
      "chunk:   0%|                                                                         | 0/353 [00:00<?, ?it/s, now=None]"
     ]
    },
    {
     "name": "stdout",
     "output_type": "stream",
     "text": [
      "Moviepy - Building video E:/Saiful/park_motor/LeftRight/Task2_Videos/Left\\2019-10-22T19-11-09-056Z21-task2-left.mp4.\n",
      "MoviePy - Writing audio in 2019-10-22T19-11-09-056Z21-task2-leftTEMP_MPY_wvf_snd.mp4\n"
     ]
    },
    {
     "name": "stderr",
     "output_type": "stream",
     "text": [
      "t:   0%|                                                                             | 0/481 [00:00<?, ?it/s, now=None]"
     ]
    },
    {
     "name": "stdout",
     "output_type": "stream",
     "text": [
      "MoviePy - Done.\n",
      "Moviepy - Writing video E:/Saiful/park_motor/LeftRight/Task2_Videos/Left\\2019-10-22T19-11-09-056Z21-task2-left.mp4\n",
      "\n"
     ]
    },
    {
     "name": "stderr",
     "output_type": "stream",
     "text": [
      "                                                                                                                       \r"
     ]
    },
    {
     "name": "stdout",
     "output_type": "stream",
     "text": [
      "Moviepy - Done !\n",
      "Moviepy - video ready E:/Saiful/park_motor/LeftRight/Task2_Videos/Left\\2019-10-22T19-11-09-056Z21-task2-left.mp4\n",
      "Attempted 20, success 20, failed 0 \n",
      "\n",
      "Left 0.050000 to 0.110000, Right 0.000000 to 0.050000\n"
     ]
    },
    {
     "name": "stderr",
     "output_type": "stream",
     "text": [
      "\r",
      "chunk:   0%|                                                                         | 0/133 [00:00<?, ?it/s, now=None]"
     ]
    },
    {
     "name": "stdout",
     "output_type": "stream",
     "text": [
      "Moviepy - Building video E:/Saiful/park_motor/LeftRight/Task2_Videos/Left\\2019-10-22T21-19-54-732Z9-task2-left.mp4.\n",
      "MoviePy - Writing audio in 2019-10-22T21-19-54-732Z9-task2-leftTEMP_MPY_wvf_snd.mp4\n"
     ]
    },
    {
     "name": "stderr",
     "output_type": "stream",
     "text": [
      "t:   0%|                                                                             | 0/101 [00:00<?, ?it/s, now=None]"
     ]
    },
    {
     "name": "stdout",
     "output_type": "stream",
     "text": [
      "MoviePy - Done.\n",
      "Moviepy - Writing video E:/Saiful/park_motor/LeftRight/Task2_Videos/Left\\2019-10-22T21-19-54-732Z9-task2-left.mp4\n",
      "\n"
     ]
    },
    {
     "name": "stderr",
     "output_type": "stream",
     "text": [
      "                                                                                                                       \r"
     ]
    },
    {
     "name": "stdout",
     "output_type": "stream",
     "text": [
      "Moviepy - Done !\n",
      "Moviepy - video ready E:/Saiful/park_motor/LeftRight/Task2_Videos/Left\\2019-10-22T21-19-54-732Z9-task2-left.mp4\n",
      "Attempted 21, success 21, failed 0 \n",
      "\n",
      "Left 0.000000 to 0.030000, Right 0.030000 to 0.080000\n"
     ]
    },
    {
     "name": "stderr",
     "output_type": "stream",
     "text": [
      "\r",
      "chunk:   0%|                                                                         | 0/111 [00:00<?, ?it/s, now=None]"
     ]
    },
    {
     "name": "stdout",
     "output_type": "stream",
     "text": [
      "Moviepy - Building video E:/Saiful/park_motor/LeftRight/Task2_Videos/Right\\2019-10-22T21-20-05-594Z31-task2-right.mp4.\n",
      "MoviePy - Writing audio in 2019-10-22T21-20-05-594Z31-task2-rightTEMP_MPY_wvf_snd.mp4\n"
     ]
    },
    {
     "name": "stderr",
     "output_type": "stream",
     "text": [
      "t:   0%|                                                                              | 0/84 [00:00<?, ?it/s, now=None]"
     ]
    },
    {
     "name": "stdout",
     "output_type": "stream",
     "text": [
      "MoviePy - Done.\n",
      "Moviepy - Writing video E:/Saiful/park_motor/LeftRight/Task2_Videos/Right\\2019-10-22T21-20-05-594Z31-task2-right.mp4\n",
      "\n"
     ]
    },
    {
     "name": "stderr",
     "output_type": "stream",
     "text": [
      "                                                                                                                       \r"
     ]
    },
    {
     "name": "stdout",
     "output_type": "stream",
     "text": [
      "Moviepy - Done !\n",
      "Moviepy - video ready E:/Saiful/park_motor/LeftRight/Task2_Videos/Right\\2019-10-22T21-20-05-594Z31-task2-right.mp4\n",
      "Attempted 22, success 22, failed 0 \n",
      "\n",
      "Left 0.000000 to 0.050000, Right -1.000000 to -1.000000\n"
     ]
    },
    {
     "name": "stderr",
     "output_type": "stream",
     "text": [
      "\r",
      "chunk:   0%|                                                                         | 0/111 [00:00<?, ?it/s, now=None]"
     ]
    },
    {
     "name": "stdout",
     "output_type": "stream",
     "text": [
      "Moviepy - Building video E:/Saiful/park_motor/LeftRight/Task2_Videos/Left\\2019-10-22T21-42-22-324Z92-task2-left.mp4.\n",
      "MoviePy - Writing audio in 2019-10-22T21-42-22-324Z92-task2-leftTEMP_MPY_wvf_snd.mp4\n"
     ]
    },
    {
     "name": "stderr",
     "output_type": "stream",
     "text": [
      "t:   0%|                                                                             | 0/150 [00:00<?, ?it/s, now=None]"
     ]
    },
    {
     "name": "stdout",
     "output_type": "stream",
     "text": [
      "MoviePy - Done.\n",
      "Moviepy - Writing video E:/Saiful/park_motor/LeftRight/Task2_Videos/Left\\2019-10-22T21-42-22-324Z92-task2-left.mp4\n",
      "\n"
     ]
    },
    {
     "name": "stderr",
     "output_type": "stream",
     "text": [
      "                                                                                                                       \r"
     ]
    },
    {
     "name": "stdout",
     "output_type": "stream",
     "text": [
      "Moviepy - Done !\n",
      "Moviepy - video ready E:/Saiful/park_motor/LeftRight/Task2_Videos/Left\\2019-10-22T21-42-22-324Z92-task2-left.mp4\n",
      "Attempted 23, success 23, failed 0 \n",
      "\n",
      "Left 0.045000 to 0.100000, Right 0.000000 to 0.050000\n"
     ]
    },
    {
     "name": "stderr",
     "output_type": "stream",
     "text": [
      "\r",
      "chunk:   0%|                                                                         | 0/122 [00:00<?, ?it/s, now=None]"
     ]
    },
    {
     "name": "stdout",
     "output_type": "stream",
     "text": [
      "Moviepy - Building video E:/Saiful/park_motor/LeftRight/Task2_Videos/Left\\2019-10-22T21-58-40-923Z8-task2-left.mp4.\n",
      "MoviePy - Writing audio in 2019-10-22T21-58-40-923Z8-task2-leftTEMP_MPY_wvf_snd.mp4\n"
     ]
    },
    {
     "name": "stderr",
     "output_type": "stream",
     "text": [
      "t:   0%|                                                                            | 0/5500 [00:00<?, ?it/s, now=None]"
     ]
    },
    {
     "name": "stdout",
     "output_type": "stream",
     "text": [
      "MoviePy - Done.\n",
      "Moviepy - Writing video E:/Saiful/park_motor/LeftRight/Task2_Videos/Left\\2019-10-22T21-58-40-923Z8-task2-left.mp4\n",
      "\n"
     ]
    },
    {
     "name": "stderr",
     "output_type": "stream",
     "text": [
      "                                                                                                                       \r"
     ]
    },
    {
     "name": "stdout",
     "output_type": "stream",
     "text": [
      "Moviepy - Done !\n",
      "Moviepy - video ready E:/Saiful/park_motor/LeftRight/Task2_Videos/Left\\2019-10-22T21-58-40-923Z8-task2-left.mp4\n",
      "Attempted 24, success 24, failed 0 \n",
      "\n",
      "Left 0.055000 to 0.100000, Right 0.000000 to 0.060000\n"
     ]
    },
    {
     "name": "stderr",
     "output_type": "stream",
     "text": [
      "\r",
      "chunk:   0%|                                                                         | 0/100 [00:00<?, ?it/s, now=None]"
     ]
    },
    {
     "name": "stdout",
     "output_type": "stream",
     "text": [
      "Moviepy - Building video E:/Saiful/park_motor/LeftRight/Task2_Videos/Left\\2019-10-22T22-39-09-896Z1-task2-left.mp4.\n",
      "MoviePy - Writing audio in 2019-10-22T22-39-09-896Z1-task2-leftTEMP_MPY_wvf_snd.mp4\n"
     ]
    },
    {
     "name": "stderr",
     "output_type": "stream",
     "text": [
      "t:   0%|                                                                              | 0/76 [00:00<?, ?it/s, now=None]"
     ]
    },
    {
     "name": "stdout",
     "output_type": "stream",
     "text": [
      "MoviePy - Done.\n",
      "Moviepy - Writing video E:/Saiful/park_motor/LeftRight/Task2_Videos/Left\\2019-10-22T22-39-09-896Z1-task2-left.mp4\n",
      "\n"
     ]
    },
    {
     "name": "stderr",
     "output_type": "stream",
     "text": [
      "                                                                                                                       \r"
     ]
    },
    {
     "name": "stdout",
     "output_type": "stream",
     "text": [
      "Moviepy - Done !\n",
      "Moviepy - video ready E:/Saiful/park_motor/LeftRight/Task2_Videos/Left\\2019-10-22T22-39-09-896Z1-task2-left.mp4\n",
      "Attempted 25, success 25, failed 0 \n",
      "\n",
      "Left 0.055000 to 0.120000, Right 0.000000 to 0.060000\n"
     ]
    },
    {
     "name": "stderr",
     "output_type": "stream",
     "text": [
      "\r",
      "chunk:   0%|                                                                         | 0/144 [00:00<?, ?it/s, now=None]"
     ]
    },
    {
     "name": "stdout",
     "output_type": "stream",
     "text": [
      "Moviepy - Building video E:/Saiful/park_motor/LeftRight/Task2_Videos/Left\\2019-10-22T22-57-09-928Z70-task2-left.mp4.\n",
      "MoviePy - Writing audio in 2019-10-22T22-57-09-928Z70-task2-leftTEMP_MPY_wvf_snd.mp4\n"
     ]
    },
    {
     "name": "stderr",
     "output_type": "stream",
     "text": [
      "t:   0%|                                                                             | 0/109 [00:00<?, ?it/s, now=None]"
     ]
    },
    {
     "name": "stdout",
     "output_type": "stream",
     "text": [
      "MoviePy - Done.\n",
      "Moviepy - Writing video E:/Saiful/park_motor/LeftRight/Task2_Videos/Left\\2019-10-22T22-57-09-928Z70-task2-left.mp4\n",
      "\n"
     ]
    },
    {
     "name": "stderr",
     "output_type": "stream",
     "text": [
      "                                                                                                                       \r"
     ]
    },
    {
     "name": "stdout",
     "output_type": "stream",
     "text": [
      "Moviepy - Done !\n",
      "Moviepy - video ready E:/Saiful/park_motor/LeftRight/Task2_Videos/Left\\2019-10-22T22-57-09-928Z70-task2-left.mp4\n",
      "Attempted 26, success 26, failed 0 \n",
      "\n",
      "Left 0.000000 to 0.040000, Right 0.040000 to 0.080000\n"
     ]
    },
    {
     "name": "stderr",
     "output_type": "stream",
     "text": [
      "\r",
      "chunk:   0%|                                                                          | 0/89 [00:00<?, ?it/s, now=None]"
     ]
    },
    {
     "name": "stdout",
     "output_type": "stream",
     "text": [
      "Moviepy - Building video E:/Saiful/park_motor/LeftRight/Task2_Videos/Right\\2019-10-22T23-17-40-191Z82-task2-right.mp4.\n",
      "MoviePy - Writing audio in 2019-10-22T23-17-40-191Z82-task2-rightTEMP_MPY_wvf_snd.mp4\n"
     ]
    },
    {
     "name": "stderr",
     "output_type": "stream",
     "text": [
      "t:   0%|                                                                             | 0/120 [00:00<?, ?it/s, now=None]"
     ]
    },
    {
     "name": "stdout",
     "output_type": "stream",
     "text": [
      "MoviePy - Done.\n",
      "Moviepy - Writing video E:/Saiful/park_motor/LeftRight/Task2_Videos/Right\\2019-10-22T23-17-40-191Z82-task2-right.mp4\n",
      "\n"
     ]
    },
    {
     "name": "stderr",
     "output_type": "stream",
     "text": [
      "                                                                                                                       \r"
     ]
    },
    {
     "name": "stdout",
     "output_type": "stream",
     "text": [
      "Moviepy - Done !\n",
      "Moviepy - video ready E:/Saiful/park_motor/LeftRight/Task2_Videos/Right\\2019-10-22T23-17-40-191Z82-task2-right.mp4\n",
      "Attempted 27, success 27, failed 0 \n",
      "\n",
      "Left 0.000000 to 0.040000, Right 0.040000 to 0.090000\n"
     ]
    },
    {
     "name": "stderr",
     "output_type": "stream",
     "text": [
      "\r",
      "chunk:   0%|                                                                         | 0/111 [00:00<?, ?it/s, now=None]"
     ]
    },
    {
     "name": "stdout",
     "output_type": "stream",
     "text": [
      "Moviepy - Building video E:/Saiful/park_motor/LeftRight/Task2_Videos/Right\\2019-10-22T23-40-58-405Z84-task2-right.mp4.\n",
      "MoviePy - Writing audio in 2019-10-22T23-40-58-405Z84-task2-rightTEMP_MPY_wvf_snd.mp4\n"
     ]
    },
    {
     "name": "stderr",
     "output_type": "stream",
     "text": [
      "t:   0%|                                                                              | 0/84 [00:00<?, ?it/s, now=None]"
     ]
    },
    {
     "name": "stdout",
     "output_type": "stream",
     "text": [
      "MoviePy - Done.\n",
      "Moviepy - Writing video E:/Saiful/park_motor/LeftRight/Task2_Videos/Right\\2019-10-22T23-40-58-405Z84-task2-right.mp4\n",
      "\n"
     ]
    },
    {
     "name": "stderr",
     "output_type": "stream",
     "text": [
      "                                                                                                                       \r"
     ]
    },
    {
     "name": "stdout",
     "output_type": "stream",
     "text": [
      "Moviepy - Done !\n",
      "Moviepy - video ready E:/Saiful/park_motor/LeftRight/Task2_Videos/Right\\2019-10-22T23-40-58-405Z84-task2-right.mp4\n",
      "Attempted 28, success 28, failed 0 \n",
      "\n",
      "Left 0.000000 to 0.070000, Right 0.065000 to 0.160000\n"
     ]
    },
    {
     "name": "stderr",
     "output_type": "stream",
     "text": [
      "\r",
      "chunk:   0%|                                                                         | 0/210 [00:00<?, ?it/s, now=None]"
     ]
    },
    {
     "name": "stdout",
     "output_type": "stream",
     "text": [
      "Moviepy - Building video E:/Saiful/park_motor/LeftRight/Task2_Videos/Right\\2019-10-22T23-48-51-966Z69-task2-right.mp4.\n",
      "MoviePy - Writing audio in 2019-10-22T23-48-51-966Z69-task2-rightTEMP_MPY_wvf_snd.mp4\n"
     ]
    },
    {
     "name": "stderr",
     "output_type": "stream",
     "text": [
      "t:   0%|                                                                             | 0/158 [00:00<?, ?it/s, now=None]"
     ]
    },
    {
     "name": "stdout",
     "output_type": "stream",
     "text": [
      "MoviePy - Done.\n",
      "Moviepy - Writing video E:/Saiful/park_motor/LeftRight/Task2_Videos/Right\\2019-10-22T23-48-51-966Z69-task2-right.mp4\n",
      "\n"
     ]
    },
    {
     "name": "stderr",
     "output_type": "stream",
     "text": [
      "                                                                                                                       \r"
     ]
    },
    {
     "name": "stdout",
     "output_type": "stream",
     "text": [
      "Moviepy - Done !\n",
      "Moviepy - video ready E:/Saiful/park_motor/LeftRight/Task2_Videos/Right\\2019-10-22T23-48-51-966Z69-task2-right.mp4\n",
      "Attempted 29, success 29, failed 0 \n",
      "\n",
      "Left -1.000000 to -1.000000, Right -1.000000 to -1.000000\n",
      "Attempted 29, success 29, failed 0 \n",
      "\n",
      "Left 0.000000 to 0.065000, Right 0.060000 to 0.140000\n"
     ]
    },
    {
     "name": "stderr",
     "output_type": "stream",
     "text": [
      "\r",
      "chunk:   0%|                                                                         | 0/177 [00:00<?, ?it/s, now=None]"
     ]
    },
    {
     "name": "stdout",
     "output_type": "stream",
     "text": [
      "Moviepy - Building video E:/Saiful/park_motor/LeftRight/Task2_Videos/Right\\2019-10-23T00-50-01-757Z51-task2-right.mp4.\n",
      "MoviePy - Writing audio in 2019-10-23T00-50-01-757Z51-task2-rightTEMP_MPY_wvf_snd.mp4\n"
     ]
    },
    {
     "name": "stderr",
     "output_type": "stream",
     "text": [
      "t:   0%|                                                                             | 0/134 [00:00<?, ?it/s, now=None]"
     ]
    },
    {
     "name": "stdout",
     "output_type": "stream",
     "text": [
      "MoviePy - Done.\n",
      "Moviepy - Writing video E:/Saiful/park_motor/LeftRight/Task2_Videos/Right\\2019-10-23T00-50-01-757Z51-task2-right.mp4\n",
      "\n"
     ]
    },
    {
     "name": "stderr",
     "output_type": "stream",
     "text": [
      "                                                                                                                       \r"
     ]
    },
    {
     "name": "stdout",
     "output_type": "stream",
     "text": [
      "Moviepy - Done !\n",
      "Moviepy - video ready E:/Saiful/park_motor/LeftRight/Task2_Videos/Right\\2019-10-23T00-50-01-757Z51-task2-right.mp4\n",
      "Attempted 30, success 30, failed 0 \n",
      "\n",
      "Left 0.000000 to 0.050000, Right 0.045000 to 0.140000\n"
     ]
    },
    {
     "name": "stderr",
     "output_type": "stream",
     "text": [
      "\r",
      "chunk:   0%|                                                                         | 0/210 [00:00<?, ?it/s, now=None]"
     ]
    },
    {
     "name": "stdout",
     "output_type": "stream",
     "text": [
      "Moviepy - Building video E:/Saiful/park_motor/LeftRight/Task2_Videos/Right\\2019-10-23T01-02-09-522Z91-task2-right.mp4.\n",
      "MoviePy - Writing audio in 2019-10-23T01-02-09-522Z91-task2-rightTEMP_MPY_wvf_snd.mp4\n"
     ]
    },
    {
     "name": "stderr",
     "output_type": "stream",
     "text": [
      "t:   0%|                                                                             | 0/286 [00:00<?, ?it/s, now=None]"
     ]
    },
    {
     "name": "stdout",
     "output_type": "stream",
     "text": [
      "MoviePy - Done.\n",
      "Moviepy - Writing video E:/Saiful/park_motor/LeftRight/Task2_Videos/Right\\2019-10-23T01-02-09-522Z91-task2-right.mp4\n",
      "\n"
     ]
    },
    {
     "name": "stderr",
     "output_type": "stream",
     "text": [
      "                                                                                                                       \r"
     ]
    },
    {
     "name": "stdout",
     "output_type": "stream",
     "text": [
      "Moviepy - Done !\n",
      "Moviepy - video ready E:/Saiful/park_motor/LeftRight/Task2_Videos/Right\\2019-10-23T01-02-09-522Z91-task2-right.mp4\n",
      "Attempted 31, success 31, failed 0 \n",
      "\n",
      "Left 0.055000 to 0.110000, Right 0.000000 to 0.060000\n"
     ]
    },
    {
     "name": "stderr",
     "output_type": "stream",
     "text": [
      "\r",
      "chunk:   0%|                                                                         | 0/122 [00:00<?, ?it/s, now=None]"
     ]
    },
    {
     "name": "stdout",
     "output_type": "stream",
     "text": [
      "Moviepy - Building video E:/Saiful/park_motor/LeftRight/Task2_Videos/Left\\2019-10-23T01-24-59-740Z9-task2-left.mp4.\n",
      "MoviePy - Writing audio in 2019-10-23T01-24-59-740Z9-task2-leftTEMP_MPY_wvf_snd.mp4\n"
     ]
    },
    {
     "name": "stderr",
     "output_type": "stream",
     "text": [
      "t:   0%|                                                                            | 0/5500 [00:00<?, ?it/s, now=None]"
     ]
    },
    {
     "name": "stdout",
     "output_type": "stream",
     "text": [
      "MoviePy - Done.\n",
      "Moviepy - Writing video E:/Saiful/park_motor/LeftRight/Task2_Videos/Left\\2019-10-23T01-24-59-740Z9-task2-left.mp4\n",
      "\n"
     ]
    },
    {
     "name": "stderr",
     "output_type": "stream",
     "text": [
      "                                                                                                                       \r"
     ]
    },
    {
     "name": "stdout",
     "output_type": "stream",
     "text": [
      "Moviepy - Done !\n",
      "Moviepy - video ready E:/Saiful/park_motor/LeftRight/Task2_Videos/Left\\2019-10-23T01-24-59-740Z9-task2-left.mp4\n",
      "Attempted 32, success 32, failed 0 \n",
      "\n",
      "Left 0.065000 to 0.140000, Right 0.000000 to 0.070000\n"
     ]
    },
    {
     "name": "stderr",
     "output_type": "stream",
     "text": [
      "\r",
      "chunk:   0%|                                                                         | 0/166 [00:00<?, ?it/s, now=None]"
     ]
    },
    {
     "name": "stdout",
     "output_type": "stream",
     "text": [
      "Moviepy - Building video E:/Saiful/park_motor/LeftRight/Task2_Videos/Left\\2019-10-23T01-32-41-749Z23-task2-left.mp4.\n",
      "MoviePy - Writing audio in 2019-10-23T01-32-41-749Z23-task2-leftTEMP_MPY_wvf_snd.mp4\n"
     ]
    },
    {
     "name": "stderr",
     "output_type": "stream",
     "text": [
      "t:   0%|                                                                             | 0/126 [00:00<?, ?it/s, now=None]"
     ]
    },
    {
     "name": "stdout",
     "output_type": "stream",
     "text": [
      "MoviePy - Done.\n",
      "Moviepy - Writing video E:/Saiful/park_motor/LeftRight/Task2_Videos/Left\\2019-10-23T01-32-41-749Z23-task2-left.mp4\n",
      "\n"
     ]
    },
    {
     "name": "stderr",
     "output_type": "stream",
     "text": [
      "                                                                                                                       \r"
     ]
    },
    {
     "name": "stdout",
     "output_type": "stream",
     "text": [
      "Moviepy - Done !\n",
      "Moviepy - video ready E:/Saiful/park_motor/LeftRight/Task2_Videos/Left\\2019-10-23T01-32-41-749Z23-task2-left.mp4\n",
      "Attempted 33, success 33, failed 0 \n",
      "\n",
      "Left 0.000000 to 0.080000, Right 0.080000 to 0.150000\n"
     ]
    },
    {
     "name": "stderr",
     "output_type": "stream",
     "text": [
      "\r",
      "chunk:   0%|                                                                         | 0/155 [00:00<?, ?it/s, now=None]"
     ]
    },
    {
     "name": "stdout",
     "output_type": "stream",
     "text": [
      "Moviepy - Building video E:/Saiful/park_motor/LeftRight/Task2_Videos/Right\\2019-10-23T03-36-53-604Z67-task2-right.mp4.\n",
      "MoviePy - Writing audio in 2019-10-23T03-36-53-604Z67-task2-rightTEMP_MPY_wvf_snd.mp4\n"
     ]
    },
    {
     "name": "stderr",
     "output_type": "stream",
     "text": [
      "t:   0%|                                                                            | 0/7000 [00:00<?, ?it/s, now=None]"
     ]
    },
    {
     "name": "stdout",
     "output_type": "stream",
     "text": [
      "MoviePy - Done.\n",
      "Moviepy - Writing video E:/Saiful/park_motor/LeftRight/Task2_Videos/Right\\2019-10-23T03-36-53-604Z67-task2-right.mp4\n",
      "\n"
     ]
    },
    {
     "name": "stderr",
     "output_type": "stream",
     "text": [
      "                                                                                                                       \r"
     ]
    },
    {
     "name": "stdout",
     "output_type": "stream",
     "text": [
      "Moviepy - Done !\n",
      "Moviepy - video ready E:/Saiful/park_motor/LeftRight/Task2_Videos/Right\\2019-10-23T03-36-53-604Z67-task2-right.mp4\n",
      "Attempted 34, success 34, failed 0 \n",
      "\n",
      "Left 0.080000 to 0.170000, Right 0.000000 to 0.080000\n"
     ]
    },
    {
     "name": "stderr",
     "output_type": "stream",
     "text": [
      "\r",
      "chunk:   0%|                                                                         | 0/199 [00:00<?, ?it/s, now=None]"
     ]
    },
    {
     "name": "stdout",
     "output_type": "stream",
     "text": [
      "Moviepy - Building video E:/Saiful/park_motor/LeftRight/Task2_Videos/Left\\2019-10-23T05-19-04-961Z66-task2-left.mp4.\n",
      "MoviePy - Writing audio in 2019-10-23T05-19-04-961Z66-task2-leftTEMP_MPY_wvf_snd.mp4\n"
     ]
    },
    {
     "name": "stderr",
     "output_type": "stream",
     "text": [
      "t:   0%|                                                                             | 0/270 [00:00<?, ?it/s, now=None]"
     ]
    },
    {
     "name": "stdout",
     "output_type": "stream",
     "text": [
      "MoviePy - Done.\n",
      "Moviepy - Writing video E:/Saiful/park_motor/LeftRight/Task2_Videos/Left\\2019-10-23T05-19-04-961Z66-task2-left.mp4\n",
      "\n"
     ]
    },
    {
     "name": "stderr",
     "output_type": "stream",
     "text": [
      "                                                                                                                       \r"
     ]
    },
    {
     "name": "stdout",
     "output_type": "stream",
     "text": [
      "Moviepy - Done !\n",
      "Moviepy - video ready E:/Saiful/park_motor/LeftRight/Task2_Videos/Left\\2019-10-23T05-19-04-961Z66-task2-left.mp4\n",
      "Attempted 35, success 35, failed 0 \n",
      "\n",
      "Left 0.040000 to 0.100000, Right 0.000000 to 0.045000\n",
      "Attempted 35, success 35, failed 0 \n",
      "\n",
      "Left 0.040000 to 0.110000, Right 0.000000 to 0.040000\n",
      "Attempted 35, success 35, failed 0 \n",
      "\n",
      "Left 0.000000 to 0.050000, Right 0.045000 to 0.110000\n"
     ]
    },
    {
     "name": "stderr",
     "output_type": "stream",
     "text": [
      "\r",
      "chunk:   0%|                                                                         | 0/144 [00:00<?, ?it/s, now=None]"
     ]
    },
    {
     "name": "stdout",
     "output_type": "stream",
     "text": [
      "Moviepy - Building video E:/Saiful/park_motor/LeftRight/Task2_Videos/Right\\2019-10-23T13-16-26-039Z93-task2-right.mp4.\n",
      "MoviePy - Writing audio in 2019-10-23T13-16-26-039Z93-task2-rightTEMP_MPY_wvf_snd.mp4\n"
     ]
    },
    {
     "name": "stderr",
     "output_type": "stream",
     "text": [
      "t:   0%|                                                                             | 0/195 [00:00<?, ?it/s, now=None]"
     ]
    },
    {
     "name": "stdout",
     "output_type": "stream",
     "text": [
      "MoviePy - Done.\n",
      "Moviepy - Writing video E:/Saiful/park_motor/LeftRight/Task2_Videos/Right\\2019-10-23T13-16-26-039Z93-task2-right.mp4\n",
      "\n"
     ]
    },
    {
     "name": "stderr",
     "output_type": "stream",
     "text": [
      "                                                                                                                       \r"
     ]
    },
    {
     "name": "stdout",
     "output_type": "stream",
     "text": [
      "Moviepy - Done !\n",
      "Moviepy - video ready E:/Saiful/park_motor/LeftRight/Task2_Videos/Right\\2019-10-23T13-16-26-039Z93-task2-right.mp4\n",
      "Attempted 36, success 36, failed 0 \n",
      "\n",
      "Left 0.060000 to 0.160000, Right 0.000000 to 0.060000\n"
     ]
    },
    {
     "name": "stderr",
     "output_type": "stream",
     "text": [
      "\r",
      "chunk:   0%|                                                                         | 0/221 [00:00<?, ?it/s, now=None]"
     ]
    },
    {
     "name": "stdout",
     "output_type": "stream",
     "text": [
      "Moviepy - Building video E:/Saiful/park_motor/LeftRight/Task2_Videos/Left\\2019-10-23T14-11-47-618Z83-task2-left.mp4.\n",
      "MoviePy - Writing audio in 2019-10-23T14-11-47-618Z83-task2-leftTEMP_MPY_wvf_snd.mp4\n"
     ]
    },
    {
     "name": "stderr",
     "output_type": "stream",
     "text": [
      "t:   0%|                                                                             | 0/300 [00:00<?, ?it/s, now=None]"
     ]
    },
    {
     "name": "stdout",
     "output_type": "stream",
     "text": [
      "MoviePy - Done.\n",
      "Moviepy - Writing video E:/Saiful/park_motor/LeftRight/Task2_Videos/Left\\2019-10-23T14-11-47-618Z83-task2-left.mp4\n",
      "\n"
     ]
    },
    {
     "name": "stderr",
     "output_type": "stream",
     "text": [
      "                                                                                                                       \r"
     ]
    },
    {
     "name": "stdout",
     "output_type": "stream",
     "text": [
      "Moviepy - Done !\n",
      "Moviepy - video ready E:/Saiful/park_motor/LeftRight/Task2_Videos/Left\\2019-10-23T14-11-47-618Z83-task2-left.mp4\n",
      "Attempted 37, success 37, failed 0 \n",
      "\n",
      "Left 0.060000 to 0.170000, Right 0.000000 to 0.060000\n",
      "Attempted 37, success 37, failed 0 \n",
      "\n",
      "Left 0.070000 to 0.140000, Right 0.000000 to 0.080000\n",
      "Attempted 37, success 37, failed 0 \n",
      "\n",
      "Left 0.030000 to 0.070000, Right 0.000000 to 0.035000\n"
     ]
    },
    {
     "name": "stderr",
     "output_type": "stream",
     "text": [
      "\r",
      "chunk:   0%|                                                                          | 0/89 [00:00<?, ?it/s, now=None]"
     ]
    },
    {
     "name": "stdout",
     "output_type": "stream",
     "text": [
      "Moviepy - Building video E:/Saiful/park_motor/LeftRight/Task2_Videos/Left\\2019-10-23T20-52-44-695Z61-task2-left.mp4.\n",
      "MoviePy - Writing audio in 2019-10-23T20-52-44-695Z61-task2-leftTEMP_MPY_wvf_snd.mp4\n"
     ]
    },
    {
     "name": "stderr",
     "output_type": "stream",
     "text": [
      "t:   0%|                                                                            | 0/4001 [00:00<?, ?it/s, now=None]"
     ]
    },
    {
     "name": "stdout",
     "output_type": "stream",
     "text": [
      "MoviePy - Done.\n",
      "Moviepy - Writing video E:/Saiful/park_motor/LeftRight/Task2_Videos/Left\\2019-10-23T20-52-44-695Z61-task2-left.mp4\n",
      "\n"
     ]
    },
    {
     "name": "stderr",
     "output_type": "stream",
     "text": [
      "                                                                                                                       \r"
     ]
    },
    {
     "name": "stdout",
     "output_type": "stream",
     "text": [
      "Moviepy - Done !\n",
      "Moviepy - video ready E:/Saiful/park_motor/LeftRight/Task2_Videos/Left\\2019-10-23T20-52-44-695Z61-task2-left.mp4\n",
      "Attempted 38, success 38, failed 0 \n",
      "\n",
      "Left 0.045000 to 0.120000, Right 0.000000 to 0.050000\n"
     ]
    },
    {
     "name": "stderr",
     "output_type": "stream",
     "text": [
      "\r",
      "chunk:   0%|                                                                         | 0/166 [00:00<?, ?it/s, now=None]"
     ]
    },
    {
     "name": "stdout",
     "output_type": "stream",
     "text": [
      "Moviepy - Building video E:/Saiful/park_motor/LeftRight/Task2_Videos/Left\\2019-10-23T23-15-31-022Z72-task2-left.mp4.\n",
      "MoviePy - Writing audio in 2019-10-23T23-15-31-022Z72-task2-leftTEMP_MPY_wvf_snd.mp4\n"
     ]
    },
    {
     "name": "stderr",
     "output_type": "stream",
     "text": [
      "t:   0%|                                                                             | 0/225 [00:00<?, ?it/s, now=None]"
     ]
    },
    {
     "name": "stdout",
     "output_type": "stream",
     "text": [
      "MoviePy - Done.\n",
      "Moviepy - Writing video E:/Saiful/park_motor/LeftRight/Task2_Videos/Left\\2019-10-23T23-15-31-022Z72-task2-left.mp4\n",
      "\n"
     ]
    },
    {
     "name": "stderr",
     "output_type": "stream",
     "text": [
      "                                                                                                                       \r"
     ]
    },
    {
     "name": "stdout",
     "output_type": "stream",
     "text": [
      "Moviepy - Done !\n",
      "Moviepy - video ready E:/Saiful/park_motor/LeftRight/Task2_Videos/Left\\2019-10-23T23-15-31-022Z72-task2-left.mp4\n",
      "Attempted 39, success 39, failed 0 \n",
      "\n",
      "Left 0.000000 to 0.045000, Right 0.040000 to 0.100000\n"
     ]
    },
    {
     "name": "stderr",
     "output_type": "stream",
     "text": [
      "\r",
      "chunk:   0%|                                                                         | 0/133 [00:00<?, ?it/s, now=None]"
     ]
    },
    {
     "name": "stdout",
     "output_type": "stream",
     "text": [
      "Moviepy - Building video E:/Saiful/park_motor/LeftRight/Task2_Videos/Right\\2019-10-24T01-05-10-227Z74-task2-right.mp4.\n",
      "MoviePy - Writing audio in 2019-10-24T01-05-10-227Z74-task2-rightTEMP_MPY_wvf_snd.mp4\n"
     ]
    },
    {
     "name": "stderr",
     "output_type": "stream",
     "text": [
      "t:   0%|                                                                             | 0/101 [00:00<?, ?it/s, now=None]"
     ]
    },
    {
     "name": "stdout",
     "output_type": "stream",
     "text": [
      "MoviePy - Done.\n",
      "Moviepy - Writing video E:/Saiful/park_motor/LeftRight/Task2_Videos/Right\\2019-10-24T01-05-10-227Z74-task2-right.mp4\n",
      "\n"
     ]
    },
    {
     "name": "stderr",
     "output_type": "stream",
     "text": [
      "                                                                                                                       \r"
     ]
    },
    {
     "name": "stdout",
     "output_type": "stream",
     "text": [
      "Moviepy - Done !\n",
      "Moviepy - video ready E:/Saiful/park_motor/LeftRight/Task2_Videos/Right\\2019-10-24T01-05-10-227Z74-task2-right.mp4\n",
      "Attempted 40, success 40, failed 0 \n",
      "\n",
      "Left 0.050000 to 0.120000, Right 0.000000 to 0.050000\n"
     ]
    },
    {
     "name": "stderr",
     "output_type": "stream",
     "text": [
      "\r",
      "chunk:   0%|                                                                         | 0/155 [00:00<?, ?it/s, now=None]"
     ]
    },
    {
     "name": "stdout",
     "output_type": "stream",
     "text": [
      "Moviepy - Building video E:/Saiful/park_motor/LeftRight/Task2_Videos/Left\\2019-10-24T01-36-10-716Z78-task2-left.mp4.\n",
      "MoviePy - Writing audio in 2019-10-24T01-36-10-716Z78-task2-leftTEMP_MPY_wvf_snd.mp4\n"
     ]
    },
    {
     "name": "stderr",
     "output_type": "stream",
     "text": [
      "t:   0%|                                                                             | 0/117 [00:00<?, ?it/s, now=None]"
     ]
    },
    {
     "name": "stdout",
     "output_type": "stream",
     "text": [
      "MoviePy - Done.\n",
      "Moviepy - Writing video E:/Saiful/park_motor/LeftRight/Task2_Videos/Left\\2019-10-24T01-36-10-716Z78-task2-left.mp4\n",
      "\n"
     ]
    },
    {
     "name": "stderr",
     "output_type": "stream",
     "text": [
      "                                                                                                                       \r"
     ]
    },
    {
     "name": "stdout",
     "output_type": "stream",
     "text": [
      "Moviepy - Done !\n",
      "Moviepy - video ready E:/Saiful/park_motor/LeftRight/Task2_Videos/Left\\2019-10-24T01-36-10-716Z78-task2-left.mp4\n",
      "Attempted 41, success 41, failed 0 \n",
      "\n",
      "Left 0.040000 to 0.090000, Right 0.000000 to 0.045000\n"
     ]
    },
    {
     "name": "stderr",
     "output_type": "stream",
     "text": [
      "\r",
      "chunk:   0%|                                                                         | 0/111 [00:00<?, ?it/s, now=None]"
     ]
    },
    {
     "name": "stdout",
     "output_type": "stream",
     "text": [
      "Moviepy - Building video E:/Saiful/park_motor/LeftRight/Task2_Videos/Left\\2019-10-24T02-02-55-916Z97-task2-left.mp4.\n",
      "MoviePy - Writing audio in 2019-10-24T02-02-55-916Z97-task2-leftTEMP_MPY_wvf_snd.mp4\n"
     ]
    },
    {
     "name": "stderr",
     "output_type": "stream",
     "text": [
      "t:   0%|                                                                            | 0/5000 [00:00<?, ?it/s, now=None]"
     ]
    },
    {
     "name": "stdout",
     "output_type": "stream",
     "text": [
      "MoviePy - Done.\n",
      "Moviepy - Writing video E:/Saiful/park_motor/LeftRight/Task2_Videos/Left\\2019-10-24T02-02-55-916Z97-task2-left.mp4\n",
      "\n"
     ]
    },
    {
     "name": "stderr",
     "output_type": "stream",
     "text": [
      "                                                                                                                       \r"
     ]
    },
    {
     "name": "stdout",
     "output_type": "stream",
     "text": [
      "Moviepy - Done !\n",
      "Moviepy - video ready E:/Saiful/park_motor/LeftRight/Task2_Videos/Left\\2019-10-24T02-02-55-916Z97-task2-left.mp4\n",
      "Attempted 42, success 42, failed 0 \n",
      "\n",
      "Left 0.000000 to 0.070000, Right 0.070000 to 0.200000\n"
     ]
    },
    {
     "name": "stderr",
     "output_type": "stream",
     "text": [
      "\r",
      "chunk:   0%|                                                                         | 0/287 [00:00<?, ?it/s, now=None]"
     ]
    },
    {
     "name": "stdout",
     "output_type": "stream",
     "text": [
      "Moviepy - Building video E:/Saiful/park_motor/LeftRight/Task2_Videos/Right\\2019-10-24T03-11-33-008Z55-task2-right.mp4.\n",
      "MoviePy - Writing audio in 2019-10-24T03-11-33-008Z55-task2-rightTEMP_MPY_wvf_snd.mp4\n"
     ]
    },
    {
     "name": "stderr",
     "output_type": "stream",
     "text": [
      "t:   0%|                                                                             | 0/217 [00:00<?, ?it/s, now=None]"
     ]
    },
    {
     "name": "stdout",
     "output_type": "stream",
     "text": [
      "MoviePy - Done.\n",
      "Moviepy - Writing video E:/Saiful/park_motor/LeftRight/Task2_Videos/Right\\2019-10-24T03-11-33-008Z55-task2-right.mp4\n",
      "\n"
     ]
    },
    {
     "name": "stderr",
     "output_type": "stream",
     "text": [
      "                                                                                                                       \r"
     ]
    },
    {
     "name": "stdout",
     "output_type": "stream",
     "text": [
      "Moviepy - Done !\n",
      "Moviepy - video ready E:/Saiful/park_motor/LeftRight/Task2_Videos/Right\\2019-10-24T03-11-33-008Z55-task2-right.mp4\n",
      "Attempted 43, success 43, failed 0 \n",
      "\n",
      "Left 0.060000 to 0.120000, Right 0.000000 to 0.065000\n",
      "Attempted 43, success 43, failed 0 \n",
      "\n",
      "Left 0.000000 to 0.060000, Right 0.060000 to 0.130000\n",
      "Attempted 43, success 43, failed 0 \n",
      "\n",
      "Left 0.070000 to 0.130000, Right 0.000000 to 0.070000\n"
     ]
    },
    {
     "name": "stderr",
     "output_type": "stream",
     "text": [
      "\r",
      "chunk:   0%|                                                                         | 0/133 [00:00<?, ?it/s, now=None]"
     ]
    },
    {
     "name": "stdout",
     "output_type": "stream",
     "text": [
      "Moviepy - Building video E:/Saiful/park_motor/LeftRight/Task2_Videos/Left\\2019-10-24T05-01-19-108Z78-task2-left.mp4.\n",
      "MoviePy - Writing audio in 2019-10-24T05-01-19-108Z78-task2-leftTEMP_MPY_wvf_snd.mp4\n"
     ]
    },
    {
     "name": "stderr",
     "output_type": "stream",
     "text": [
      "t:   0%|                                                                             | 0/101 [00:00<?, ?it/s, now=None]"
     ]
    },
    {
     "name": "stdout",
     "output_type": "stream",
     "text": [
      "MoviePy - Done.\n",
      "Moviepy - Writing video E:/Saiful/park_motor/LeftRight/Task2_Videos/Left\\2019-10-24T05-01-19-108Z78-task2-left.mp4\n",
      "\n"
     ]
    },
    {
     "name": "stderr",
     "output_type": "stream",
     "text": [
      "                                                                                                                       \r"
     ]
    },
    {
     "name": "stdout",
     "output_type": "stream",
     "text": [
      "Moviepy - Done !\n",
      "Moviepy - video ready E:/Saiful/park_motor/LeftRight/Task2_Videos/Left\\2019-10-24T05-01-19-108Z78-task2-left.mp4\n",
      "Attempted 44, success 44, failed 0 \n",
      "\n",
      "Left 0.160000 to 0.280000, Right 0.000000 to 0.170000\n"
     ]
    },
    {
     "name": "stderr",
     "output_type": "stream",
     "text": [
      "\r",
      "chunk:   0%|                                                                         | 0/265 [00:00<?, ?it/s, now=None]"
     ]
    },
    {
     "name": "stdout",
     "output_type": "stream",
     "text": [
      "Moviepy - Building video E:/Saiful/park_motor/LeftRight/Task2_Videos/Left\\2019-10-24T07-06-10-389Z37-task2-left.mp4.\n",
      "MoviePy - Writing audio in 2019-10-24T07-06-10-389Z37-task2-leftTEMP_MPY_wvf_snd.mp4\n"
     ]
    },
    {
     "name": "stderr",
     "output_type": "stream",
     "text": [
      "t:   0%|                                                                             | 0/201 [00:00<?, ?it/s, now=None]"
     ]
    },
    {
     "name": "stdout",
     "output_type": "stream",
     "text": [
      "MoviePy - Done.\n",
      "Moviepy - Writing video E:/Saiful/park_motor/LeftRight/Task2_Videos/Left\\2019-10-24T07-06-10-389Z37-task2-left.mp4\n",
      "\n"
     ]
    },
    {
     "name": "stderr",
     "output_type": "stream",
     "text": [
      "                                                                                                                       \r"
     ]
    },
    {
     "name": "stdout",
     "output_type": "stream",
     "text": [
      "Moviepy - Done !\n",
      "Moviepy - video ready E:/Saiful/park_motor/LeftRight/Task2_Videos/Left\\2019-10-24T07-06-10-389Z37-task2-left.mp4\n",
      "Attempted 45, success 45, failed 0 \n",
      "\n",
      "Left 0.000000 to 0.050000, Right 0.045000 to 0.100000\n"
     ]
    },
    {
     "name": "stderr",
     "output_type": "stream",
     "text": [
      "\r",
      "chunk:   0%|                                                                         | 0/122 [00:00<?, ?it/s, now=None]"
     ]
    },
    {
     "name": "stdout",
     "output_type": "stream",
     "text": [
      "Moviepy - Building video E:/Saiful/park_motor/LeftRight/Task2_Videos/Right\\2019-10-24T08-35-47-331Z92-task2-right.mp4.\n",
      "MoviePy - Writing audio in 2019-10-24T08-35-47-331Z92-task2-rightTEMP_MPY_wvf_snd.mp4\n"
     ]
    },
    {
     "name": "stderr",
     "output_type": "stream",
     "text": [
      "t:   0%|                                                                             | 0/165 [00:00<?, ?it/s, now=None]"
     ]
    },
    {
     "name": "stdout",
     "output_type": "stream",
     "text": [
      "MoviePy - Done.\n",
      "Moviepy - Writing video E:/Saiful/park_motor/LeftRight/Task2_Videos/Right\\2019-10-24T08-35-47-331Z92-task2-right.mp4\n",
      "\n"
     ]
    },
    {
     "name": "stderr",
     "output_type": "stream",
     "text": [
      "                                                                                                                       \r"
     ]
    },
    {
     "name": "stdout",
     "output_type": "stream",
     "text": [
      "Moviepy - Done !\n",
      "Moviepy - video ready E:/Saiful/park_motor/LeftRight/Task2_Videos/Right\\2019-10-24T08-35-47-331Z92-task2-right.mp4\n",
      "Attempted 46, success 46, failed 0 \n",
      "\n",
      "Left 0.060000 to 0.140000, Right 0.000000 to 0.065000\n"
     ]
    },
    {
     "name": "stderr",
     "output_type": "stream",
     "text": [
      "\r",
      "chunk:   0%|                                                                         | 0/177 [00:00<?, ?it/s, now=None]"
     ]
    },
    {
     "name": "stdout",
     "output_type": "stream",
     "text": [
      "Moviepy - Building video E:/Saiful/park_motor/LeftRight/Task2_Videos/Left\\2019-10-24T12-31-05-157Z84-task2-left.mp4.\n",
      "MoviePy - Writing audio in 2019-10-24T12-31-05-157Z84-task2-leftTEMP_MPY_wvf_snd.mp4\n"
     ]
    },
    {
     "name": "stderr",
     "output_type": "stream",
     "text": [
      "t:   0%|                                                                             | 0/241 [00:00<?, ?it/s, now=None]"
     ]
    },
    {
     "name": "stdout",
     "output_type": "stream",
     "text": [
      "MoviePy - Done.\n",
      "Moviepy - Writing video E:/Saiful/park_motor/LeftRight/Task2_Videos/Left\\2019-10-24T12-31-05-157Z84-task2-left.mp4\n",
      "\n"
     ]
    },
    {
     "name": "stderr",
     "output_type": "stream",
     "text": [
      "                                                                                                                       \r"
     ]
    },
    {
     "name": "stdout",
     "output_type": "stream",
     "text": [
      "Moviepy - Done !\n",
      "Moviepy - video ready E:/Saiful/park_motor/LeftRight/Task2_Videos/Left\\2019-10-24T12-31-05-157Z84-task2-left.mp4\n",
      "Attempted 47, success 47, failed 0 \n",
      "\n",
      "Left 0.000000 to 0.060000, Right -1.000000 to -1.000000\n"
     ]
    },
    {
     "name": "stderr",
     "output_type": "stream",
     "text": [
      "\r",
      "chunk:   0%|                                                                         | 0/133 [00:00<?, ?it/s, now=None]"
     ]
    },
    {
     "name": "stdout",
     "output_type": "stream",
     "text": [
      "Moviepy - Building video E:/Saiful/park_motor/LeftRight/Task2_Videos/Left\\2019-10-24T14-36-34-999Z67-task2-left.mp4.\n",
      "MoviePy - Writing audio in 2019-10-24T14-36-34-999Z67-task2-leftTEMP_MPY_wvf_snd.mp4\n"
     ]
    },
    {
     "name": "stderr",
     "output_type": "stream",
     "text": [
      "t:   0%|                                                                            | 0/6000 [00:00<?, ?it/s, now=None]"
     ]
    },
    {
     "name": "stdout",
     "output_type": "stream",
     "text": [
      "MoviePy - Done.\n",
      "Moviepy - Writing video E:/Saiful/park_motor/LeftRight/Task2_Videos/Left\\2019-10-24T14-36-34-999Z67-task2-left.mp4\n",
      "\n"
     ]
    },
    {
     "name": "stderr",
     "output_type": "stream",
     "text": [
      "                                                                                                                       \r"
     ]
    },
    {
     "name": "stdout",
     "output_type": "stream",
     "text": [
      "Moviepy - Done !\n",
      "Moviepy - video ready E:/Saiful/park_motor/LeftRight/Task2_Videos/Left\\2019-10-24T14-36-34-999Z67-task2-left.mp4\n",
      "Attempted 48, success 48, failed 0 \n",
      "\n",
      "Left 0.070000 to 0.140000, Right 0.000000 to 0.070000\n"
     ]
    },
    {
     "name": "stderr",
     "output_type": "stream",
     "text": [
      "\r",
      "chunk:   0%|                                                                         | 0/155 [00:00<?, ?it/s, now=None]"
     ]
    },
    {
     "name": "stdout",
     "output_type": "stream",
     "text": [
      "Moviepy - Building video E:/Saiful/park_motor/LeftRight/Task2_Videos/Left\\2019-10-24T17-55-29-091Z0-task2-left.mp4.\n",
      "MoviePy - Writing audio in 2019-10-24T17-55-29-091Z0-task2-leftTEMP_MPY_wvf_snd.mp4\n"
     ]
    },
    {
     "name": "stderr",
     "output_type": "stream",
     "text": [
      "t:   0%|                                                                             | 0/211 [00:00<?, ?it/s, now=None]"
     ]
    },
    {
     "name": "stdout",
     "output_type": "stream",
     "text": [
      "MoviePy - Done.\n",
      "Moviepy - Writing video E:/Saiful/park_motor/LeftRight/Task2_Videos/Left\\2019-10-24T17-55-29-091Z0-task2-left.mp4\n",
      "\n"
     ]
    },
    {
     "name": "stderr",
     "output_type": "stream",
     "text": [
      "                                                                                                                       \r"
     ]
    },
    {
     "name": "stdout",
     "output_type": "stream",
     "text": [
      "Moviepy - Done !\n",
      "Moviepy - video ready E:/Saiful/park_motor/LeftRight/Task2_Videos/Left\\2019-10-24T17-55-29-091Z0-task2-left.mp4\n",
      "Attempted 49, success 49, failed 0 \n",
      "\n",
      "Left 0.070000 to 0.160000, Right 0.000000 to 0.080000\n"
     ]
    },
    {
     "name": "stderr",
     "output_type": "stream",
     "text": [
      "\r",
      "chunk:   0%|                                                                         | 0/199 [00:00<?, ?it/s, now=None]"
     ]
    },
    {
     "name": "stdout",
     "output_type": "stream",
     "text": [
      "Moviepy - Building video E:/Saiful/park_motor/LeftRight/Task2_Videos/Left\\2019-10-24T19-47-05-767Z99-task2-left.mp4.\n",
      "MoviePy - Writing audio in 2019-10-24T19-47-05-767Z99-task2-leftTEMP_MPY_wvf_snd.mp4\n"
     ]
    },
    {
     "name": "stderr",
     "output_type": "stream",
     "text": [
      "t:   0%|                                                                             | 0/270 [00:00<?, ?it/s, now=None]"
     ]
    },
    {
     "name": "stdout",
     "output_type": "stream",
     "text": [
      "MoviePy - Done.\n",
      "Moviepy - Writing video E:/Saiful/park_motor/LeftRight/Task2_Videos/Left\\2019-10-24T19-47-05-767Z99-task2-left.mp4\n",
      "\n"
     ]
    },
    {
     "name": "stderr",
     "output_type": "stream",
     "text": [
      "                                                                                                                       \r"
     ]
    },
    {
     "name": "stdout",
     "output_type": "stream",
     "text": [
      "Moviepy - Done !\n",
      "Moviepy - video ready E:/Saiful/park_motor/LeftRight/Task2_Videos/Left\\2019-10-24T19-47-05-767Z99-task2-left.mp4\n",
      "Attempted 50, success 50, failed 0 \n",
      "\n",
      "Left 0.050000 to 0.110000, Right 0.000000 to 0.050000\n"
     ]
    },
    {
     "name": "stderr",
     "output_type": "stream",
     "text": [
      "\r",
      "chunk:   0%|                                                                         | 0/133 [00:00<?, ?it/s, now=None]"
     ]
    },
    {
     "name": "stdout",
     "output_type": "stream",
     "text": [
      "Moviepy - Building video E:/Saiful/park_motor/LeftRight/Task2_Videos/Left\\2019-10-24T22-29-27-063Z84-task2-left.mp4.\n",
      "MoviePy - Writing audio in 2019-10-24T22-29-27-063Z84-task2-leftTEMP_MPY_wvf_snd.mp4\n"
     ]
    },
    {
     "name": "stderr",
     "output_type": "stream",
     "text": [
      "t:   0%|                                                                             | 0/180 [00:00<?, ?it/s, now=None]"
     ]
    },
    {
     "name": "stdout",
     "output_type": "stream",
     "text": [
      "MoviePy - Done.\n",
      "Moviepy - Writing video E:/Saiful/park_motor/LeftRight/Task2_Videos/Left\\2019-10-24T22-29-27-063Z84-task2-left.mp4\n",
      "\n"
     ]
    },
    {
     "name": "stderr",
     "output_type": "stream",
     "text": [
      "                                                                                                                       \r"
     ]
    },
    {
     "name": "stdout",
     "output_type": "stream",
     "text": [
      "Moviepy - Done !\n",
      "Moviepy - video ready E:/Saiful/park_motor/LeftRight/Task2_Videos/Left\\2019-10-24T22-29-27-063Z84-task2-left.mp4\n",
      "Attempted 51, success 51, failed 0 \n",
      "\n",
      "Left 0.000000 to 0.075000, Right 0.070000 to 0.120000\n",
      "Attempted 51, success 51, failed 0 \n",
      "\n",
      "Left 0.000000 to 0.040000, Right 0.035000 to 0.130000\n"
     ]
    },
    {
     "name": "stderr",
     "output_type": "stream",
     "text": [
      "\r",
      "chunk:   0%|                                                                         | 0/210 [00:00<?, ?it/s, now=None]"
     ]
    },
    {
     "name": "stdout",
     "output_type": "stream",
     "text": [
      "Moviepy - Building video E:/Saiful/park_motor/LeftRight/Task2_Videos/Right\\2019-10-25T18-36-20-893Z62-task2-right.mp4.\n",
      "MoviePy - Writing audio in 2019-10-25T18-36-20-893Z62-task2-rightTEMP_MPY_wvf_snd.mp4\n"
     ]
    },
    {
     "name": "stderr",
     "output_type": "stream",
     "text": [
      "t:   0%|                                                                             | 0/285 [00:00<?, ?it/s, now=None]"
     ]
    },
    {
     "name": "stdout",
     "output_type": "stream",
     "text": [
      "MoviePy - Done.\n",
      "Moviepy - Writing video E:/Saiful/park_motor/LeftRight/Task2_Videos/Right\\2019-10-25T18-36-20-893Z62-task2-right.mp4\n",
      "\n"
     ]
    },
    {
     "name": "stderr",
     "output_type": "stream",
     "text": [
      "                                                                                                                       \r"
     ]
    },
    {
     "name": "stdout",
     "output_type": "stream",
     "text": [
      "Moviepy - Done !\n",
      "Moviepy - video ready E:/Saiful/park_motor/LeftRight/Task2_Videos/Right\\2019-10-25T18-36-20-893Z62-task2-right.mp4\n",
      "Attempted 52, success 52, failed 0 \n",
      "\n",
      "Left 0.000000 to 0.060000, Right 0.055000 to 0.100000\n",
      "Attempted 52, success 52, failed 0 \n",
      "\n",
      "Left 0.075000 to 0.170000, Right 0.000000 to 0.080000\n"
     ]
    },
    {
     "name": "stderr",
     "output_type": "stream",
     "text": [
      "\r",
      "chunk:   0%|                                                                         | 0/210 [00:00<?, ?it/s, now=None]"
     ]
    },
    {
     "name": "stdout",
     "output_type": "stream",
     "text": [
      "Moviepy - Building video E:/Saiful/park_motor/LeftRight/Task2_Videos/Left\\2019-10-26T02-37-53-034Z50-task2-left.mp4.\n",
      "MoviePy - Writing audio in 2019-10-26T02-37-53-034Z50-task2-leftTEMP_MPY_wvf_snd.mp4\n"
     ]
    },
    {
     "name": "stderr",
     "output_type": "stream",
     "text": [
      "t:   0%|                                                                             | 0/159 [00:00<?, ?it/s, now=None]"
     ]
    },
    {
     "name": "stdout",
     "output_type": "stream",
     "text": [
      "MoviePy - Done.\n",
      "Moviepy - Writing video E:/Saiful/park_motor/LeftRight/Task2_Videos/Left\\2019-10-26T02-37-53-034Z50-task2-left.mp4\n",
      "\n"
     ]
    },
    {
     "name": "stderr",
     "output_type": "stream",
     "text": [
      "                                                                                                                       \r"
     ]
    },
    {
     "name": "stdout",
     "output_type": "stream",
     "text": [
      "Moviepy - Done !\n",
      "Moviepy - video ready E:/Saiful/park_motor/LeftRight/Task2_Videos/Left\\2019-10-26T02-37-53-034Z50-task2-left.mp4\n",
      "Attempted 53, success 53, failed 0 \n",
      "\n",
      "Left 0.000000 to 0.040000, Right 0.035000 to 0.100000\n"
     ]
    },
    {
     "name": "stderr",
     "output_type": "stream",
     "text": [
      "\r",
      "chunk:   0%|                                                                         | 0/144 [00:00<?, ?it/s, now=None]"
     ]
    },
    {
     "name": "stdout",
     "output_type": "stream",
     "text": [
      "Moviepy - Building video E:/Saiful/park_motor/LeftRight/Task2_Videos/Right\\2019-10-29T02-22-21-650Z15-task2-right.mp4.\n",
      "MoviePy - Writing audio in 2019-10-29T02-22-21-650Z15-task2-rightTEMP_MPY_wvf_snd.mp4\n"
     ]
    },
    {
     "name": "stderr",
     "output_type": "stream",
     "text": [
      "t:   0%|                                                                             | 0/109 [00:00<?, ?it/s, now=None]"
     ]
    },
    {
     "name": "stdout",
     "output_type": "stream",
     "text": [
      "MoviePy - Done.\n",
      "Moviepy - Writing video E:/Saiful/park_motor/LeftRight/Task2_Videos/Right\\2019-10-29T02-22-21-650Z15-task2-right.mp4\n",
      "\n"
     ]
    },
    {
     "name": "stderr",
     "output_type": "stream",
     "text": [
      "                                                                                                                       \r"
     ]
    },
    {
     "name": "stdout",
     "output_type": "stream",
     "text": [
      "Moviepy - Done !\n",
      "Moviepy - video ready E:/Saiful/park_motor/LeftRight/Task2_Videos/Right\\2019-10-29T02-22-21-650Z15-task2-right.mp4\n",
      "Attempted 54, success 54, failed 0 \n",
      "\n",
      "Left 0.130000 to 0.270000, Right 0.000000 to 0.130000\n"
     ]
    },
    {
     "name": "stderr",
     "output_type": "stream",
     "text": [
      "\r",
      "chunk:   0%|                                                                         | 0/309 [00:00<?, ?it/s, now=None]"
     ]
    },
    {
     "name": "stdout",
     "output_type": "stream",
     "text": [
      "Moviepy - Building video E:/Saiful/park_motor/LeftRight/Task2_Videos/Left\\2019-10-29T03-51-21-648Z17-task2-left.mp4.\n",
      "MoviePy - Writing audio in 2019-10-29T03-51-21-648Z17-task2-leftTEMP_MPY_wvf_snd.mp4\n"
     ]
    },
    {
     "name": "stderr",
     "output_type": "stream",
     "text": [
      "t:   0%|                                                                             | 0/234 [00:00<?, ?it/s, now=None]"
     ]
    },
    {
     "name": "stdout",
     "output_type": "stream",
     "text": [
      "MoviePy - Done.\n",
      "Moviepy - Writing video E:/Saiful/park_motor/LeftRight/Task2_Videos/Left\\2019-10-29T03-51-21-648Z17-task2-left.mp4\n",
      "\n"
     ]
    },
    {
     "name": "stderr",
     "output_type": "stream",
     "text": [
      "                                                                                                                       \r"
     ]
    },
    {
     "name": "stdout",
     "output_type": "stream",
     "text": [
      "Moviepy - Done !\n",
      "Moviepy - video ready E:/Saiful/park_motor/LeftRight/Task2_Videos/Left\\2019-10-29T03-51-21-648Z17-task2-left.mp4\n",
      "Attempted 55, success 55, failed 0 \n",
      "\n",
      "Left 0.080000 to 0.140000, Right 0.000000 to 0.080000\n"
     ]
    },
    {
     "name": "stderr",
     "output_type": "stream",
     "text": [
      "\r",
      "chunk:   0%|                                                                         | 0/133 [00:00<?, ?it/s, now=None]"
     ]
    },
    {
     "name": "stdout",
     "output_type": "stream",
     "text": [
      "Moviepy - Building video E:/Saiful/park_motor/LeftRight/Task2_Videos/Left\\2019-11-01T16-04-26-920Z73-task2-left.mp4.\n",
      "MoviePy - Writing audio in 2019-11-01T16-04-26-920Z73-task2-leftTEMP_MPY_wvf_snd.mp4\n"
     ]
    },
    {
     "name": "stderr",
     "output_type": "stream",
     "text": [
      "t:   0%|                                                                            | 0/6001 [00:00<?, ?it/s, now=None]"
     ]
    },
    {
     "name": "stdout",
     "output_type": "stream",
     "text": [
      "MoviePy - Done.\n",
      "Moviepy - Writing video E:/Saiful/park_motor/LeftRight/Task2_Videos/Left\\2019-11-01T16-04-26-920Z73-task2-left.mp4\n",
      "\n"
     ]
    },
    {
     "name": "stderr",
     "output_type": "stream",
     "text": [
      "                                                                                                                       \r"
     ]
    },
    {
     "name": "stdout",
     "output_type": "stream",
     "text": [
      "Moviepy - Done !\n",
      "Moviepy - video ready E:/Saiful/park_motor/LeftRight/Task2_Videos/Left\\2019-11-01T16-04-26-920Z73-task2-left.mp4\n",
      "Attempted 56, success 56, failed 0 \n",
      "\n",
      "Left -1.000000 to -1.000000, Right -1.000000 to -1.000000\n",
      "Attempted 56, success 56, failed 0 \n",
      "\n",
      "Left 0.100000 to 0.180000, Right 0.000000 to 0.100000\n"
     ]
    },
    {
     "name": "stderr",
     "output_type": "stream",
     "text": [
      "\r",
      "chunk:   0%|                                                                         | 0/177 [00:00<?, ?it/s, now=None]"
     ]
    },
    {
     "name": "stdout",
     "output_type": "stream",
     "text": [
      "Moviepy - Building video E:/Saiful/park_motor/LeftRight/Task2_Videos/Left\\2019-11-04T13-51-56-886Z39-task2-left.mp4.\n",
      "MoviePy - Writing audio in 2019-11-04T13-51-56-886Z39-task2-leftTEMP_MPY_wvf_snd.mp4\n"
     ]
    },
    {
     "name": "stderr",
     "output_type": "stream",
     "text": [
      "t:   0%|                                                                             | 0/134 [00:00<?, ?it/s, now=None]"
     ]
    },
    {
     "name": "stdout",
     "output_type": "stream",
     "text": [
      "MoviePy - Done.\n",
      "Moviepy - Writing video E:/Saiful/park_motor/LeftRight/Task2_Videos/Left\\2019-11-04T13-51-56-886Z39-task2-left.mp4\n",
      "\n"
     ]
    },
    {
     "name": "stderr",
     "output_type": "stream",
     "text": [
      "                                                                                                                       \r"
     ]
    },
    {
     "name": "stdout",
     "output_type": "stream",
     "text": [
      "Moviepy - Done !\n",
      "Moviepy - video ready E:/Saiful/park_motor/LeftRight/Task2_Videos/Left\\2019-11-04T13-51-56-886Z39-task2-left.mp4\n",
      "Attempted 57, success 57, failed 0 \n",
      "\n",
      "Left 0.065000 to 0.130000, Right 0.000000 to 0.070000\n",
      "Attempted 57, success 57, failed 0 \n",
      "\n",
      "Left -1.000000 to -1.000000, Right 0.000000 to 0.040000\n",
      "Attempted 57, success 57, failed 0 \n",
      "\n",
      "Left 0.045000 to 0.080000, Right 0.000000 to 0.050000\n"
     ]
    },
    {
     "name": "stderr",
     "output_type": "stream",
     "text": [
      "\r",
      "chunk:   0%|                                                                          | 0/78 [00:00<?, ?it/s, now=None]"
     ]
    },
    {
     "name": "stdout",
     "output_type": "stream",
     "text": [
      "Moviepy - Building video E:/Saiful/park_motor/LeftRight/Task2_Videos/Left\\2019-11-20T14-51-49-306Z32-task2-left.mp4.\n",
      "MoviePy - Writing audio in 2019-11-20T14-51-49-306Z32-task2-leftTEMP_MPY_wvf_snd.mp4\n"
     ]
    },
    {
     "name": "stderr",
     "output_type": "stream",
     "text": [
      "t:   0%|                                                                              | 0/59 [00:00<?, ?it/s, now=None]"
     ]
    },
    {
     "name": "stdout",
     "output_type": "stream",
     "text": [
      "MoviePy - Done.\n",
      "Moviepy - Writing video E:/Saiful/park_motor/LeftRight/Task2_Videos/Left\\2019-11-20T14-51-49-306Z32-task2-left.mp4\n",
      "\n"
     ]
    },
    {
     "name": "stderr",
     "output_type": "stream",
     "text": [
      "                                                                                                                       \r"
     ]
    },
    {
     "name": "stdout",
     "output_type": "stream",
     "text": [
      "Moviepy - Done !\n",
      "Moviepy - video ready E:/Saiful/park_motor/LeftRight/Task2_Videos/Left\\2019-11-20T14-51-49-306Z32-task2-left.mp4\n",
      "Attempted 58, success 58, failed 0 \n",
      "\n",
      "Left 0.000000 to 0.030000, Right 0.025000 to 0.070000\n"
     ]
    },
    {
     "name": "stderr",
     "output_type": "stream",
     "text": [
      "\r",
      "chunk:   0%|                                                                         | 0/100 [00:00<?, ?it/s, now=None]"
     ]
    },
    {
     "name": "stdout",
     "output_type": "stream",
     "text": [
      "Moviepy - Building video E:/Saiful/park_motor/LeftRight/Task2_Videos/Right\\2019-12-14T10-55-50-872Z86-task2-right.mp4.\n",
      "MoviePy - Writing audio in 2019-12-14T10-55-50-872Z86-task2-rightTEMP_MPY_wvf_snd.mp4\n"
     ]
    },
    {
     "name": "stderr",
     "output_type": "stream",
     "text": [
      "t:   0%|                                                                             | 0/136 [00:00<?, ?it/s, now=None]"
     ]
    },
    {
     "name": "stdout",
     "output_type": "stream",
     "text": [
      "MoviePy - Done.\n",
      "Moviepy - Writing video E:/Saiful/park_motor/LeftRight/Task2_Videos/Right\\2019-12-14T10-55-50-872Z86-task2-right.mp4\n",
      "\n"
     ]
    },
    {
     "name": "stderr",
     "output_type": "stream",
     "text": [
      "                                                                                                                       \r"
     ]
    },
    {
     "name": "stdout",
     "output_type": "stream",
     "text": [
      "Moviepy - Done !\n",
      "Moviepy - video ready E:/Saiful/park_motor/LeftRight/Task2_Videos/Right\\2019-12-14T10-55-50-872Z86-task2-right.mp4\n",
      "Attempted 59, success 59, failed 0 \n",
      "\n",
      "Left 0.000000 to 0.070000, Right 0.070000 to 0.120000\n"
     ]
    },
    {
     "name": "stderr",
     "output_type": "stream",
     "text": [
      "\r",
      "chunk:   0%|                                                                         | 0/111 [00:00<?, ?it/s, now=None]"
     ]
    },
    {
     "name": "stdout",
     "output_type": "stream",
     "text": [
      "Moviepy - Building video E:/Saiful/park_motor/LeftRight/Task2_Videos/Right\\2019-12-14T16-49-14-655Z45-task2-right.mp4.\n",
      "MoviePy - Writing audio in 2019-12-14T16-49-14-655Z45-task2-rightTEMP_MPY_wvf_snd.mp4\n"
     ]
    },
    {
     "name": "stderr",
     "output_type": "stream",
     "text": [
      "t:   0%|                                                                             | 0/150 [00:00<?, ?it/s, now=None]"
     ]
    },
    {
     "name": "stdout",
     "output_type": "stream",
     "text": [
      "MoviePy - Done.\n",
      "Moviepy - Writing video E:/Saiful/park_motor/LeftRight/Task2_Videos/Right\\2019-12-14T16-49-14-655Z45-task2-right.mp4\n",
      "\n"
     ]
    },
    {
     "name": "stderr",
     "output_type": "stream",
     "text": [
      "                                                                                                                       \r"
     ]
    },
    {
     "name": "stdout",
     "output_type": "stream",
     "text": [
      "Moviepy - Done !\n",
      "Moviepy - video ready E:/Saiful/park_motor/LeftRight/Task2_Videos/Right\\2019-12-14T16-49-14-655Z45-task2-right.mp4\n",
      "Attempted 60, success 60, failed 0 \n",
      "\n",
      "Left 0.000000 to 0.040000, Right 0.035000 to 0.090000\n"
     ]
    },
    {
     "name": "stderr",
     "output_type": "stream",
     "text": [
      "\r",
      "chunk:   0%|                                                                         | 0/122 [00:00<?, ?it/s, now=None]"
     ]
    },
    {
     "name": "stdout",
     "output_type": "stream",
     "text": [
      "Moviepy - Building video E:/Saiful/park_motor/LeftRight/Task2_Videos/Right\\2019-12-21T01-03-07-323Z20-task2-right.mp4.\n",
      "MoviePy - Writing audio in 2019-12-21T01-03-07-323Z20-task2-rightTEMP_MPY_wvf_snd.mp4\n"
     ]
    },
    {
     "name": "stderr",
     "output_type": "stream",
     "text": [
      "t:   0%|                                                                              | 0/92 [00:00<?, ?it/s, now=None]"
     ]
    },
    {
     "name": "stdout",
     "output_type": "stream",
     "text": [
      "MoviePy - Done.\n",
      "Moviepy - Writing video E:/Saiful/park_motor/LeftRight/Task2_Videos/Right\\2019-12-21T01-03-07-323Z20-task2-right.mp4\n",
      "\n"
     ]
    },
    {
     "name": "stderr",
     "output_type": "stream",
     "text": [
      "                                                                                                                       \r"
     ]
    },
    {
     "name": "stdout",
     "output_type": "stream",
     "text": [
      "Moviepy - Done !\n",
      "Moviepy - video ready E:/Saiful/park_motor/LeftRight/Task2_Videos/Right\\2019-12-21T01-03-07-323Z20-task2-right.mp4\n",
      "Attempted 61, success 61, failed 0 \n",
      "\n",
      "Left 0.055000 to 0.150000, Right 0.000000 to 0.060000\n"
     ]
    },
    {
     "name": "stderr",
     "output_type": "stream",
     "text": [
      "\r",
      "chunk:   0%|                                                                         | 0/210 [00:00<?, ?it/s, now=None]"
     ]
    },
    {
     "name": "stdout",
     "output_type": "stream",
     "text": [
      "Moviepy - Building video E:/Saiful/park_motor/LeftRight/Task2_Videos/Left\\2019-12-21T15-55-20-735Z39-task2-left.mp4.\n",
      "MoviePy - Writing audio in 2019-12-21T15-55-20-735Z39-task2-leftTEMP_MPY_wvf_snd.mp4\n"
     ]
    },
    {
     "name": "stderr",
     "output_type": "stream",
     "text": [
      "t:   0%|                                                                             | 0/159 [00:00<?, ?it/s, now=None]"
     ]
    },
    {
     "name": "stdout",
     "output_type": "stream",
     "text": [
      "MoviePy - Done.\n",
      "Moviepy - Writing video E:/Saiful/park_motor/LeftRight/Task2_Videos/Left\\2019-12-21T15-55-20-735Z39-task2-left.mp4\n",
      "\n"
     ]
    },
    {
     "name": "stderr",
     "output_type": "stream",
     "text": [
      "                                                                                                                       \r"
     ]
    },
    {
     "name": "stdout",
     "output_type": "stream",
     "text": [
      "Moviepy - Done !\n",
      "Moviepy - video ready E:/Saiful/park_motor/LeftRight/Task2_Videos/Left\\2019-12-21T15-55-20-735Z39-task2-left.mp4\n",
      "Attempted 62, success 62, failed 0 \n",
      "\n",
      "Left -1.000000 to -1.000000, Right -1.000000 to -1.000000\n",
      "Attempted 62, success 62, failed 0 \n",
      "\n",
      "Left 0.060000 to 0.130000, Right 0.000000 to 0.060000\n"
     ]
    },
    {
     "name": "stderr",
     "output_type": "stream",
     "text": [
      "\r",
      "chunk:   0%|                                                                         | 0/155 [00:00<?, ?it/s, now=None]"
     ]
    },
    {
     "name": "stdout",
     "output_type": "stream",
     "text": [
      "Moviepy - Building video E:/Saiful/park_motor/LeftRight/Task2_Videos/Left\\2020-01-04T06-39-46-385Z3-task2-left.mp4.\n",
      "MoviePy - Writing audio in 2020-01-04T06-39-46-385Z3-task2-leftTEMP_MPY_wvf_snd.mp4\n"
     ]
    },
    {
     "name": "stderr",
     "output_type": "stream",
     "text": [
      "t:   0%|                                                                             | 0/117 [00:00<?, ?it/s, now=None]"
     ]
    },
    {
     "name": "stdout",
     "output_type": "stream",
     "text": [
      "MoviePy - Done.\n",
      "Moviepy - Writing video E:/Saiful/park_motor/LeftRight/Task2_Videos/Left\\2020-01-04T06-39-46-385Z3-task2-left.mp4\n",
      "\n"
     ]
    },
    {
     "name": "stderr",
     "output_type": "stream",
     "text": [
      "                                                                                                                       \r"
     ]
    },
    {
     "name": "stdout",
     "output_type": "stream",
     "text": [
      "Moviepy - Done !\n",
      "Moviepy - video ready E:/Saiful/park_motor/LeftRight/Task2_Videos/Left\\2020-01-04T06-39-46-385Z3-task2-left.mp4\n",
      "Attempted 63, success 63, failed 0 \n",
      "\n",
      "Left 0.000000 to 0.070000, Right 0.070000 to 0.120000\n",
      "Attempted 63, success 63, failed 0 \n",
      "\n",
      "Left 0.045000 to 0.100000, Right 0.000000 to 0.050000\n"
     ]
    },
    {
     "name": "stderr",
     "output_type": "stream",
     "text": [
      "\r",
      "chunk:   0%|                                                                         | 0/122 [00:00<?, ?it/s, now=None]"
     ]
    },
    {
     "name": "stdout",
     "output_type": "stream",
     "text": [
      "Moviepy - Building video E:/Saiful/park_motor/LeftRight/Task2_Videos/Left\\2020-01-23T18-52-14-163Z59-task2-left.mp4.\n",
      "MoviePy - Writing audio in 2020-01-23T18-52-14-163Z59-task2-leftTEMP_MPY_wvf_snd.mp4\n"
     ]
    },
    {
     "name": "stderr",
     "output_type": "stream",
     "text": [
      "t:   0%|                                                                              | 0/92 [00:00<?, ?it/s, now=None]"
     ]
    },
    {
     "name": "stdout",
     "output_type": "stream",
     "text": [
      "MoviePy - Done.\n",
      "Moviepy - Writing video E:/Saiful/park_motor/LeftRight/Task2_Videos/Left\\2020-01-23T18-52-14-163Z59-task2-left.mp4\n",
      "\n"
     ]
    },
    {
     "name": "stderr",
     "output_type": "stream",
     "text": [
      "                                                                                                                       \r"
     ]
    },
    {
     "name": "stdout",
     "output_type": "stream",
     "text": [
      "Moviepy - Done !\n",
      "Moviepy - video ready E:/Saiful/park_motor/LeftRight/Task2_Videos/Left\\2020-01-23T18-52-14-163Z59-task2-left.mp4\n",
      "Attempted 64, success 64, failed 0 \n",
      "\n",
      "Left 0.000000 to 0.070000, Right 0.065000 to 0.130000\n"
     ]
    },
    {
     "name": "stderr",
     "output_type": "stream",
     "text": [
      "\r",
      "chunk:   0%|                                                                         | 0/144 [00:00<?, ?it/s, now=None]"
     ]
    },
    {
     "name": "stdout",
     "output_type": "stream",
     "text": [
      "Moviepy - Building video E:/Saiful/park_motor/LeftRight/Task2_Videos/Right\\2020-01-23T18-52-21-449Z100-task2-right.mp4.\n",
      "MoviePy - Writing audio in 2020-01-23T18-52-21-449Z100-task2-rightTEMP_MPY_wvf_snd.mp4\n"
     ]
    },
    {
     "name": "stderr",
     "output_type": "stream",
     "text": [
      "t:   0%|                                                                             | 0/434 [00:00<?, ?it/s, now=None]"
     ]
    },
    {
     "name": "stdout",
     "output_type": "stream",
     "text": [
      "MoviePy - Done.\n",
      "Moviepy - Writing video E:/Saiful/park_motor/LeftRight/Task2_Videos/Right\\2020-01-23T18-52-21-449Z100-task2-right.mp4\n",
      "\n"
     ]
    },
    {
     "name": "stderr",
     "output_type": "stream",
     "text": [
      "                                                                                                                       \r"
     ]
    },
    {
     "name": "stdout",
     "output_type": "stream",
     "text": [
      "Moviepy - Done !\n",
      "Moviepy - video ready E:/Saiful/park_motor/LeftRight/Task2_Videos/Right\\2020-01-23T18-52-21-449Z100-task2-right.mp4\n",
      "Attempted 65, success 65, failed 0 \n",
      "\n",
      "Left 0.040000 to 0.150000, Right 0.000000 to 0.040000\n"
     ]
    },
    {
     "name": "stderr",
     "output_type": "stream",
     "text": [
      "\r",
      "chunk:   0%|                                                                         | 0/243 [00:00<?, ?it/s, now=None]"
     ]
    },
    {
     "name": "stdout",
     "output_type": "stream",
     "text": [
      "Moviepy - Building video E:/Saiful/park_motor/LeftRight/Task2_Videos/Left\\2020-01-23T18-53-33-423Z31-task2-left.mp4.\n",
      "MoviePy - Writing audio in 2020-01-23T18-53-33-423Z31-task2-leftTEMP_MPY_wvf_snd.mp4\n"
     ]
    },
    {
     "name": "stderr",
     "output_type": "stream",
     "text": [
      "t:   0%|                                                                             | 0/330 [00:00<?, ?it/s, now=None]"
     ]
    },
    {
     "name": "stdout",
     "output_type": "stream",
     "text": [
      "MoviePy - Done.\n",
      "Moviepy - Writing video E:/Saiful/park_motor/LeftRight/Task2_Videos/Left\\2020-01-23T18-53-33-423Z31-task2-left.mp4\n",
      "\n"
     ]
    },
    {
     "name": "stderr",
     "output_type": "stream",
     "text": [
      "                                                                                                                       \r"
     ]
    },
    {
     "name": "stdout",
     "output_type": "stream",
     "text": [
      "Moviepy - Done !\n",
      "Moviepy - video ready E:/Saiful/park_motor/LeftRight/Task2_Videos/Left\\2020-01-23T18-53-33-423Z31-task2-left.mp4\n",
      "Attempted 66, success 66, failed 0 \n",
      "\n",
      "Left 0.000000 to 0.040000, Right 0.040000 to 0.100000\n"
     ]
    },
    {
     "name": "stderr",
     "output_type": "stream",
     "text": [
      "\r",
      "chunk:   0%|                                                                         | 0/133 [00:00<?, ?it/s, now=None]"
     ]
    },
    {
     "name": "stdout",
     "output_type": "stream",
     "text": [
      "Moviepy - Building video E:/Saiful/park_motor/LeftRight/Task2_Videos/Right\\2020-01-23T18-53-33-496Z73-task2-right.mp4.\n",
      "MoviePy - Writing audio in 2020-01-23T18-53-33-496Z73-task2-rightTEMP_MPY_wvf_snd.mp4\n"
     ]
    },
    {
     "name": "stderr",
     "output_type": "stream",
     "text": [
      "t:   0%|                                                                             | 0/101 [00:00<?, ?it/s, now=None]"
     ]
    },
    {
     "name": "stdout",
     "output_type": "stream",
     "text": [
      "MoviePy - Done.\n",
      "Moviepy - Writing video E:/Saiful/park_motor/LeftRight/Task2_Videos/Right\\2020-01-23T18-53-33-496Z73-task2-right.mp4\n",
      "\n"
     ]
    },
    {
     "name": "stderr",
     "output_type": "stream",
     "text": [
      "                                                                                                                       \r"
     ]
    },
    {
     "name": "stdout",
     "output_type": "stream",
     "text": [
      "Moviepy - Done !\n",
      "Moviepy - video ready E:/Saiful/park_motor/LeftRight/Task2_Videos/Right\\2020-01-23T18-53-33-496Z73-task2-right.mp4\n",
      "Attempted 67, success 67, failed 0 \n",
      "\n",
      "Left 0.000000 to 0.065000, Right 0.060000 to 0.120000\n"
     ]
    },
    {
     "name": "stderr",
     "output_type": "stream",
     "text": [
      "\r",
      "chunk:   0%|                                                                         | 0/133 [00:00<?, ?it/s, now=None]"
     ]
    },
    {
     "name": "stdout",
     "output_type": "stream",
     "text": [
      "Moviepy - Building video E:/Saiful/park_motor/LeftRight/Task2_Videos/Right\\2020-01-23T18-56-12-588Z56-task2-right.mp4.\n",
      "MoviePy - Writing audio in 2020-01-23T18-56-12-588Z56-task2-rightTEMP_MPY_wvf_snd.mp4\n"
     ]
    },
    {
     "name": "stderr",
     "output_type": "stream",
     "text": [
      "t:   0%|                                                                            | 0/6000 [00:00<?, ?it/s, now=None]"
     ]
    },
    {
     "name": "stdout",
     "output_type": "stream",
     "text": [
      "MoviePy - Done.\n",
      "Moviepy - Writing video E:/Saiful/park_motor/LeftRight/Task2_Videos/Right\\2020-01-23T18-56-12-588Z56-task2-right.mp4\n",
      "\n"
     ]
    },
    {
     "name": "stderr",
     "output_type": "stream",
     "text": [
      "                                                                                                                       \r"
     ]
    },
    {
     "name": "stdout",
     "output_type": "stream",
     "text": [
      "Moviepy - Done !\n",
      "Moviepy - video ready E:/Saiful/park_motor/LeftRight/Task2_Videos/Right\\2020-01-23T18-56-12-588Z56-task2-right.mp4\n",
      "Attempted 68, success 68, failed 0 \n",
      "\n",
      "Left 0.000000 to 0.045000, Right 0.040000 to 0.130000\n"
     ]
    },
    {
     "name": "stderr",
     "output_type": "stream",
     "text": [
      "\r",
      "chunk:   0%|                                                                         | 0/199 [00:00<?, ?it/s, now=None]"
     ]
    },
    {
     "name": "stdout",
     "output_type": "stream",
     "text": [
      "Moviepy - Building video E:/Saiful/park_motor/LeftRight/Task2_Videos/Right\\2020-01-23T18-56-50-420Z87-task2-right.mp4.\n",
      "MoviePy - Writing audio in 2020-01-23T18-56-50-420Z87-task2-rightTEMP_MPY_wvf_snd.mp4\n"
     ]
    },
    {
     "name": "stderr",
     "output_type": "stream",
     "text": [
      "t:   0%|                                                                             | 0/270 [00:00<?, ?it/s, now=None]"
     ]
    },
    {
     "name": "stdout",
     "output_type": "stream",
     "text": [
      "MoviePy - Done.\n",
      "Moviepy - Writing video E:/Saiful/park_motor/LeftRight/Task2_Videos/Right\\2020-01-23T18-56-50-420Z87-task2-right.mp4\n",
      "\n"
     ]
    },
    {
     "name": "stderr",
     "output_type": "stream",
     "text": [
      "                                                                                                                       \r"
     ]
    },
    {
     "name": "stdout",
     "output_type": "stream",
     "text": [
      "Moviepy - Done !\n",
      "Moviepy - video ready E:/Saiful/park_motor/LeftRight/Task2_Videos/Right\\2020-01-23T18-56-50-420Z87-task2-right.mp4\n",
      "Attempted 69, success 69, failed 0 \n",
      "\n",
      "Left 0.000000 to 0.040000, Right 0.040000 to 0.080000\n"
     ]
    },
    {
     "name": "stderr",
     "output_type": "stream",
     "text": [
      "\r",
      "chunk:   0%|                                                                          | 0/89 [00:00<?, ?it/s, now=None]"
     ]
    },
    {
     "name": "stdout",
     "output_type": "stream",
     "text": [
      "Moviepy - Building video E:/Saiful/park_motor/LeftRight/Task2_Videos/Right\\2020-01-23T18-58-30-096Z83-task2-right.mp4.\n",
      "MoviePy - Writing audio in 2020-01-23T18-58-30-096Z83-task2-rightTEMP_MPY_wvf_snd.mp4\n"
     ]
    },
    {
     "name": "stderr",
     "output_type": "stream",
     "text": [
      "t:   0%|                                                                             | 0/120 [00:00<?, ?it/s, now=None]"
     ]
    },
    {
     "name": "stdout",
     "output_type": "stream",
     "text": [
      "MoviePy - Done.\n",
      "Moviepy - Writing video E:/Saiful/park_motor/LeftRight/Task2_Videos/Right\\2020-01-23T18-58-30-096Z83-task2-right.mp4\n",
      "\n"
     ]
    },
    {
     "name": "stderr",
     "output_type": "stream",
     "text": [
      "                                                                                                                       \r"
     ]
    },
    {
     "name": "stdout",
     "output_type": "stream",
     "text": [
      "Moviepy - Done !\n",
      "Moviepy - video ready E:/Saiful/park_motor/LeftRight/Task2_Videos/Right\\2020-01-23T18-58-30-096Z83-task2-right.mp4\n",
      "Attempted 70, success 70, failed 0 \n",
      "\n",
      "Left 0.040000 to 0.270000, Right 0.000000 to 0.050000\n"
     ]
    },
    {
     "name": "stderr",
     "output_type": "stream",
     "text": [
      "\r",
      "chunk:   0%|                                                                         | 0/508 [00:00<?, ?it/s, now=None]"
     ]
    },
    {
     "name": "stdout",
     "output_type": "stream",
     "text": [
      "Moviepy - Building video E:/Saiful/park_motor/LeftRight/Task2_Videos/Left\\2020-01-23T19-00-13-348Z59-task2-left.mp4.\n",
      "MoviePy - Writing audio in 2020-01-23T19-00-13-348Z59-task2-leftTEMP_MPY_wvf_snd.mp4\n"
     ]
    },
    {
     "name": "stderr",
     "output_type": "stream",
     "text": [
      "t:   0%|                                                                             | 0/690 [00:00<?, ?it/s, now=None]"
     ]
    },
    {
     "name": "stdout",
     "output_type": "stream",
     "text": [
      "MoviePy - Done.\n",
      "Moviepy - Writing video E:/Saiful/park_motor/LeftRight/Task2_Videos/Left\\2020-01-23T19-00-13-348Z59-task2-left.mp4\n",
      "\n"
     ]
    },
    {
     "name": "stderr",
     "output_type": "stream",
     "text": [
      "                                                                                                                       \r"
     ]
    },
    {
     "name": "stdout",
     "output_type": "stream",
     "text": [
      "Moviepy - Done !\n",
      "Moviepy - video ready E:/Saiful/park_motor/LeftRight/Task2_Videos/Left\\2020-01-23T19-00-13-348Z59-task2-left.mp4\n",
      "Attempted 71, success 71, failed 0 \n",
      "\n",
      "Left 0.000000 to 0.050000, Right -1.000000 to -1.000000\n",
      "Attempted 71, success 71, failed 0 \n",
      "\n",
      "Left 0.000000 to 0.050000, Right 0.040000 to 0.100000\n",
      "Attempted 71, success 71, failed 0 \n",
      "\n",
      "Left 0.040000 to 0.080000, Right 0.000000 to 0.040000\n"
     ]
    },
    {
     "name": "stderr",
     "output_type": "stream",
     "text": [
      "\r",
      "chunk:   0%|                                                                          | 0/89 [00:00<?, ?it/s, now=None]"
     ]
    },
    {
     "name": "stdout",
     "output_type": "stream",
     "text": [
      "Moviepy - Building video E:/Saiful/park_motor/LeftRight/Task2_Videos/Left\\2020-01-23T19-02-16-494Z89-task2-left.mp4.\n",
      "MoviePy - Writing audio in 2020-01-23T19-02-16-494Z89-task2-leftTEMP_MPY_wvf_snd.mp4\n"
     ]
    },
    {
     "name": "stderr",
     "output_type": "stream",
     "text": [
      "t:   0%|                                                                             | 0/120 [00:00<?, ?it/s, now=None]"
     ]
    },
    {
     "name": "stdout",
     "output_type": "stream",
     "text": [
      "MoviePy - Done.\n",
      "Moviepy - Writing video E:/Saiful/park_motor/LeftRight/Task2_Videos/Left\\2020-01-23T19-02-16-494Z89-task2-left.mp4\n",
      "\n"
     ]
    },
    {
     "name": "stderr",
     "output_type": "stream",
     "text": [
      "                                                                                                                       \r"
     ]
    },
    {
     "name": "stdout",
     "output_type": "stream",
     "text": [
      "Moviepy - Done !\n",
      "Moviepy - video ready E:/Saiful/park_motor/LeftRight/Task2_Videos/Left\\2020-01-23T19-02-16-494Z89-task2-left.mp4\n",
      "Attempted 72, success 72, failed 0 \n",
      "\n",
      "Left 0.045000 to 0.120000, Right 0.000000 to 0.050000\n"
     ]
    },
    {
     "name": "stderr",
     "output_type": "stream",
     "text": [
      "\r",
      "chunk:   0%|                                                                         | 0/166 [00:00<?, ?it/s, now=None]"
     ]
    },
    {
     "name": "stdout",
     "output_type": "stream",
     "text": [
      "Moviepy - Building video E:/Saiful/park_motor/LeftRight/Task2_Videos/Left\\2020-01-23T19-03-06-563Z45-task2-left.mp4.\n",
      "MoviePy - Writing audio in 2020-01-23T19-03-06-563Z45-task2-leftTEMP_MPY_wvf_snd.mp4\n"
     ]
    },
    {
     "name": "stderr",
     "output_type": "stream",
     "text": [
      "t:   0%|                                                                              | 0/90 [00:00<?, ?it/s, now=None]"
     ]
    },
    {
     "name": "stdout",
     "output_type": "stream",
     "text": [
      "MoviePy - Done.\n",
      "Moviepy - Writing video E:/Saiful/park_motor/LeftRight/Task2_Videos/Left\\2020-01-23T19-03-06-563Z45-task2-left.mp4\n",
      "\n"
     ]
    },
    {
     "name": "stderr",
     "output_type": "stream",
     "text": [
      "                                                                                                                       \r"
     ]
    },
    {
     "name": "stdout",
     "output_type": "stream",
     "text": [
      "Moviepy - Done !\n",
      "Moviepy - video ready E:/Saiful/park_motor/LeftRight/Task2_Videos/Left\\2020-01-23T19-03-06-563Z45-task2-left.mp4\n",
      "Attempted 73, success 73, failed 0 \n",
      "\n",
      "Left 0.045000 to 0.110000, Right 0.000000 to 0.050000\n"
     ]
    },
    {
     "name": "stderr",
     "output_type": "stream",
     "text": [
      "\r",
      "chunk:   0%|                                                                         | 0/144 [00:00<?, ?it/s, now=None]"
     ]
    },
    {
     "name": "stdout",
     "output_type": "stream",
     "text": [
      "Moviepy - Building video E:/Saiful/park_motor/LeftRight/Task2_Videos/Left\\2020-01-23T19-04-47-698Z13-task2-left.mp4.\n",
      "MoviePy - Writing audio in 2020-01-23T19-04-47-698Z13-task2-leftTEMP_MPY_wvf_snd.mp4\n"
     ]
    },
    {
     "name": "stderr",
     "output_type": "stream",
     "text": [
      "t:   0%|                                                                             | 0/109 [00:00<?, ?it/s, now=None]"
     ]
    },
    {
     "name": "stdout",
     "output_type": "stream",
     "text": [
      "MoviePy - Done.\n",
      "Moviepy - Writing video E:/Saiful/park_motor/LeftRight/Task2_Videos/Left\\2020-01-23T19-04-47-698Z13-task2-left.mp4\n",
      "\n"
     ]
    },
    {
     "name": "stderr",
     "output_type": "stream",
     "text": [
      "                                                                                                                       \r"
     ]
    },
    {
     "name": "stdout",
     "output_type": "stream",
     "text": [
      "Moviepy - Done !\n",
      "Moviepy - video ready E:/Saiful/park_motor/LeftRight/Task2_Videos/Left\\2020-01-23T19-04-47-698Z13-task2-left.mp4\n",
      "Attempted 74, success 74, failed 0 \n",
      "\n",
      "Left 0.000000 to 0.070000, Right 0.065000 to 0.120000\n",
      "Attempted 74, success 74, failed 0 \n",
      "\n",
      "Left 0.000000 to 0.040000, Right 0.040000 to 0.090000\n",
      "Attempted 74, success 74, failed 0 \n",
      "\n",
      "Left 0.065000 to 0.170000, Right 0.000000 to 0.070000\n"
     ]
    },
    {
     "name": "stderr",
     "output_type": "stream",
     "text": [
      "\r",
      "chunk:   0%|                                                                         | 0/232 [00:00<?, ?it/s, now=None]"
     ]
    },
    {
     "name": "stdout",
     "output_type": "stream",
     "text": [
      "Moviepy - Building video E:/Saiful/park_motor/LeftRight/Task2_Videos/Left\\2020-01-23T19-09-04-476Z22-task2-left.mp4.\n",
      "MoviePy - Writing audio in 2020-01-23T19-09-04-476Z22-task2-leftTEMP_MPY_wvf_snd.mp4\n"
     ]
    },
    {
     "name": "stderr",
     "output_type": "stream",
     "text": [
      "t:   0%|                                                                           | 0/10500 [00:00<?, ?it/s, now=None]"
     ]
    },
    {
     "name": "stdout",
     "output_type": "stream",
     "text": [
      "MoviePy - Done.\n",
      "Moviepy - Writing video E:/Saiful/park_motor/LeftRight/Task2_Videos/Left\\2020-01-23T19-09-04-476Z22-task2-left.mp4\n",
      "\n"
     ]
    },
    {
     "name": "stderr",
     "output_type": "stream",
     "text": [
      "                                                                                                                       \r"
     ]
    },
    {
     "name": "stdout",
     "output_type": "stream",
     "text": [
      "Moviepy - Done !\n",
      "Moviepy - video ready E:/Saiful/park_motor/LeftRight/Task2_Videos/Left\\2020-01-23T19-09-04-476Z22-task2-left.mp4\n",
      "Attempted 75, success 75, failed 0 \n",
      "\n",
      "Left 0.000000 to 0.050000, Right 0.040000 to 0.090000\n"
     ]
    },
    {
     "name": "stderr",
     "output_type": "stream",
     "text": [
      "\r",
      "chunk:   0%|                                                                         | 0/111 [00:00<?, ?it/s, now=None]"
     ]
    },
    {
     "name": "stdout",
     "output_type": "stream",
     "text": [
      "Moviepy - Building video E:/Saiful/park_motor/LeftRight/Task2_Videos/Right\\2020-01-23T19-09-13-695Z67-task2-right.mp4.\n",
      "MoviePy - Writing audio in 2020-01-23T19-09-13-695Z67-task2-rightTEMP_MPY_wvf_snd.mp4\n"
     ]
    },
    {
     "name": "stderr",
     "output_type": "stream",
     "text": [
      "t:   0%|                                                                             | 0/150 [00:00<?, ?it/s, now=None]"
     ]
    },
    {
     "name": "stdout",
     "output_type": "stream",
     "text": [
      "MoviePy - Done.\n",
      "Moviepy - Writing video E:/Saiful/park_motor/LeftRight/Task2_Videos/Right\\2020-01-23T19-09-13-695Z67-task2-right.mp4\n",
      "\n"
     ]
    },
    {
     "name": "stderr",
     "output_type": "stream",
     "text": [
      "                                                                                                                       \r"
     ]
    },
    {
     "name": "stdout",
     "output_type": "stream",
     "text": [
      "Moviepy - Done !\n",
      "Moviepy - video ready E:/Saiful/park_motor/LeftRight/Task2_Videos/Right\\2020-01-23T19-09-13-695Z67-task2-right.mp4\n",
      "Attempted 76, success 76, failed 0 \n",
      "\n",
      "Left 0.000000 to 0.055000, Right 0.050000 to 0.120000\n"
     ]
    },
    {
     "name": "stderr",
     "output_type": "stream",
     "text": [
      "\r",
      "chunk:   0%|                                                                         | 0/155 [00:00<?, ?it/s, now=None]"
     ]
    },
    {
     "name": "stdout",
     "output_type": "stream",
     "text": [
      "Moviepy - Building video E:/Saiful/park_motor/LeftRight/Task2_Videos/Right\\2020-01-23T19-21-13-286Z85-task2-right.mp4.\n",
      "MoviePy - Writing audio in 2020-01-23T19-21-13-286Z85-task2-rightTEMP_MPY_wvf_snd.mp4\n"
     ]
    },
    {
     "name": "stderr",
     "output_type": "stream",
     "text": [
      "t:   0%|                                                                             | 0/117 [00:00<?, ?it/s, now=None]"
     ]
    },
    {
     "name": "stdout",
     "output_type": "stream",
     "text": [
      "MoviePy - Done.\n",
      "Moviepy - Writing video E:/Saiful/park_motor/LeftRight/Task2_Videos/Right\\2020-01-23T19-21-13-286Z85-task2-right.mp4\n",
      "\n"
     ]
    },
    {
     "name": "stderr",
     "output_type": "stream",
     "text": [
      "                                                                                                                       \r"
     ]
    },
    {
     "name": "stdout",
     "output_type": "stream",
     "text": [
      "Moviepy - Done !\n",
      "Moviepy - video ready E:/Saiful/park_motor/LeftRight/Task2_Videos/Right\\2020-01-23T19-21-13-286Z85-task2-right.mp4\n",
      "Attempted 77, success 77, failed 0 \n",
      "\n",
      "Left 0.000000 to 0.050000, Right 0.050000 to 0.100000\n"
     ]
    },
    {
     "name": "stderr",
     "output_type": "stream",
     "text": [
      "\r",
      "chunk:   0%|                                                                         | 0/111 [00:00<?, ?it/s, now=None]"
     ]
    },
    {
     "name": "stdout",
     "output_type": "stream",
     "text": [
      "Moviepy - Building video E:/Saiful/park_motor/LeftRight/Task2_Videos/Right\\2020-01-23T19-28-54-722Z62-task2-right.mp4.\n",
      "MoviePy - Writing audio in 2020-01-23T19-28-54-722Z62-task2-rightTEMP_MPY_wvf_snd.mp4\n"
     ]
    },
    {
     "name": "stderr",
     "output_type": "stream",
     "text": [
      "t:   0%|                                                                            | 0/5000 [00:00<?, ?it/s, now=None]"
     ]
    },
    {
     "name": "stdout",
     "output_type": "stream",
     "text": [
      "MoviePy - Done.\n",
      "Moviepy - Writing video E:/Saiful/park_motor/LeftRight/Task2_Videos/Right\\2020-01-23T19-28-54-722Z62-task2-right.mp4\n",
      "\n"
     ]
    },
    {
     "name": "stderr",
     "output_type": "stream",
     "text": [
      "                                                                                                                       \r"
     ]
    },
    {
     "name": "stdout",
     "output_type": "stream",
     "text": [
      "Moviepy - Done !\n",
      "Moviepy - video ready E:/Saiful/park_motor/LeftRight/Task2_Videos/Right\\2020-01-23T19-28-54-722Z62-task2-right.mp4\n",
      "Attempted 78, success 78, failed 0 \n",
      "\n",
      "Left 0.050000 to 0.110000, Right 0.000000 to 0.050000\n"
     ]
    },
    {
     "name": "stderr",
     "output_type": "stream",
     "text": [
      "\r",
      "chunk:   0%|                                                                         | 0/133 [00:00<?, ?it/s, now=None]"
     ]
    },
    {
     "name": "stdout",
     "output_type": "stream",
     "text": [
      "Moviepy - Building video E:/Saiful/park_motor/LeftRight/Task2_Videos/Left\\2020-01-23T19-29-34-957Z14-task2-left.mp4.\n",
      "MoviePy - Writing audio in 2020-01-23T19-29-34-957Z14-task2-leftTEMP_MPY_wvf_snd.mp4\n"
     ]
    },
    {
     "name": "stderr",
     "output_type": "stream",
     "text": [
      "t:   0%|                                                                             | 0/180 [00:00<?, ?it/s, now=None]"
     ]
    },
    {
     "name": "stdout",
     "output_type": "stream",
     "text": [
      "MoviePy - Done.\n",
      "Moviepy - Writing video E:/Saiful/park_motor/LeftRight/Task2_Videos/Left\\2020-01-23T19-29-34-957Z14-task2-left.mp4\n",
      "\n"
     ]
    },
    {
     "name": "stderr",
     "output_type": "stream",
     "text": [
      "                                                                                                                       \r"
     ]
    },
    {
     "name": "stdout",
     "output_type": "stream",
     "text": [
      "Moviepy - Done !\n",
      "Moviepy - video ready E:/Saiful/park_motor/LeftRight/Task2_Videos/Left\\2020-01-23T19-29-34-957Z14-task2-left.mp4\n",
      "Attempted 79, success 79, failed 0 \n",
      "\n",
      "Left 0.040000 to 0.110000, Right 0.000000 to 0.045000\n"
     ]
    },
    {
     "name": "stderr",
     "output_type": "stream",
     "text": [
      "\r",
      "chunk:   0%|                                                                         | 0/155 [00:00<?, ?it/s, now=None]"
     ]
    },
    {
     "name": "stdout",
     "output_type": "stream",
     "text": [
      "Moviepy - Building video E:/Saiful/park_motor/LeftRight/Task2_Videos/Left\\2020-01-23T19-44-23-160Z54-task2-left.mp4.\n",
      "MoviePy - Writing audio in 2020-01-23T19-44-23-160Z54-task2-leftTEMP_MPY_wvf_snd.mp4\n"
     ]
    },
    {
     "name": "stderr",
     "output_type": "stream",
     "text": [
      "t:   0%|                                                                             | 0/210 [00:00<?, ?it/s, now=None]"
     ]
    },
    {
     "name": "stdout",
     "output_type": "stream",
     "text": [
      "MoviePy - Done.\n",
      "Moviepy - Writing video E:/Saiful/park_motor/LeftRight/Task2_Videos/Left\\2020-01-23T19-44-23-160Z54-task2-left.mp4\n",
      "\n"
     ]
    },
    {
     "name": "stderr",
     "output_type": "stream",
     "text": [
      "                                                                                                                       \r"
     ]
    },
    {
     "name": "stdout",
     "output_type": "stream",
     "text": [
      "Moviepy - Done !\n",
      "Moviepy - video ready E:/Saiful/park_motor/LeftRight/Task2_Videos/Left\\2020-01-23T19-44-23-160Z54-task2-left.mp4\n",
      "Attempted 80, success 80, failed 0 \n",
      "\n",
      "Left 0.000000 to 0.135000, Right 0.130000 to 0.210000\n"
     ]
    },
    {
     "name": "stderr",
     "output_type": "stream",
     "text": [
      "\r",
      "chunk:   0%|                                                                         | 0/177 [00:00<?, ?it/s, now=None]"
     ]
    },
    {
     "name": "stdout",
     "output_type": "stream",
     "text": [
      "Moviepy - Building video E:/Saiful/park_motor/LeftRight/Task2_Videos/Right\\2020-01-23T19-50-43-657Z36-task2-right.mp4.\n",
      "MoviePy - Writing audio in 2020-01-23T19-50-43-657Z36-task2-rightTEMP_MPY_wvf_snd.mp4\n"
     ]
    },
    {
     "name": "stderr",
     "output_type": "stream",
     "text": [
      "t:   0%|                                                                             | 0/240 [00:00<?, ?it/s, now=None]"
     ]
    },
    {
     "name": "stdout",
     "output_type": "stream",
     "text": [
      "MoviePy - Done.\n",
      "Moviepy - Writing video E:/Saiful/park_motor/LeftRight/Task2_Videos/Right\\2020-01-23T19-50-43-657Z36-task2-right.mp4\n",
      "\n"
     ]
    },
    {
     "name": "stderr",
     "output_type": "stream",
     "text": [
      "                                                                                                                       \r"
     ]
    },
    {
     "name": "stdout",
     "output_type": "stream",
     "text": [
      "Moviepy - Done !\n",
      "Moviepy - video ready E:/Saiful/park_motor/LeftRight/Task2_Videos/Right\\2020-01-23T19-50-43-657Z36-task2-right.mp4\n",
      "Attempted 81, success 81, failed 0 \n",
      "\n",
      "Left 0.055000 to 0.140000, Right 0.000000 to 0.060000\n"
     ]
    },
    {
     "name": "stderr",
     "output_type": "stream",
     "text": [
      "\r",
      "chunk:   0%|                                                                         | 0/188 [00:00<?, ?it/s, now=None]"
     ]
    },
    {
     "name": "stdout",
     "output_type": "stream",
     "text": [
      "Moviepy - Building video E:/Saiful/park_motor/LeftRight/Task2_Videos/Left\\2020-01-23T19-59-17-013Z87-task2-left.mp4.\n",
      "MoviePy - Writing audio in 2020-01-23T19-59-17-013Z87-task2-leftTEMP_MPY_wvf_snd.mp4\n"
     ]
    },
    {
     "name": "stderr",
     "output_type": "stream",
     "text": [
      "t:   0%|                                                                             | 0/142 [00:00<?, ?it/s, now=None]"
     ]
    },
    {
     "name": "stdout",
     "output_type": "stream",
     "text": [
      "MoviePy - Done.\n",
      "Moviepy - Writing video E:/Saiful/park_motor/LeftRight/Task2_Videos/Left\\2020-01-23T19-59-17-013Z87-task2-left.mp4\n",
      "\n"
     ]
    },
    {
     "name": "stderr",
     "output_type": "stream",
     "text": [
      "                                                                                                                       \r"
     ]
    },
    {
     "name": "stdout",
     "output_type": "stream",
     "text": [
      "Moviepy - Done !\n",
      "Moviepy - video ready E:/Saiful/park_motor/LeftRight/Task2_Videos/Left\\2020-01-23T19-59-17-013Z87-task2-left.mp4\n",
      "Attempted 82, success 82, failed 0 \n",
      "\n",
      "Left 0.075000 to 0.140000, Right 0.000000 to 0.080000\n"
     ]
    },
    {
     "name": "stderr",
     "output_type": "stream",
     "text": [
      "\r",
      "chunk:   0%|                                                                         | 0/144 [00:00<?, ?it/s, now=None]"
     ]
    },
    {
     "name": "stdout",
     "output_type": "stream",
     "text": [
      "Moviepy - Building video E:/Saiful/park_motor/LeftRight/Task2_Videos/Left\\2020-01-23T20-09-59-894Z88-task2-left.mp4.\n",
      "MoviePy - Writing audio in 2020-01-23T20-09-59-894Z88-task2-leftTEMP_MPY_wvf_snd.mp4\n"
     ]
    },
    {
     "name": "stderr",
     "output_type": "stream",
     "text": [
      "t:   0%|                                                                             | 0/109 [00:00<?, ?it/s, now=None]"
     ]
    },
    {
     "name": "stdout",
     "output_type": "stream",
     "text": [
      "MoviePy - Done.\n",
      "Moviepy - Writing video E:/Saiful/park_motor/LeftRight/Task2_Videos/Left\\2020-01-23T20-09-59-894Z88-task2-left.mp4\n",
      "\n"
     ]
    },
    {
     "name": "stderr",
     "output_type": "stream",
     "text": [
      "                                                                                                                       \r"
     ]
    },
    {
     "name": "stdout",
     "output_type": "stream",
     "text": [
      "Moviepy - Done !\n",
      "Moviepy - video ready E:/Saiful/park_motor/LeftRight/Task2_Videos/Left\\2020-01-23T20-09-59-894Z88-task2-left.mp4\n",
      "Attempted 83, success 83, failed 0 \n",
      "\n",
      "Left 0.040000 to 0.100000, Right 0.000000 to 0.040000\n",
      "Attempted 83, success 83, failed 0 \n",
      "\n",
      "Left 0.050000 to 0.140000, Right 0.000000 to 0.050000\n",
      "Attempted 83, success 83, failed 0 \n",
      "\n",
      "Left 0.000000 to 0.080000, Right 0.070000 to 0.140000\n"
     ]
    },
    {
     "name": "stderr",
     "output_type": "stream",
     "text": [
      "\r",
      "chunk:   0%|                                                                         | 0/155 [00:00<?, ?it/s, now=None]"
     ]
    },
    {
     "name": "stdout",
     "output_type": "stream",
     "text": [
      "Moviepy - Building video E:/Saiful/park_motor/LeftRight/Task2_Videos/Right\\2020-01-23T22-23-48-357Z35-task2-right.mp4.\n",
      "MoviePy - Writing audio in 2020-01-23T22-23-48-357Z35-task2-rightTEMP_MPY_wvf_snd.mp4\n"
     ]
    },
    {
     "name": "stderr",
     "output_type": "stream",
     "text": [
      "t:   0%|                                                                             | 0/117 [00:00<?, ?it/s, now=None]"
     ]
    },
    {
     "name": "stdout",
     "output_type": "stream",
     "text": [
      "MoviePy - Done.\n",
      "Moviepy - Writing video E:/Saiful/park_motor/LeftRight/Task2_Videos/Right\\2020-01-23T22-23-48-357Z35-task2-right.mp4\n",
      "\n"
     ]
    },
    {
     "name": "stderr",
     "output_type": "stream",
     "text": [
      "                                                                                                                       \r"
     ]
    },
    {
     "name": "stdout",
     "output_type": "stream",
     "text": [
      "Moviepy - Done !\n",
      "Moviepy - video ready E:/Saiful/park_motor/LeftRight/Task2_Videos/Right\\2020-01-23T22-23-48-357Z35-task2-right.mp4\n",
      "Attempted 84, success 84, failed 0 \n",
      "\n",
      "Left -1.000000 to -1.000000, Right 0.000000 to 0.040000\n"
     ]
    },
    {
     "name": "stderr",
     "output_type": "stream",
     "text": [
      "\r",
      "chunk:   0%|                                                                          | 0/89 [00:00<?, ?it/s, now=None]"
     ]
    },
    {
     "name": "stdout",
     "output_type": "stream",
     "text": [
      "Moviepy - Building video E:/Saiful/park_motor/LeftRight/Task2_Videos/Right\\2020-01-25T00-20-05-330Z49-task2-right.mp4.\n",
      "MoviePy - Writing audio in 2020-01-25T00-20-05-330Z49-task2-rightTEMP_MPY_wvf_snd.mp4\n"
     ]
    },
    {
     "name": "stderr",
     "output_type": "stream",
     "text": [
      "t:   0%|                                                                            | 0/4000 [00:00<?, ?it/s, now=None]"
     ]
    },
    {
     "name": "stdout",
     "output_type": "stream",
     "text": [
      "MoviePy - Done.\n",
      "Moviepy - Writing video E:/Saiful/park_motor/LeftRight/Task2_Videos/Right\\2020-01-25T00-20-05-330Z49-task2-right.mp4\n",
      "\n"
     ]
    },
    {
     "name": "stderr",
     "output_type": "stream",
     "text": [
      "                                                                                                                       \r"
     ]
    },
    {
     "name": "stdout",
     "output_type": "stream",
     "text": [
      "Moviepy - Done !\n",
      "Moviepy - video ready E:/Saiful/park_motor/LeftRight/Task2_Videos/Right\\2020-01-25T00-20-05-330Z49-task2-right.mp4\n",
      "Attempted 85, success 85, failed 0 \n",
      "\n",
      "Left 0.090000 to 0.170000, Right 0.000000 to 0.090000\n"
     ]
    },
    {
     "name": "stderr",
     "output_type": "stream",
     "text": [
      "\r",
      "chunk:   0%|                                                                         | 0/177 [00:00<?, ?it/s, now=None]"
     ]
    },
    {
     "name": "stdout",
     "output_type": "stream",
     "text": [
      "Moviepy - Building video E:/Saiful/park_motor/LeftRight/Task2_Videos/Left\\2020-01-30T02-21-19-999Z96-task2-left.mp4.\n",
      "MoviePy - Writing audio in 2020-01-30T02-21-19-999Z96-task2-leftTEMP_MPY_wvf_snd.mp4\n"
     ]
    },
    {
     "name": "stderr",
     "output_type": "stream",
     "text": [
      "t:   0%|                                                                             | 0/134 [00:00<?, ?it/s, now=None]"
     ]
    },
    {
     "name": "stdout",
     "output_type": "stream",
     "text": [
      "MoviePy - Done.\n",
      "Moviepy - Writing video E:/Saiful/park_motor/LeftRight/Task2_Videos/Left\\2020-01-30T02-21-19-999Z96-task2-left.mp4\n",
      "\n"
     ]
    },
    {
     "name": "stderr",
     "output_type": "stream",
     "text": [
      "                                                                                                                       \r"
     ]
    },
    {
     "name": "stdout",
     "output_type": "stream",
     "text": [
      "Moviepy - Done !\n",
      "Moviepy - video ready E:/Saiful/park_motor/LeftRight/Task2_Videos/Left\\2020-01-30T02-21-19-999Z96-task2-left.mp4\n",
      "Attempted 86, success 86, failed 0 \n",
      "\n",
      "Left 0.050000 to 0.130000, Right 0.000000 to 0.055000\n"
     ]
    },
    {
     "name": "stderr",
     "output_type": "stream",
     "text": [
      "\r",
      "chunk:   0%|                                                                         | 0/177 [00:00<?, ?it/s, now=None]"
     ]
    },
    {
     "name": "stdout",
     "output_type": "stream",
     "text": [
      "Moviepy - Building video E:/Saiful/park_motor/LeftRight/Task2_Videos/Left\\2020-01-30T02-21-46-667Z17-task2-left.mp4.\n",
      "MoviePy - Writing audio in 2020-01-30T02-21-46-667Z17-task2-leftTEMP_MPY_wvf_snd.mp4\n"
     ]
    },
    {
     "name": "stderr",
     "output_type": "stream",
     "text": [
      "t:   0%|                                                                             | 0/240 [00:00<?, ?it/s, now=None]"
     ]
    },
    {
     "name": "stdout",
     "output_type": "stream",
     "text": [
      "MoviePy - Done.\n",
      "Moviepy - Writing video E:/Saiful/park_motor/LeftRight/Task2_Videos/Left\\2020-01-30T02-21-46-667Z17-task2-left.mp4\n",
      "\n"
     ]
    },
    {
     "name": "stderr",
     "output_type": "stream",
     "text": [
      "                                                                                                                       \r"
     ]
    },
    {
     "name": "stdout",
     "output_type": "stream",
     "text": [
      "Moviepy - Done !\n",
      "Moviepy - video ready E:/Saiful/park_motor/LeftRight/Task2_Videos/Left\\2020-01-30T02-21-46-667Z17-task2-left.mp4\n",
      "Attempted 87, success 87, failed 0 \n",
      "\n",
      "Left 0.050000 to 0.140000, Right 0.000000 to 0.050000\n"
     ]
    },
    {
     "name": "stderr",
     "output_type": "stream",
     "text": [
      "\r",
      "chunk:   0%|                                                                         | 0/199 [00:00<?, ?it/s, now=None]"
     ]
    },
    {
     "name": "stdout",
     "output_type": "stream",
     "text": [
      "Moviepy - Building video E:/Saiful/park_motor/LeftRight/Task2_Videos/Left\\2020-01-30T02-24-22-922Z88-task2-left.mp4.\n",
      "MoviePy - Writing audio in 2020-01-30T02-24-22-922Z88-task2-leftTEMP_MPY_wvf_snd.mp4\n"
     ]
    },
    {
     "name": "stderr",
     "output_type": "stream",
     "text": [
      "t:   0%|                                                                             | 0/151 [00:00<?, ?it/s, now=None]"
     ]
    },
    {
     "name": "stdout",
     "output_type": "stream",
     "text": [
      "MoviePy - Done.\n",
      "Moviepy - Writing video E:/Saiful/park_motor/LeftRight/Task2_Videos/Left\\2020-01-30T02-24-22-922Z88-task2-left.mp4\n",
      "\n"
     ]
    },
    {
     "name": "stderr",
     "output_type": "stream",
     "text": [
      "                                                                                                                       \r"
     ]
    },
    {
     "name": "stdout",
     "output_type": "stream",
     "text": [
      "Moviepy - Done !\n",
      "Moviepy - video ready E:/Saiful/park_motor/LeftRight/Task2_Videos/Left\\2020-01-30T02-24-22-922Z88-task2-left.mp4\n",
      "Attempted 88, success 88, failed 0 \n",
      "\n",
      "Left 0.040000 to 0.120000, Right 0.000000 to 0.040000\n"
     ]
    },
    {
     "name": "stderr",
     "output_type": "stream",
     "text": [
      "\r",
      "chunk:   0%|                                                                         | 0/177 [00:00<?, ?it/s, now=None]"
     ]
    },
    {
     "name": "stdout",
     "output_type": "stream",
     "text": [
      "Moviepy - Building video E:/Saiful/park_motor/LeftRight/Task2_Videos/Left\\2020-01-30T02-24-26-322Z20-task2-left.mp4.\n",
      "MoviePy - Writing audio in 2020-01-30T02-24-26-322Z20-task2-leftTEMP_MPY_wvf_snd.mp4\n"
     ]
    },
    {
     "name": "stderr",
     "output_type": "stream",
     "text": [
      "\r",
      "chunk:   1%|▋                                                                | 2/177 [00:01<01:30,  1.93it/s, now=None]"
     ]
    }
   ],
   "source": [
    "success = 0\n",
    "failed = 0\n",
    "\n",
    "test_count = 0\n",
    "\n",
    "df = pd.read_csv(INPUT_LR_SPLIT_FILE)\n",
    "for index, row in df.iterrows():\n",
    "    \n",
    "    filename = row[\"File_name\"]\n",
    "    left_start = row[\"left_begin\"]\n",
    "    left_end = row[\"left_end\"]\n",
    "    right_start = row[\" right_begin\"]\n",
    "    right_end = row[\"right_end\"]\n",
    "    \n",
    "    print(\"Left %f to %f, Right %f to %f\"%(left_start, left_end, right_start, right_end))\n",
    "    \n",
    "    input_file_path = os.path.join(INPUT_TASK2_VIDEOS, filename)\n",
    "    #Make sure it exists\n",
    "    assert(os.path.exists(input_file_path))\n",
    "    \n",
    "    #Read duration of the video\n",
    "    #duration = video_properties(input_file_path)\n",
    "    #print(\"Duration of webm %f\"%(duration))\n",
    "    \n",
    "    output_left_filename = filename[:-5]+\"-left\"+\".mp4\"\n",
    "    output_right_filename = filename[:-5]+\"-right\"+\".mp4\"\n",
    "    \n",
    "    output_left_path = os.path.join(OUTPUT_LEFT_VIDEOS, output_left_filename)\n",
    "    output_right_path = os.path.join(OUTPUT_RIGHT_VIDEOS, output_right_filename)\n",
    "    \n",
    "    \n",
    "    temp_output_file = filename[:-5]+\"-temp\"+\".mp4\"\n",
    "    temp_path = os.path.join(temp_dir, temp_output_file)\n",
    "    \n",
    "    out1=0\n",
    "    if not os.path.exists(temp_path):\n",
    "        #Resize to 256x256, convert to mp4\n",
    "        command = \"ffmpeg -i \\\"%s\\\" -vf scale=256:256 \\\"%s\\\"\"%(input_file_path, temp_path)\n",
    "        out1 = os.system(command)\n",
    "        print(out1)\n",
    "    \n",
    "        #Read duration of the converted video\n",
    "        #duration_converted = video_properties(temp_path)\n",
    "        #print(\"Duration of resized mp4 %f\"%(duration))\n",
    "        #assert duration==duration_converted\n",
    "\n",
    "        if out1!=0:\n",
    "            print(\"MP3 conversion error\")\n",
    "            print(command)\n",
    "            error_files.append(output_left_path)\n",
    "            error_files.append(output_right_path)\n",
    "            failed +=2\n",
    "        else:\n",
    "            time.sleep(2)\n",
    "            \n",
    "    #Sample command to cut video by time\n",
    "    #ffmpeg -i \"E:/Saiful/park_motor/Task2_All/2017-08-18T14-59-52-530Z49-task2.webm\" -ss 00:00:03 -t 00:00:08 -async 1 -c copy \"E:/Saiful/park_motor/LeftRight/Task2_Videos/Test/test.webm\"\n",
    "    \n",
    "    if out1==0 and (left_start!=(-1.0)) and (left_end!=(-1.0)):\n",
    "        #Clip left part\n",
    "        if not os.path.exists(output_left_path):\n",
    "            #left_start_time = number_to_time(left_start)\n",
    "            #left_end_time = number_to_time(left_end)\n",
    "            left_start_time = left_start*100\n",
    "            left_end_time = (left_end*100)\n",
    "            try:\n",
    "                with VideoFileClip(temp_path) as video:\n",
    "                    new = video.subclip(left_start_time, left_end_time)\n",
    "                    new.write_videofile(output_left_path, audio_codec='aac')\n",
    "                    \n",
    "                #ffmpeg_extract_subclip(temp_path, left_start_time, left_end_time, targetname=output_left_path)\n",
    "                time.sleep(2)\n",
    "                success +=1\n",
    "                \n",
    "            except Exception:\n",
    "                failed +=1\n",
    "                error_files.append(output_left_path)\n",
    "                traceback.print_exc()\n",
    "            \n",
    "        \n",
    "    if out1==0 and (right_start!=(-1.0)) and (right_end!=(-1.0)):\n",
    "        #Clip right part\n",
    "        if not os.path.exists(output_right_path):\n",
    "            #right_start_time = number_to_time(right_start)\n",
    "            #right_end_time = number_to_time(right_end)\n",
    "            right_start_time = right_start*100\n",
    "            right_end_time = (right_end*100)\n",
    "            \n",
    "            try:\n",
    "                with VideoFileClip(temp_path) as video:\n",
    "                    new = video.subclip(right_start_time, right_end_time)\n",
    "                    new.write_videofile(output_right_path, audio_codec='aac')\n",
    "                \n",
    "                #ffmpeg_extract_subclip(temp_path, right_start_time, right_end_time, targetname=output_right_path)\n",
    "                time.sleep(2)\n",
    "                success +=1\n",
    "            except Exception:\n",
    "                failed +=1\n",
    "                error_files.append(output_right_path)\n",
    "                traceback.print_exc()\n",
    "                \n",
    "    print(\"Attempted %d, success %d, failed %d \\n\"%((failed+success), success, failed))\n",
    "    \n",
    "    '''Test code'''\n",
    "    #test_count +=1\n",
    "    #if test_count==10:\n",
    "    #    break"
   ]
  },
  {
   "cell_type": "code",
   "execution_count": null,
   "id": "metallic-warrior",
   "metadata": {},
   "outputs": [],
   "source": [
    "with open('E:/Saiful/park_motor/LeftRight/errors.txt', 'w') as f:\n",
    "    for item in error_files:\n",
    "        f.write(\"%s\\n\" % item)"
   ]
  },
  {
   "cell_type": "code",
   "execution_count": null,
   "id": "sufficient-grammar",
   "metadata": {},
   "outputs": [],
   "source": []
  }
 ],
 "metadata": {
  "kernelspec": {
   "display_name": "Python 3",
   "language": "python",
   "name": "python3"
  },
  "language_info": {
   "codemirror_mode": {
    "name": "ipython",
    "version": 3
   },
   "file_extension": ".py",
   "mimetype": "text/x-python",
   "name": "python",
   "nbconvert_exporter": "python",
   "pygments_lexer": "ipython3",
   "version": "3.8.8"
  }
 },
 "nbformat": 4,
 "nbformat_minor": 5
}
