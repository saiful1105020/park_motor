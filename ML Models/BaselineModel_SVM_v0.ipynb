{
 "cells": [
  {
   "cell_type": "code",
   "execution_count": 1,
   "id": "solid-mexican",
   "metadata": {},
   "outputs": [
    {
     "data": {
      "application/javascript": [
       "IPython.notebook.set_autosave_interval(60000)"
      ]
     },
     "metadata": {},
     "output_type": "display_data"
    },
    {
     "name": "stdout",
     "output_type": "stream",
     "text": [
      "Autosaving every 60 seconds\n",
      "Automatically created module for IPython interactive environment\n"
     ]
    }
   ],
   "source": [
    "%autosave 60\n",
    "print(__doc__)\n",
    "\n",
    "import numpy as np\n",
    "import matplotlib.pyplot as plt\n",
    "import sklearn\n",
    "\n",
    "from sklearn.linear_model import LassoCV\n",
    "from sklearn.linear_model import Lasso\n",
    "from sklearn.model_selection import KFold\n",
    "from sklearn.model_selection import GridSearchCV\n",
    "from sklearn.preprocessing import StandardScaler\n",
    "\n",
    "import pickle"
   ]
  },
  {
   "cell_type": "code",
   "execution_count": 2,
   "id": "rolled-better",
   "metadata": {},
   "outputs": [],
   "source": [
    "DATA_DIR = \"C:/Wasif/PD Motor Feature Extraction/TASK2_FEATURES_04_21/\"\n",
    "X_file = \"x_repeat_removed_raw_pixels.npy\"\n",
    "y_file = \"y_repeat_removed_raw_pixels.npy\"\n",
    "X_index_file = \"index_repeat_removed.pickle\""
   ]
  },
  {
   "cell_type": "code",
   "execution_count": 3,
   "id": "southern-milton",
   "metadata": {},
   "outputs": [],
   "source": [
    "def load_dataset(DATA_DIR):\n",
    "    X = np.load(DATA_DIR+X_file)\n",
    "    #For now, only considering the frequency features\n",
    "    #X = X[:,65536:]\n",
    "    \n",
    "    #Scale features\n",
    "    scaler = StandardScaler()\n",
    "    scaler.fit(X)\n",
    "    X_scaled = scaler.transform(X)\n",
    "    \n",
    "    y = np.load(DATA_DIR+y_file)\n",
    "    \n",
    "    with open(DATA_DIR+X_index_file, 'rb') as handle:\n",
    "        X_index = pickle.load(handle)  \n",
    "    \n",
    "    return (X_scaled, y, X_index)"
   ]
  },
  {
   "cell_type": "code",
   "execution_count": 4,
   "id": "honey-cleveland",
   "metadata": {},
   "outputs": [
    {
     "name": "stdout",
     "output_type": "stream",
     "text": [
      "Dataset Loaded\n",
      "{'mean_fit_time': array([51.24736295, 50.36803832, 48.42276287]), 'std_fit_time': array([1.20018251, 0.10881336, 0.20736197]), 'mean_score_time': array([18.53798523, 18.42930775, 18.54756227]), 'std_score_time': array([0.32694803, 0.28261084, 0.11882813]), 'param_C': masked_array(data=[1000, 100, 1],\n",
      "             mask=[False, False, False],\n",
      "       fill_value='?',\n",
      "            dtype=object), 'params': [{'C': 1000}, {'C': 100}, {'C': 1}], 'split0_test_score': array([0.60759494, 0.62025316, 0.62658228]), 'split1_test_score': array([0.58860759, 0.58860759, 0.62025316]), 'split2_test_score': array([0.54140127, 0.54140127, 0.62420382]), 'split3_test_score': array([0.52866242, 0.52866242, 0.62420382]), 'split4_test_score': array([0.58598726, 0.58598726, 0.61146497]), 'mean_test_score': array([0.5704507 , 0.57298234, 0.62134161]), 'std_test_score': array([0.03013596, 0.03349456, 0.00534007]), 'rank_test_score': array([3, 2, 1])}\n"
     ]
    },
    {
     "data": {
      "image/png": "[encoded data removed]",
      "text/plain": [
       "<Figure size 576x432 with 1 Axes>"
      ]
     },
     "metadata": {
      "needs_background": "light"
     },
     "output_type": "display_data"
    }
   ],
   "source": [
    "(X, y, X_index) = load_dataset(DATA_DIR)\n",
    "assert(X.shape[0]==y.shape[0] and y.shape[0]==len(X_index))\n",
    "print(\"Dataset Loaded\")\n",
    "\n",
    "#Subset of data for faster development\n",
    "#X = X[:150]\n",
    "#y = y[:150]\n",
    "\n",
    "#print(y)\n",
    "\n",
    "#make_pipeline(StandardScaler(), SVC(gamma='auto'))\n",
    "#model = Lasso(random_state=0, max_iter=100000)\n",
    "model = sklearn.svm.SVC()\n",
    "#alphas = np.logspace(-4, -0.5, 30)\n",
    "#alphas = np.logspace(-4, -0.5, 10)\n",
    "C = [1000, 100, 1]\n",
    "\n",
    "tuned_parameters = [{'C': C}]\n",
    "n_folds = 5\n",
    "\n",
    "clf = GridSearchCV(model, tuned_parameters, cv=n_folds, refit=False)\n",
    "clf.fit(X, y)\n",
    "\n",
    "print(clf.cv_results_)\n",
    "\n",
    "scores = clf.cv_results_['mean_test_score']\n",
    "scores_std = clf.cv_results_['std_test_score']\n",
    "plt.figure().set_size_inches(8, 6)\n",
    "plt.semilogx(C, scores)\n",
    "\n",
    "# plot error lines showing +/- std. errors of the scores\n",
    "std_error = scores_std / np.sqrt(n_folds)\n",
    "\n",
    "plt.semilogx(C, scores + std_error, 'b--')\n",
    "plt.semilogx(C, scores - std_error, 'b--')\n",
    "\n",
    "# alpha=0.2 controls the translucency of the fill color\n",
    "plt.fill_between(C, scores + std_error, scores - std_error, alpha=0.2)\n",
    "\n",
    "plt.ylabel('CV score +/- std error')\n",
    "plt.xlabel('C')\n",
    "plt.axhline(np.max(scores), linestyle='--', color='.5')\n",
    "plt.xlim([C[0], C[-1]])\n",
    "plt.show()"
   ]
  },
  {
   "cell_type": "raw",
   "id": "banned-shirt",
   "metadata": {},
   "source": [
    "# #############################################################################\n",
    "# Bonus: how much can you trust the selection of alpha?\n",
    "\n",
    "# To answer this question we use the LassoCV object that sets its alpha\n",
    "# parameter automatically from the data by internal cross-validation (i.e. it\n",
    "# performs cross-validation on the training data it receives).\n",
    "# We use external cross-validation to see how much the automatically obtained\n",
    "# alphas differ across different cross-validation folds.\n",
    "lasso_cv = LassoCV(alphas=alphas, random_state=0, max_iter=10000)\n",
    "k_fold = KFold(3)\n",
    "\n",
    "print(\"Answer to the bonus question:\",\n",
    "      \"how much can you trust the selection of alpha?\")\n",
    "print()\n",
    "print(\"Alpha parameters maximising the generalization score on different\")\n",
    "print(\"subsets of the data:\")\n",
    "for k, (train, test) in enumerate(k_fold.split(X, y)):\n",
    "    lasso_cv.fit(X[train], y[train])\n",
    "    print(\"[fold {0}] alpha: {1:.5f}, score: {2:.5f}\".\n",
    "          format(k, lasso_cv.alpha_, lasso_cv.score(X[test], y[test])))\n",
    "print()\n",
    "print(\"Answer: Not very much since we obtained different alphas for different\")\n",
    "print(\"subsets of the data and moreover, the scores for these alphas differ\")\n",
    "print(\"quite substantially.\")\n",
    "\n",
    "plt.show()"
   ]
  }
 ],
 "metadata": {
  "kernelspec": {
   "display_name": "Python 3",
   "language": "python",
   "name": "python3"
  },
  "language_info": {
   "codemirror_mode": {
    "name": "ipython",
    "version": 3
   },
   "file_extension": ".py",
   "mimetype": "text/x-python",
   "name": "python",
   "nbconvert_exporter": "python",
   "pygments_lexer": "ipython3",
   "version": "3.8.8"
  }
 },
 "nbformat": 4,
 "nbformat_minor": 5
}
