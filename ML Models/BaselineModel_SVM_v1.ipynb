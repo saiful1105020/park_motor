{
 "cells": [
  {
   "cell_type": "code",
   "execution_count": 2,
   "id": "solid-mexican",
   "metadata": {},
   "outputs": [
    {
     "data": {
      "application/javascript": [
       "IPython.notebook.set_autosave_interval(60000)"
      ]
     },
     "metadata": {},
     "output_type": "display_data"
    },
    {
     "name": "stdout",
     "output_type": "stream",
     "text": [
      "Autosaving every 60 seconds\n",
      "Automatically created module for IPython interactive environment\n"
     ]
    }
   ],
   "source": [
    "%autosave 60\n",
    "print(__doc__)\n",
    "\n",
    "import numpy as np\n",
    "import matplotlib.pyplot as plt\n",
    "import sklearn\n",
    "\n",
    "from sklearn.linear_model import LassoCV\n",
    "from sklearn.linear_model import Lasso\n",
    "from sklearn.model_selection import KFold\n",
    "from sklearn.model_selection import GridSearchCV\n",
    "from sklearn.preprocessing import StandardScaler\n",
    "\n",
    "from imblearn.over_sampling import SMOTE\n",
    "\n",
    "import pickle"
   ]
  },
  {
   "cell_type": "markdown",
   "id": "designed-briefing",
   "metadata": {},
   "source": [
    "DATA_DIR = \"C:/Wasif/PD Motor Feature Extraction/TASK2_FEATURES_04_21/\"\n",
    "X_file = \"x_repeat_removed_raw_pixels.npy\"\n",
    "y_file = \"y_repeat_removed_raw_pixels.npy\"\n",
    "X_index_file = \"index_repeat_removed.pickle\""
   ]
  },
  {
   "cell_type": "code",
   "execution_count": 3,
   "id": "brutal-bathroom",
   "metadata": {},
   "outputs": [],
   "source": [
    "FEATURE_TYPE = 'deepmag' #['raw', 'deepmag']\n",
    "\n",
    "if FEATURE_TYPE == 'raw':\n",
    "    DATA_DIR = \"C:/Wasif/PD Motor Feature Extraction/TASK2_FEATURES_04_21/\"\n",
    "    X_file = \"x_repeat_removed_raw_pixels.npy\"\n",
    "    y_file = \"y_repeat_removed_raw_pixels.npy\"\n",
    "    X_index_file = \"index_repeat_removed.pickle\"\n",
    "\n",
    "elif FEATURE_TYPE == 'deepmag':\n",
    "    DATA_DIR = \"E:/Wasif/PDMotorFeatureExtraction/Task2_features_deepMAG/\"\n",
    "    X_file = \"x_repeat_removed_deepmag.npy\"\n",
    "    y_file = \"y_repeat_removed_deepmag.npy\"\n",
    "    X_index_file = \"index_repeat_removed.pickle\"\n",
    "    \n",
    "IMG_HEIGHT = 492\n",
    "IMG_WIDTH = 492"
   ]
  },
  {
   "cell_type": "code",
   "execution_count": 4,
   "id": "connected-christian",
   "metadata": {},
   "outputs": [],
   "source": [
    "def load_dataset(DATA_DIR):\n",
    "    X = np.load(DATA_DIR+X_file)\n",
    "    #For now, only considering the frequency features\n",
    "    X = X[:,(IMG_HEIGHT*IMG_WIDTH):]\n",
    "    \n",
    "    #Scale features\n",
    "    scaler = StandardScaler()\n",
    "    scaler.fit(X)\n",
    "    X_scaled = scaler.transform(X)\n",
    "    \n",
    "    X_scaled = X\n",
    "    \n",
    "    y = np.load(DATA_DIR+y_file)\n",
    "    \n",
    "    with open(DATA_DIR+X_index_file, 'rb') as handle:\n",
    "        X_index = pickle.load(handle)  \n",
    "    \n",
    "    return (X_scaled, y, X_index)"
   ]
  },
  {
   "cell_type": "code",
   "execution_count": 5,
   "id": "occasional-repeat",
   "metadata": {},
   "outputs": [],
   "source": [
    "def SMOTE_oversample(X,y):\n",
    "    oversample = SMOTE()\n",
    "    X, y = oversample.fit_resample(X, y)\n",
    "    return (X,y)"
   ]
  },
  {
   "cell_type": "code",
   "execution_count": 6,
   "id": "disciplinary-beach",
   "metadata": {},
   "outputs": [],
   "source": [
    "def dataset_property(X, y):\n",
    "    positives = np.sum(y==1.0)\n",
    "    negatives = np.sum(y==0.0)\n",
    "    print(positives, negatives)\n",
    "    return"
   ]
  },
  {
   "cell_type": "code",
   "execution_count": 7,
   "id": "choice-buying",
   "metadata": {
    "scrolled": true
   },
   "outputs": [
    {
     "name": "stdout",
     "output_type": "stream",
     "text": [
      "Dataset Loaded\n",
      "278 484\n",
      "484 484\n",
      "Fitting 10 folds for each of 4 candidates, totalling 40 fits\n",
      "[CV] END ............................................C=50000; total time=   5.1s\n",
      "[CV] END ............................................C=50000; total time=   5.6s\n",
      "[CV] END ............................................C=50000; total time=   4.9s\n",
      "[CV] END ............................................C=50000; total time=   5.2s\n",
      "[CV] END ............................................C=50000; total time=   5.3s\n",
      "[CV] END ............................................C=50000; total time=   5.2s\n",
      "[CV] END ............................................C=50000; total time=   4.7s\n",
      "[CV] END ............................................C=50000; total time=   4.4s\n",
      "[CV] END ............................................C=50000; total time=   4.9s\n",
      "[CV] END ............................................C=50000; total time=   5.7s\n",
      "[CV] END ............................................C=30000; total time=   4.0s\n",
      "[CV] END ............................................C=30000; total time=   2.8s\n",
      "[CV] END ............................................C=30000; total time=   3.8s\n",
      "[CV] END ............................................C=30000; total time=   4.1s\n",
      "[CV] END ............................................C=30000; total time=   3.5s\n",
      "[CV] END ............................................C=30000; total time=   2.8s\n",
      "[CV] END ............................................C=30000; total time=   3.0s\n",
      "[CV] END ............................................C=30000; total time=   2.8s\n",
      "[CV] END ............................................C=30000; total time=   3.5s\n",
      "[CV] END ............................................C=30000; total time=   3.5s\n",
      "[CV] END ............................................C=20000; total time=   2.3s\n",
      "[CV] END ............................................C=20000; total time=   2.2s\n",
      "[CV] END ............................................C=20000; total time=   2.6s\n",
      "[CV] END ............................................C=20000; total time=   2.0s\n",
      "[CV] END ............................................C=20000; total time=   2.5s\n",
      "[CV] END ............................................C=20000; total time=   2.0s\n",
      "[CV] END ............................................C=20000; total time=   2.1s\n",
      "[CV] END ............................................C=20000; total time=   2.3s\n",
      "[CV] END ............................................C=20000; total time=   2.4s\n",
      "[CV] END ............................................C=20000; total time=   2.5s\n",
      "[CV] END ............................................C=10000; total time=   1.2s\n",
      "[CV] END ............................................C=10000; total time=   0.9s\n",
      "[CV] END ............................................C=10000; total time=   1.2s\n",
      "[CV] END ............................................C=10000; total time=   1.2s\n",
      "[CV] END ............................................C=10000; total time=   1.1s\n",
      "[CV] END ............................................C=10000; total time=   0.9s\n",
      "[CV] END ............................................C=10000; total time=   1.3s\n",
      "[CV] END ............................................C=10000; total time=   1.5s\n",
      "[CV] END ............................................C=10000; total time=   1.1s\n",
      "[CV] END ............................................C=10000; total time=   1.4s\n",
      "{'mean_fit_time': array([5.20999978, 3.46909969, 2.37329988, 1.28380041]), 'std_fit_time': array([0.36649863, 0.46647134, 0.20594859, 0.17386256]), 'mean_score_time': array([0.00930004, 0.00959988, 0.00979934, 0.01029913]), 'std_score_time': array([0.00045833, 0.00049057, 0.00040053, 0.00045898]), 'param_C': masked_array(data=[50000, 30000, 20000, 10000],\n",
      "             mask=[False, False, False, False],\n",
      "       fill_value='?',\n",
      "            dtype=object), 'params': [{'C': 50000}, {'C': 30000}, {'C': 20000}, {'C': 10000}], 'split0_test_score': array([0.56701031, 0.58762887, 0.55670103, 0.56701031]), 'split1_test_score': array([0.74226804, 0.72164948, 0.71134021, 0.69072165]), 'split2_test_score': array([0.6185567 , 0.63917526, 0.6185567 , 0.6185567 ]), 'split3_test_score': array([0.60824742, 0.59793814, 0.62886598, 0.6185567 ]), 'split4_test_score': array([0.65979381, 0.62886598, 0.67010309, 0.63917526]), 'split5_test_score': array([0.69072165, 0.65979381, 0.64948454, 0.63917526]), 'split6_test_score': array([0.78350515, 0.77319588, 0.7628866 , 0.7628866 ]), 'split7_test_score': array([0.70103093, 0.70103093, 0.69072165, 0.69072165]), 'split8_test_score': array([0.82291667, 0.82291667, 0.83333333, 0.79166667]), 'split9_test_score': array([0.80208333, 0.8125    , 0.77083333, 0.78125   ]), 'mean_test_score': array([0.6996134 , 0.6944695 , 0.68928265, 0.67997208]), 'std_test_score': array([0.08290308, 0.081674  , 0.07841507, 0.07312431]), 'rank_test_score': array([1, 2, 3, 4])}\n"
     ]
    },
    {
     "data": {
      "image/png": "[encoded data removed]",
      "text/plain": [
       "<Figure size 576x432 with 1 Axes>"
      ]
     },
     "metadata": {
      "needs_background": "light"
     },
     "output_type": "display_data"
    }
   ],
   "source": [
    "(X, y, X_index) = load_dataset(DATA_DIR)\n",
    "assert(X.shape[0]==y.shape[0] and y.shape[0]==len(X_index))\n",
    "print(\"Dataset Loaded\")\n",
    "\n",
    "#Subset of data for faster development\n",
    "#X = X[:150]\n",
    "#y = y[:150]\n",
    "\n",
    "dataset_property(X,y)\n",
    "\n",
    "(X,y) = SMOTE_oversample(X,y)\n",
    "dataset_property(X,y)\n",
    "\n",
    "#make_pipeline(StandardScaler(), SVC(gamma='auto'))\n",
    "#model = Lasso(random_state=0, max_iter=100000)\n",
    "model = sklearn.svm.SVC()\n",
    "#alphas = np.logspace(-4, -0.5, 30)\n",
    "#alphas = np.logspace(-4, -0.5, 10)\n",
    "C = [50000, 30000, 20000, 10000]\n",
    "\n",
    "tuned_parameters = [{'C': C}]\n",
    "n_folds = 10\n",
    "\n",
    "clf = GridSearchCV(model, tuned_parameters, cv=n_folds, refit=True, verbose=2, scoring='accuracy')\n",
    "clf.fit(X, y)\n",
    "\n",
    "print(clf.cv_results_)\n",
    "\n",
    "scores = clf.cv_results_['mean_test_score']\n",
    "scores_std = clf.cv_results_['std_test_score']\n",
    "plt.figure().set_size_inches(8, 6)\n",
    "plt.semilogx(C, scores)\n",
    "\n",
    "# plot error lines showing +/- std. errors of the scores\n",
    "std_error = scores_std / np.sqrt(n_folds)\n",
    "\n",
    "plt.semilogx(C, scores + std_error, 'b--')\n",
    "plt.semilogx(C, scores - std_error, 'b--')\n",
    "\n",
    "# alpha=0.2 controls the translucency of the fill color\n",
    "plt.fill_between(C, scores + std_error, scores - std_error, alpha=0.2)\n",
    "\n",
    "plt.ylabel('CV score +/- std error')\n",
    "plt.xlabel('C')\n",
    "plt.axhline(np.max(scores), linestyle='--', color='.5')\n",
    "plt.xlim([C[0], C[-1]])\n",
    "plt.show()"
   ]
  },
  {
   "cell_type": "code",
   "execution_count": 8,
   "id": "behavioral-chicken",
   "metadata": {},
   "outputs": [
    {
     "name": "stdout",
     "output_type": "stream",
     "text": [
      "{'TP': 472, 'TN': 430, 'FP': 54, 'FN': 12, 'precision': 0.8973384030418251, 'recall': 0.9752066115702479, 'f1': 0.9346534653465346, 'accuracy': 0.9318181818181818}\n"
     ]
    }
   ],
   "source": [
    "performance = {}\n",
    "performance[\"TP\"] = np.sum(y[clf.predict(X)==1]==1)\n",
    "performance[\"TN\"] = np.sum(y[clf.predict(X)==0]==0)\n",
    "performance[\"FP\"] = np.sum(y[clf.predict(X)==1]==0)\n",
    "performance[\"FN\"] = np.sum(y[clf.predict(X)==0]==1)\n",
    "\n",
    "performance[\"precision\"] = performance[\"TP\"]/(performance[\"TP\"]+performance[\"FP\"])\n",
    "performance['recall'] = performance[\"TP\"]/(performance[\"TP\"]+performance[\"FN\"])\n",
    "performance[\"f1\"] = (2.0*performance[\"precision\"]*performance[\"recall\"])/(performance[\"precision\"]+performance[\"recall\"])\n",
    "\n",
    "performance[\"accuracy\"] = (performance[\"TP\"]+performance[\"TN\"])/(performance[\"TP\"]+performance[\"TN\"]+performance[\"FP\"]+performance[\"FN\"])\n",
    "\n",
    "print(performance)"
   ]
  },
  {
   "cell_type": "code",
   "execution_count": null,
   "id": "prompt-category",
   "metadata": {},
   "outputs": [],
   "source": []
  },
  {
   "cell_type": "code",
   "execution_count": null,
   "id": "martial-oakland",
   "metadata": {},
   "outputs": [],
   "source": []
  }
 ],
 "metadata": {
  "kernelspec": {
   "display_name": "Python 3",
   "language": "python",
   "name": "python3"
  },
  "language_info": {
   "codemirror_mode": {
    "name": "ipython",
    "version": 3
   },
   "file_extension": ".py",
   "mimetype": "text/x-python",
   "name": "python",
   "nbconvert_exporter": "python",
   "pygments_lexer": "ipython3",
   "version": "3.8.8"
  }
 },
 "nbformat": 4,
 "nbformat_minor": 5
}
