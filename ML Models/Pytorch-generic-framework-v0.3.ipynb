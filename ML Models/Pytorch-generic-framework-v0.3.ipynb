{
 "cells": [
  {
   "cell_type": "code",
   "execution_count": 1,
   "id": "lightweight-ridge",
   "metadata": {},
   "outputs": [
    {
     "data": {
      "application/javascript": [
       "IPython.notebook.set_autosave_interval(60000)"
      ]
     },
     "metadata": {},
     "output_type": "display_data"
    },
    {
     "name": "stdout",
     "output_type": "stream",
     "text": [
      "Autosaving every 60 seconds\n"
     ]
    },
    {
     "data": {
      "text/plain": [
       "<torch._C.Generator at 0x2739cd5f690>"
      ]
     },
     "execution_count": 1,
     "metadata": {},
     "output_type": "execute_result"
    }
   ],
   "source": [
    "%autosave 60\n",
    "\n",
    "import torch\n",
    "import torch.nn as nn\n",
    "import numpy as np\n",
    "import matplotlib.pyplot as plt\n",
    "from sklearn.preprocessing import StandardScaler\n",
    "from torch.utils.data import Dataset, DataLoader\n",
    "import math\n",
    "\n",
    "#For the sake of reconstruction with exact same behavior\n",
    "RANDOM_SEED = 1234\n",
    "TORCH_SEED = 4556\n",
    "np.random.seed(RANDOM_SEED)\n",
    "torch.manual_seed(TORCH_SEED)"
   ]
  },
  {
   "cell_type": "markdown",
   "id": "sunset-feature",
   "metadata": {},
   "source": [
    "# 1. Data Processing Pipleline"
   ]
  },
  {
   "cell_type": "markdown",
   "id": "focal-genetics",
   "metadata": {},
   "source": [
    "Given data in xlsx/csv/json format\n",
    "\n",
    "Convert to numpy array X, y\n",
    "\n",
    "\n",
    "Final Input: X (num_samples, num_features)\n",
    "\n",
    "Final Output: y (num_samples, 1)"
   ]
  },
  {
   "cell_type": "markdown",
   "id": "martial-andorra",
   "metadata": {},
   "source": [
    "## 1.1 Load Data as Tensors"
   ]
  },
  {
   "cell_type": "code",
   "execution_count": 2,
   "id": "beautiful-captain",
   "metadata": {},
   "outputs": [],
   "source": [
    "INPUT_DATA_DIR = \"C:/Users/MSI/Google Drive/Research/PyTorch Practice/pytorchTutorial-master/data/wine/\"\n",
    "INPUT_DATA_FILE = \"wine.csv\"\n",
    "\n",
    "class MyDataset(Dataset):\n",
    "    \n",
    "    def __init__(self):\n",
    "        #Read from CSV file, ref: https://numpy.org/doc/stable/reference/generated/numpy.genfromtxt.html\n",
    "        XY = np.genfromtxt(INPUT_DATA_DIR+INPUT_DATA_FILE, delimiter=',', skip_header=1)\n",
    "        self.n_samples = XY.shape[0]\n",
    "        self.X = XY[:,1:]\n",
    "        #multi-class, y in [1,3] -> [0,2]\n",
    "        self.y = XY[:,0]-1.0\n",
    "        \n",
    "    # support indexing such that dataset[i] can be used to get i-th sample\n",
    "    def __getitem__(self, index):\n",
    "        return (self.X[index], self.y[index])\n",
    "    \n",
    "    # we can call len(dataset) to return the size\n",
    "    def __len__(self):\n",
    "        return self.n_samples"
   ]
  },
  {
   "cell_type": "code",
   "execution_count": 3,
   "id": "capable-cruise",
   "metadata": {},
   "outputs": [],
   "source": [
    "dataset = MyDataset()"
   ]
  },
  {
   "cell_type": "markdown",
   "id": "stunning-inspector",
   "metadata": {},
   "source": [
    "## 1.2 Train, Test, Dev Split"
   ]
  },
  {
   "cell_type": "code",
   "execution_count": 4,
   "id": "daily-workplace",
   "metadata": {},
   "outputs": [],
   "source": [
    "TRAIN_TEST_DEV_SPLIT = [0.7, 0.15, 0.15]\n",
    "\n",
    "N = len(dataset)\n",
    "n_train = (int)(TRAIN_TEST_DEV_SPLIT[0]*N)\n",
    "n_test = (int) (TRAIN_TEST_DEV_SPLIT[1]*N)\n",
    "n_dev = N - n_train - n_test\n",
    "\n",
    "train_dataset, test_dataset, dev_dataset = torch.utils.data.random_split(dataset, [n_train, n_test, n_dev])"
   ]
  },
  {
   "cell_type": "markdown",
   "id": "hairy-journal",
   "metadata": {},
   "source": [
    "# 2. Model Definition"
   ]
  },
  {
   "cell_type": "markdown",
   "id": "saved-kernel",
   "metadata": {},
   "source": [
    "Start with exploring training data shapes"
   ]
  },
  {
   "cell_type": "code",
   "execution_count": 5,
   "id": "welcome-cuisine",
   "metadata": {},
   "outputs": [
    {
     "name": "stdout",
     "output_type": "stream",
     "text": [
      "Input size 13, Output size 3\n"
     ]
    }
   ],
   "source": [
    "num_samples, num_features = len(train_dataset), train_dataset[0][0].shape[0]\n",
    "\n",
    "input_size = num_features\n",
    "output_size = 3\n",
    "\n",
    "print(f\"Input size {input_size}, Output size {output_size}\")"
   ]
  },
  {
   "cell_type": "code",
   "execution_count": 6,
   "id": "atomic-attendance",
   "metadata": {},
   "outputs": [],
   "source": [
    "class CustomModel(nn.Module):\n",
    "    def __init__(self, input_dim, output_dim):\n",
    "        super(CustomModel, self).__init__()\n",
    "        hidden_dims = [10, 15, 10]\n",
    "        \n",
    "        # define diferent layers\n",
    "        self.first_linear = nn.Linear(input_dim, hidden_dims[0])\n",
    "        self.first_activation = nn.Sigmoid()\n",
    "        self.second_linear = nn.Linear(hidden_dims[0], hidden_dims[1])\n",
    "        self.second_activation = nn.Sigmoid()\n",
    "        self.third_linear = nn.Linear(hidden_dims[1], hidden_dims[2])\n",
    "        self.third_activation = nn.Sigmoid()\n",
    "        self.fourth_linear = nn.Linear(hidden_dims[2], output_dim)\n",
    "        self.fourth_activation = nn.Softmax(dim=1)\n",
    "        \n",
    "    def forward(self, x):\n",
    "        z1 = self.first_linear(x)\n",
    "        a1 = self.first_activation(z1)\n",
    "        \n",
    "        z2 = self.second_linear(a1)\n",
    "        a2 = self.second_activation(z2)\n",
    "        \n",
    "        z3 = self.third_linear(a2)\n",
    "        a3 = self.third_activation(z3)\n",
    "        \n",
    "        z4 = self.fourth_linear(a3)\n",
    "        a4 = self.fourth_activation(z4)\n",
    "        \n",
    "        return a4\n",
    "    \n",
    "model = CustomModel(input_size, output_size).double()"
   ]
  },
  {
   "cell_type": "markdown",
   "id": "destroyed-manchester",
   "metadata": {},
   "source": [
    "# 3. Loss, Optimizer, and Hyperparameters for Optimization"
   ]
  },
  {
   "cell_type": "code",
   "execution_count": 7,
   "id": "substantial-hudson",
   "metadata": {},
   "outputs": [],
   "source": [
    "learning_rate = 0.01\n",
    "weight_decay = 0.95\n",
    "num_epochs = 1000\n",
    "momentum=0.9\n",
    "\n",
    "#For regression, mean squared error loss\n",
    "loss = nn.CrossEntropyLoss()\n",
    "#For classification, binary cross-entropy loss\n",
    "#loss = nn.BCELoss()\n",
    "optimizer = torch.optim.SGD(model.parameters(), lr=learning_rate, weight_decay=weight_decay, momentum = momentum)"
   ]
  },
  {
   "cell_type": "markdown",
   "id": "average-oxford",
   "metadata": {},
   "source": [
    "# 4. Training Loop"
   ]
  },
  {
   "cell_type": "code",
   "execution_count": 8,
   "id": "blank-blade",
   "metadata": {
    "scrolled": true
   },
   "outputs": [],
   "source": [
    "epochs = range(1, num_epochs+1)\n",
    "losses = np.zeros((num_epochs,))\n",
    "\n",
    "# Load whole dataset with DataLoader\n",
    "# shuffle: shuffle data, good for training\n",
    "# num_workers: faster loading with multiple subprocesses\n",
    "# !!! IF YOU GET AN ERROR DURING LOADING, SET num_workers TO 0 !!!\n",
    "train_loader = DataLoader(dataset=train_dataset,\n",
    "                          batch_size=32,\n",
    "                          shuffle=True,\n",
    "                          num_workers=0)\n",
    "\n",
    "total_samples = len(dataset)\n",
    "n_iterations = math.ceil(total_samples/4)\n",
    "\n",
    "for epoch in epochs:\n",
    "    for i, batch in enumerate(train_loader):\n",
    "        inputs, labels = batch\n",
    "        #Forward\n",
    "        y_pred = model(inputs)\n",
    "    \n",
    "        #Calculate loss for backprop\n",
    "        l = loss(y_pred, labels.type(torch.LongTensor))\n",
    "        l.backward()\n",
    "    \n",
    "        #Optimization Step\n",
    "        optimizer.step()\n",
    "    \n",
    "        #Zero the gradiens\n",
    "        optimizer.zero_grad()\n",
    "    \n",
    "    #Record the loss after the epoch\n",
    "    losses[epoch-1] = l"
   ]
  },
  {
   "cell_type": "markdown",
   "id": "cubic-modification",
   "metadata": {},
   "source": [
    "## 4.1 Plot Training Performance"
   ]
  },
  {
   "cell_type": "code",
   "execution_count": 9,
   "id": "acquired-account",
   "metadata": {},
   "outputs": [
    {
     "data": {
      "image/png": "[encoded data removed]",
      "text/plain": [
       "<Figure size 432x288 with 1 Axes>"
      ]
     },
     "metadata": {
      "needs_background": "light"
     },
     "output_type": "display_data"
    }
   ],
   "source": [
    "fig, ax = plt.subplots()\n",
    "ax.plot(epochs, losses)\n",
    "\n",
    "ax.set(xlabel='Epochs', ylabel='Training Loss',\n",
    "       title='Training loss vs iterations')\n",
    "ax.grid()\n",
    "\n",
    "fig.savefig(\"test.png\")\n",
    "plt.show()\n",
    "\n",
    "plt.close()"
   ]
  },
  {
   "cell_type": "markdown",
   "id": "conscious-flashing",
   "metadata": {},
   "source": [
    "# 5 Performance Reporting"
   ]
  },
  {
   "cell_type": "code",
   "execution_count": null,
   "id": "brutal-nomination",
   "metadata": {},
   "outputs": [],
   "source": []
  }
 ],
 "metadata": {
  "kernelspec": {
   "display_name": "Python 3",
   "language": "python",
   "name": "python3"
  },
  "language_info": {
   "codemirror_mode": {
    "name": "ipython",
    "version": 3
   },
   "file_extension": ".py",
   "mimetype": "text/x-python",
   "name": "python",
   "nbconvert_exporter": "python",
   "pygments_lexer": "ipython3",
   "version": "3.8.8"
  }
 },
 "nbformat": 4,
 "nbformat_minor": 5
}
