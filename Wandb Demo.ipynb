{
 "cells": [
  {
   "cell_type": "code",
   "execution_count": 1,
   "id": "ideal-timothy",
   "metadata": {},
   "outputs": [
    {
     "name": "stderr",
     "output_type": "stream",
     "text": [
      "usage: ipykernel_launcher.py [-h] [--seed SEED] [--accumulate_grad_batches ACCUMULATE_GRAD_BATCHES] [--lr LR]\n",
      "                             [--max_epochs MAX_EPOCHS] [--train_batch_size TRAIN_BATCH_SIZE]\n",
      "                             [--eval_batch_size EVAL_BATCH_SIZE] [--warmup_ratio WARMUP_RATIO]\n",
      "                             [--weight_decay WEIGHT_DECAY] [--save_weights SAVE_WEIGHTS] [--model {svm,model2}]\n",
      "                             [--dropout DROPOUT] [--wandb_mode {online,offline,disabled}]\n",
      "ipykernel_launcher.py: error: unrecognized arguments: -f C:\\Users\\Rochester\\AppData\\Roaming\\jupyter\\runtime\\kernel-55dc7939-8636-46dc-ba69-02d35b8674fb.json\n"
     ]
    },
    {
     "ename": "SystemExit",
     "evalue": "2",
     "output_type": "error",
     "traceback": [
      "An exception has occurred, use %tb to see the full traceback.\n",
      "\u001b[1;31mSystemExit\u001b[0m\u001b[1;31m:\u001b[0m 2\n"
     ]
    },
    {
     "name": "stderr",
     "output_type": "stream",
     "text": [
      "C:\\Users\\Rochester\\Anaconda3\\envs\\park_motor\\lib\\site-packages\\IPython\\core\\interactiveshell.py:3445: UserWarning: To exit: use 'exit', 'quit', or Ctrl-D.\n",
      "  warn(\"To exit: use 'exit', 'quit', or Ctrl-D.\", stacklevel=1)\n"
     ]
    }
   ],
   "source": [
    "import os, random\n",
    "import wandb\n",
    "from tqdm import tqdm\n",
    "import torch\n",
    "import torch.nn as nn\n",
    "from torch.utils.data import Dataset, DataLoader\n",
    "from torch.optim import AdamW\n",
    "from sklearn.metrics import accuracy_score, roc_auc_score\n",
    "from argparse import ArgumentParser\n",
    "\n",
    "parser = ArgumentParser()\n",
    "parser.add_argument(\"--seed\", type=int, default=-1)\n",
    "parser.add_argument(\"--accumulate_grad_batches\", type=int, default=1)\n",
    "parser.add_argument(\"--lr\", type=float, default=1e-3)\n",
    "parser.add_argument(\"--max_epochs\", type=int, default=20)\n",
    "parser.add_argument(\"--train_batch_size\", type=int, default=128)\n",
    "parser.add_argument(\"--eval_batch_size\", type=int, default=128)\n",
    "parser.add_argument(\"--warmup_ratio\", type=float, default=0.1)\n",
    "parser.add_argument(\"--weight_decay\", type=float, default=1e-3)\n",
    "parser.add_argument(\"--save_weights\", type=str, default=\"\")\n",
    "parser.add_argument(\n",
    "    \"--model\",\n",
    "    type=str,\n",
    "    default=\"svm\",\n",
    "    choices=[\"svm\", \"model2\"],\n",
    ")\n",
    "parser.add_argument(\"--dropout\", type=float, default=0.1)\n",
    "parser.add_argument(\n",
    "    \"--wandb_mode\",\n",
    "    type=str,\n",
    "    default=\"online\",\n",
    "    choices=[\"online\", \"offline\", \"disabled\"],\n",
    ")\n",
    "hparams = vars(parser.parse_args())\n",
    "\n",
    "# set seed\n",
    "if hparams[\"seed\"] < 0:\n",
    "    hparams[\"seed\"] = random.randint(0, 9999)\n",
    "    \n",
    "if __name__ == \"__main__\":\n",
    "    wandb.init(project=\"park-motor\", mode=hparams[\"wandb_mode\"])\n",
    "    wandb.config.update(hparams)\n",
    "\n",
    "    print(hparams)"
   ]
  },
  {
   "cell_type": "code",
   "execution_count": 2,
   "id": "dedicated-agency",
   "metadata": {},
   "outputs": [
    {
     "name": "stderr",
     "output_type": "stream",
     "text": [
      "wandb: Currently logged in as: mislam6 (use `wandb login --relogin` to force relogin)\n",
      "wandb: wandb version 0.10.32 is available!  To upgrade, please run:\n",
      "wandb:  $ pip install wandb --upgrade\n"
     ]
    },
    {
     "data": {
      "text/html": [
       "\n",
       "                Tracking run with wandb version 0.10.27<br/>\n",
       "                Syncing run <strong style=\"color:#cdcd00\">dainty-surf-2</strong> to <a href=\"https://wandb.ai\" target=\"_blank\">Weights & Biases</a> <a href=\"https://docs.wandb.com/integrations/jupyter.html\" target=\"_blank\">(Documentation)</a>.<br/>\n",
       "                Project page: <a href=\"https://wandb.ai/mislam6/park_motor\" target=\"_blank\">https://wandb.ai/mislam6/park_motor</a><br/>\n",
       "                Run page: <a href=\"https://wandb.ai/mislam6/park_motor/runs/3eeqmhjf\" target=\"_blank\">https://wandb.ai/mislam6/park_motor/runs/3eeqmhjf</a><br/>\n",
       "                Run data is saved locally in <code>C:\\Wasif\\PDMotorFeatureExtraction\\wandb\\run-20210616_104104-3eeqmhjf</code><br/><br/>\n",
       "            "
      ],
      "text/plain": [
       "<IPython.core.display.HTML object>"
      ]
     },
     "metadata": {},
     "output_type": "display_data"
    },
    {
     "data": {
      "text/html": [
       "<h1>Run(3eeqmhjf)</h1><iframe src=\"https://wandb.ai/mislam6/park_motor/runs/3eeqmhjf\" style=\"border:none;width:100%;height:400px\"></iframe>"
      ],
      "text/plain": [
       "<wandb.sdk.wandb_run.Run at 0x11b57ea97c0>"
      ]
     },
     "execution_count": 2,
     "metadata": {},
     "output_type": "execute_result"
    }
   ],
   "source": [
    "import wandb\n",
    "wandb.init(project='park_motor', entity='mislam6')"
   ]
  },
  {
   "cell_type": "code",
   "execution_count": null,
   "id": "continued-discretion",
   "metadata": {},
   "outputs": [],
   "source": []
  }
 ],
 "metadata": {
  "kernelspec": {
   "display_name": "Python 3",
   "language": "python",
   "name": "python3"
  },
  "language_info": {
   "codemirror_mode": {
    "name": "ipython",
    "version": 3
   },
   "file_extension": ".py",
   "mimetype": "text/x-python",
   "name": "python",
   "nbconvert_exporter": "python",
   "pygments_lexer": "ipython3",
   "version": "3.8.8"
  }
 },
 "nbformat": 4,
 "nbformat_minor": 5
}
