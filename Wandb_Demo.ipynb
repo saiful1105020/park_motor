{
 "cells": [
  {
   "cell_type": "code",
   "execution_count": 1,
   "id": "bacterial-canadian",
   "metadata": {},
   "outputs": [],
   "source": [
    "%%capture\n",
    "!pip install wandb -qqq\n",
    "import wandb"
   ]
  },
  {
   "cell_type": "code",
   "execution_count": 2,
   "id": "fantastic-question",
   "metadata": {},
   "outputs": [
    {
     "name": "stderr",
     "output_type": "stream",
     "text": [
      "wandb: Appending key for api.wandb.ai to your netrc file: C:\\Users\\Rochester/.netrc\n"
     ]
    }
   ],
   "source": [
    "!wandb login 3007ae65cabf425d77cc86800fe2f083bd69c455"
   ]
  },
  {
   "cell_type": "code",
   "execution_count": 6,
   "id": "general-accent",
   "metadata": {},
   "outputs": [
    {
     "data": {
      "text/html": [
       "\n",
       "                Tracking run with wandb version 0.10.27<br/>\n",
       "                Syncing run <strong style=\"color:#cdcd00\">legendary-glade-1</strong> to <a href=\"https://wandb.ai\" target=\"_blank\">Weights & Biases</a> <a href=\"https://docs.wandb.com/integrations/jupyter.html\" target=\"_blank\">(Documentation)</a>.<br/>\n",
       "                Project page: <a href=\"https://wandb.ai/mislam6/intro-demo\" target=\"_blank\">https://wandb.ai/mislam6/intro-demo</a><br/>\n",
       "                Run page: <a href=\"https://wandb.ai/mislam6/intro-demo/runs/xvf8b8tr\" target=\"_blank\">https://wandb.ai/mislam6/intro-demo/runs/xvf8b8tr</a><br/>\n",
       "                Run data is saved locally in <code>C:\\Wasif\\PD Motor Feature Extraction\\wandb\\run-20210425_143854-xvf8b8tr</code><br/><br/>\n",
       "            "
      ],
      "text/plain": [
       "<IPython.core.display.HTML object>"
      ]
     },
     "metadata": {},
     "output_type": "display_data"
    },
    {
     "name": "stdout",
     "output_type": "stream",
     "text": [
      "Downloading data from https://storage.googleapis.com/tensorflow/tf-keras-datasets/mnist.npz\n",
      "11493376/11490434 [==============================] - 5s 0us/step\n",
      "Epoch 1/6\n",
      "375/375 [==============================] - 3s 6ms/step - loss: 1.6880 - accuracy: 0.5183 - val_loss: 0.6947 - val_accuracy: 0.8576\n",
      "Epoch 2/6\n",
      "375/375 [==============================] - 1s 4ms/step - loss: 0.6573 - accuracy: 0.8410 - val_loss: 0.4804 - val_accuracy: 0.8836\n",
      "Epoch 3/6\n",
      "375/375 [==============================] - 1s 4ms/step - loss: 0.4850 - accuracy: 0.8789 - val_loss: 0.4067 - val_accuracy: 0.8956\n",
      "Epoch 4/6\n",
      "375/375 [==============================] - 1s 4ms/step - loss: 0.4208 - accuracy: 0.8857 - val_loss: 0.3695 - val_accuracy: 0.9010\n",
      "Epoch 5/6\n",
      "375/375 [==============================] - 1s 4ms/step - loss: 0.3762 - accuracy: 0.8989 - val_loss: 0.3463 - val_accuracy: 0.9046\n",
      "Epoch 6/6\n",
      "375/375 [==============================] - 1s 4ms/step - loss: 0.3516 - accuracy: 0.9046 - val_loss: 0.3271 - val_accuracy: 0.9116\n"
     ]
    },
    {
     "data": {
      "text/html": [
       "<br/>Waiting for W&B process to finish, PID 5772<br/>Program ended successfully."
      ],
      "text/plain": [
       "<IPython.core.display.HTML object>"
      ]
     },
     "metadata": {},
     "output_type": "display_data"
    },
    {
     "data": {
      "application/vnd.jupyter.widget-view+json": {
       "model_id": "",
       "version_major": 2,
       "version_minor": 0
      },
      "text/plain": [
       "VBox(children=(Label(value=' 1.57MB of 1.57MB uploaded (0.00MB deduped)\\r'), FloatProgress(value=1.0, max=1.0)…"
      ]
     },
     "metadata": {},
     "output_type": "display_data"
    },
    {
     "data": {
      "text/html": [
       "Find user logs for this run at: <code>C:\\Wasif\\PD Motor Feature Extraction\\wandb\\run-20210425_143854-xvf8b8tr\\logs\\debug.log</code>"
      ],
      "text/plain": [
       "<IPython.core.display.HTML object>"
      ]
     },
     "metadata": {},
     "output_type": "display_data"
    },
    {
     "data": {
      "text/html": [
       "Find internal logs for this run at: <code>C:\\Wasif\\PD Motor Feature Extraction\\wandb\\run-20210425_143854-xvf8b8tr\\logs\\debug-internal.log</code>"
      ],
      "text/plain": [
       "<IPython.core.display.HTML object>"
      ]
     },
     "metadata": {},
     "output_type": "display_data"
    },
    {
     "data": {
      "text/html": [
       "<h3>Run summary:</h3><br/><style>\n",
       "    table.wandb td:nth-child(1) { padding: 0 10px; text-align: right }\n",
       "    </style><table class=\"wandb\">\n",
       "<tr><td>epoch</td><td>5</td></tr><tr><td>loss</td><td>0.34582</td></tr><tr><td>accuracy</td><td>0.90508</td></tr><tr><td>val_loss</td><td>0.32711</td></tr><tr><td>val_accuracy</td><td>0.9116</td></tr><tr><td>_runtime</td><td>27</td></tr><tr><td>_timestamp</td><td>1619375961</td></tr><tr><td>_step</td><td>5</td></tr><tr><td>best_val_loss</td><td>0.32711</td></tr><tr><td>best_epoch</td><td>5</td></tr></table>"
      ],
      "text/plain": [
       "<IPython.core.display.HTML object>"
      ]
     },
     "metadata": {},
     "output_type": "display_data"
    },
    {
     "data": {
      "text/html": [
       "<h3>Run history:</h3><br/><style>\n",
       "    table.wandb td:nth-child(1) { padding: 0 10px; text-align: right }\n",
       "    </style><table class=\"wandb\">\n",
       "<tr><td>epoch</td><td>▁▂▄▅▇█</td></tr><tr><td>loss</td><td>█▃▂▁▁▁</td></tr><tr><td>accuracy</td><td>▁▆▇███</td></tr><tr><td>val_loss</td><td>█▄▃▂▁▁</td></tr><tr><td>val_accuracy</td><td>▁▄▆▇▇█</td></tr><tr><td>_runtime</td><td>▁▂▄▅▇█</td></tr><tr><td>_timestamp</td><td>▁▂▄▅▇█</td></tr><tr><td>_step</td><td>▁▂▄▅▇█</td></tr></table><br/>"
      ],
      "text/plain": [
       "<IPython.core.display.HTML object>"
      ]
     },
     "metadata": {},
     "output_type": "display_data"
    },
    {
     "data": {
      "text/html": [
       "Synced 6 W&B file(s), 1 media file(s), 0 artifact file(s) and 1 other file(s)"
      ],
      "text/plain": [
       "<IPython.core.display.HTML object>"
      ]
     },
     "metadata": {},
     "output_type": "display_data"
    },
    {
     "data": {
      "text/html": [
       "\n",
       "                    <br/>Synced <strong style=\"color:#cdcd00\">legendary-glade-1</strong>: <a href=\"https://wandb.ai/mislam6/intro-demo/runs/xvf8b8tr\" target=\"_blank\">https://wandb.ai/mislam6/intro-demo/runs/xvf8b8tr</a><br/>\n",
       "                "
      ],
      "text/plain": [
       "<IPython.core.display.HTML object>"
      ]
     },
     "metadata": {},
     "output_type": "display_data"
    }
   ],
   "source": [
    "# Simple Keras Model\n",
    "\n",
    "import tensorflow as tf\n",
    "from tensorflow.keras.callbacks import Callback\n",
    "from wandb.keras import WandbCallback\n",
    "\n",
    "# Set an experiment name to group training and evaluation\n",
    "experiment_name = wandb.util.generate_id()\n",
    "\n",
    "# Start a run, tracking hyperparameters\n",
    "wandb.init(\n",
    "    project=\"intro-demo\",\n",
    "    group=experiment_name,\n",
    "    config={\n",
    "        \"layer_1\": 512,\n",
    "        \"activation_1\": \"relu\",\n",
    "        \"dropout\": 0.2,\n",
    "        \"layer_2\": 10,\n",
    "        \"activation_2\": \"softmax\",\n",
    "        \"optimizer\": \"sgd\",\n",
    "        \"loss\": \"sparse_categorical_crossentropy\",\n",
    "        \"metric\": \"accuracy\",\n",
    "        \"epoch\": 6,\n",
    "        \"batch_size\": 32\n",
    "    })\n",
    "config = wandb.config\n",
    "\n",
    "# Get the data\n",
    "mnist = tf.keras.datasets.mnist\n",
    "(x_train, y_train), (x_test, y_test) = mnist.load_data()\n",
    "x_train, x_test = x_train / 255.0, x_test / 255.0\n",
    "x_train, y_train = x_train[::5], y_train[::5]  # Subset data for a faster demo\n",
    "\n",
    "# Build a model\n",
    "model = tf.keras.models.Sequential([\n",
    "    tf.keras.layers.Flatten(input_shape=(28, 28)),\n",
    "    tf.keras.layers.Dense(config.layer_1, activation=config.activation_1),\n",
    "    tf.keras.layers.Dropout(config.dropout),\n",
    "    tf.keras.layers.Dense(config.layer_2, activation=config.activation_2)\n",
    "    ])\n",
    "\n",
    "model.compile(optimizer=config.optimizer,\n",
    "              loss=config.loss,\n",
    "              metrics=[config.metric]\n",
    "              )\n",
    "\n",
    "history = model.fit(x=x_train,\n",
    "                    y=y_train,\n",
    "                    epochs=config.epoch,\n",
    "                    batch_size=config.batch_size,\n",
    "                    validation_data=(x_test, y_test),\n",
    "                    # Use the WandbCallback to automatically save all the\n",
    "                    # metrics tracked in model.fit() to your dashboard\n",
    "                    callbacks=[WandbCallback()]\n",
    "                    )\n",
    "\n",
    "wandb.finish()"
   ]
  },
  {
   "cell_type": "code",
   "execution_count": null,
   "id": "ceramic-excerpt",
   "metadata": {},
   "outputs": [],
   "source": []
  }
 ],
 "metadata": {
  "kernelspec": {
   "display_name": "Python 3",
   "language": "python",
   "name": "python3"
  },
  "language_info": {
   "codemirror_mode": {
    "name": "ipython",
    "version": 3
   },
   "file_extension": ".py",
   "mimetype": "text/x-python",
   "name": "python",
   "nbconvert_exporter": "python",
   "pygments_lexer": "ipython3",
   "version": "3.8.8"
  }
 },
 "nbformat": 4,
 "nbformat_minor": 5
}
